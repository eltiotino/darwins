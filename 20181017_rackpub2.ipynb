{
  "nbformat": 4,
  "nbformat_minor": 0,
  "metadata": {
    "colab": {
      "name": "20181017 rackpub2.ipynb",
      "version": "0.3.2",
      "provenance": [],
      "collapsed_sections": [],
      "include_colab_link": true
    },
    "kernelspec": {
      "name": "python3",
      "display_name": "Python 3"
    }
  },
  "cells": [
    {
      "cell_type": "markdown",
      "metadata": {
        "id": "view-in-github",
        "colab_type": "text"
      },
      "source": [
        "[View in Colaboratory](https://colab.research.google.com/github/eltiotino/darwins/blob/master/20181017_rackpub2.ipynb)"
      ]
    },
    {
      "metadata": {
        "id": "Gs_2C_lU9I32",
        "colab_type": "code",
        "outputId": "9a509bac-9800-4ba4-b3a2-481aa9abbd74",
        "colab": {
          "base_uri": "https://localhost:8080/",
          "height": 955
        }
      },
      "cell_type": "code",
      "source": [
        "#carga todas las librerias en colab\n",
        "%pylab inline\n",
        "!pip install pandas-datareader\n",
        "import matplotlib.pyplot as plt\n",
        "import tensorflow as tf\n",
        "import numpy as np\n",
        "import numpy.random as rng\n",
        "import pandas_datareader.data as web\n",
        "import numpy as np\n",
        "import pandas as pd\n",
        "!pip install ta\n",
        "import ta\n",
        "pd.core.common.is_list_like = pd.api.types.is_list_like\n",
        "from pandas_datareader import data as pdr\n",
        "!pip install fix_yahoo_finance\n",
        "!pip install ffn\n",
        "import fix_yahoo_finance as yf\n",
        "import ffn\n",
        "yf.pdr_override() # Importamos Pandas Datareader y lo parcheamos para que funcione con Yahoo\n"
      ],
      "execution_count": 1,
      "outputs": [
        {
          "output_type": "stream",
          "text": [
            "Populating the interactive namespace from numpy and matplotlib\n",
            "Requirement already satisfied: pandas-datareader in /usr/local/lib/python3.6/dist-packages (0.7.0)\n",
            "Requirement already satisfied: pandas>=0.19.2 in /usr/local/lib/python3.6/dist-packages (from pandas-datareader) (0.22.0)\n",
            "Requirement already satisfied: wrapt in /usr/local/lib/python3.6/dist-packages (from pandas-datareader) (1.10.11)\n",
            "Requirement already satisfied: requests>=2.3.0 in /usr/local/lib/python3.6/dist-packages (from pandas-datareader) (2.18.4)\n",
            "Requirement already satisfied: lxml in /usr/local/lib/python3.6/dist-packages (from pandas-datareader) (4.2.5)\n",
            "Requirement already satisfied: pytz>=2011k in /usr/local/lib/python3.6/dist-packages (from pandas>=0.19.2->pandas-datareader) (2018.5)\n",
            "Requirement already satisfied: numpy>=1.9.0 in /usr/local/lib/python3.6/dist-packages (from pandas>=0.19.2->pandas-datareader) (1.14.6)\n",
            "Requirement already satisfied: python-dateutil>=2 in /usr/local/lib/python3.6/dist-packages (from pandas>=0.19.2->pandas-datareader) (2.5.3)\n",
            "Requirement already satisfied: certifi>=2017.4.17 in /usr/local/lib/python3.6/dist-packages (from requests>=2.3.0->pandas-datareader) (2018.10.15)\n",
            "Requirement already satisfied: urllib3<1.23,>=1.21.1 in /usr/local/lib/python3.6/dist-packages (from requests>=2.3.0->pandas-datareader) (1.22)\n",
            "Requirement already satisfied: chardet<3.1.0,>=3.0.2 in /usr/local/lib/python3.6/dist-packages (from requests>=2.3.0->pandas-datareader) (3.0.4)\n",
            "Requirement already satisfied: idna<2.7,>=2.5 in /usr/local/lib/python3.6/dist-packages (from requests>=2.3.0->pandas-datareader) (2.6)\n",
            "Requirement already satisfied: six>=1.5 in /usr/local/lib/python3.6/dist-packages (from python-dateutil>=2->pandas>=0.19.2->pandas-datareader) (1.11.0)\n",
            "Requirement already satisfied: ta in /usr/local/lib/python3.6/dist-packages (0.3.6)\n",
            "Requirement already satisfied: pandas in /usr/local/lib/python3.6/dist-packages (from ta) (0.22.0)\n",
            "Requirement already satisfied: numpy in /usr/local/lib/python3.6/dist-packages (from ta) (1.14.6)\n",
            "Requirement already satisfied: pytz>=2011k in /usr/local/lib/python3.6/dist-packages (from pandas->ta) (2018.5)\n",
            "Requirement already satisfied: python-dateutil>=2 in /usr/local/lib/python3.6/dist-packages (from pandas->ta) (2.5.3)\n",
            "Requirement already satisfied: six>=1.5 in /usr/local/lib/python3.6/dist-packages (from python-dateutil>=2->pandas->ta) (1.11.0)\n",
            "Requirement already satisfied: fix_yahoo_finance in /usr/local/lib/python3.6/dist-packages (0.0.22)\n",
            "Requirement already satisfied: multitasking in /usr/local/lib/python3.6/dist-packages (from fix_yahoo_finance) (0.0.7)\n",
            "Requirement already satisfied: numpy in /usr/local/lib/python3.6/dist-packages (from fix_yahoo_finance) (1.14.6)\n",
            "Requirement already satisfied: requests in /usr/local/lib/python3.6/dist-packages (from fix_yahoo_finance) (2.18.4)\n",
            "Requirement already satisfied: pandas in /usr/local/lib/python3.6/dist-packages (from fix_yahoo_finance) (0.22.0)\n",
            "Requirement already satisfied: certifi>=2017.4.17 in /usr/local/lib/python3.6/dist-packages (from requests->fix_yahoo_finance) (2018.10.15)\n",
            "Requirement already satisfied: urllib3<1.23,>=1.21.1 in /usr/local/lib/python3.6/dist-packages (from requests->fix_yahoo_finance) (1.22)\n",
            "Requirement already satisfied: chardet<3.1.0,>=3.0.2 in /usr/local/lib/python3.6/dist-packages (from requests->fix_yahoo_finance) (3.0.4)\n",
            "Requirement already satisfied: idna<2.7,>=2.5 in /usr/local/lib/python3.6/dist-packages (from requests->fix_yahoo_finance) (2.6)\n",
            "Requirement already satisfied: python-dateutil>=2 in /usr/local/lib/python3.6/dist-packages (from pandas->fix_yahoo_finance) (2.5.3)\n",
            "Requirement already satisfied: pytz>=2011k in /usr/local/lib/python3.6/dist-packages (from pandas->fix_yahoo_finance) (2018.5)\n",
            "Requirement already satisfied: six>=1.5 in /usr/local/lib/python3.6/dist-packages (from python-dateutil>=2->pandas->fix_yahoo_finance) (1.11.0)\n",
            "Requirement already satisfied: ffn in /usr/local/lib/python3.6/dist-packages (0.3.4)\n",
            "Requirement already satisfied: decorator>=4 in /usr/local/lib/python3.6/dist-packages (from ffn) (4.3.0)\n",
            "Requirement already satisfied: pandas>=0.19 in /usr/local/lib/python3.6/dist-packages (from ffn) (0.22.0)\n",
            "Requirement already satisfied: pandas-datareader>=0.2 in /usr/local/lib/python3.6/dist-packages (from ffn) (0.7.0)\n",
            "Requirement already satisfied: matplotlib>=1 in /usr/local/lib/python3.6/dist-packages (from ffn) (2.1.2)\n",
            "Requirement already satisfied: scikit-learn>=0.15 in /usr/local/lib/python3.6/dist-packages (from ffn) (0.19.2)\n",
            "Requirement already satisfied: future>=0.15 in /usr/local/lib/python3.6/dist-packages (from ffn) (0.16.0)\n",
            "Requirement already satisfied: tabulate>=0.7.5 in /usr/local/lib/python3.6/dist-packages (from ffn) (0.8.2)\n",
            "Requirement already satisfied: numpy>=1.5 in /usr/local/lib/python3.6/dist-packages (from ffn) (1.14.6)\n",
            "Requirement already satisfied: scipy>=0.15 in /usr/local/lib/python3.6/dist-packages (from ffn) (0.19.1)\n",
            "Requirement already satisfied: python-dateutil>=2 in /usr/local/lib/python3.6/dist-packages (from pandas>=0.19->ffn) (2.5.3)\n",
            "Requirement already satisfied: pytz>=2011k in /usr/local/lib/python3.6/dist-packages (from pandas>=0.19->ffn) (2018.5)\n",
            "Requirement already satisfied: lxml in /usr/local/lib/python3.6/dist-packages (from pandas-datareader>=0.2->ffn) (4.2.5)\n",
            "Requirement already satisfied: requests>=2.3.0 in /usr/local/lib/python3.6/dist-packages (from pandas-datareader>=0.2->ffn) (2.18.4)\n",
            "Requirement already satisfied: wrapt in /usr/local/lib/python3.6/dist-packages (from pandas-datareader>=0.2->ffn) (1.10.11)\n",
            "Requirement already satisfied: cycler>=0.10 in /usr/local/lib/python3.6/dist-packages (from matplotlib>=1->ffn) (0.10.0)\n",
            "Requirement already satisfied: pyparsing!=2.0.4,!=2.1.2,!=2.1.6,>=2.0.1 in /usr/local/lib/python3.6/dist-packages (from matplotlib>=1->ffn) (2.2.2)\n",
            "Requirement already satisfied: six>=1.10 in /usr/local/lib/python3.6/dist-packages (from matplotlib>=1->ffn) (1.11.0)\n",
            "Requirement already satisfied: urllib3<1.23,>=1.21.1 in /usr/local/lib/python3.6/dist-packages (from requests>=2.3.0->pandas-datareader>=0.2->ffn) (1.22)\n",
            "Requirement already satisfied: chardet<3.1.0,>=3.0.2 in /usr/local/lib/python3.6/dist-packages (from requests>=2.3.0->pandas-datareader>=0.2->ffn) (3.0.4)\n",
            "Requirement already satisfied: idna<2.7,>=2.5 in /usr/local/lib/python3.6/dist-packages (from requests>=2.3.0->pandas-datareader>=0.2->ffn) (2.6)\n",
            "Requirement already satisfied: certifi>=2017.4.17 in /usr/local/lib/python3.6/dist-packages (from requests>=2.3.0->pandas-datareader>=0.2->ffn) (2018.10.15)\n"
          ],
          "name": "stdout"
        }
      ]
    },
    {
      "metadata": {
        "id": "yYAWXRoT9KM8",
        "colab_type": "code",
        "colab": {}
      },
      "cell_type": "code",
      "source": [
        "\n",
        "def strategy_performance(stock,periodo):  \n",
        "    #stock = pdr.get_data_yahoo(stock_ticker, start=\"2008-01-01\", end=\"2018-10-01\")         \n",
        "    \n",
        "    \n",
        "    #Compute periodo -days breakout and mean.\n",
        "\n",
        "    # 5-days high  \n",
        "    stock['high'] = stock['Adj Close'].shift(1).rolling(window=periodo).max()  \n",
        "    # 5-days low  \n",
        "    stock['low'] = stock['Adj Close'].shift(1).rolling(window=periodo).min()  \n",
        "    # 5-days mean  \n",
        "    stock['avg'] = stock['Adj Close'].shift(1).rolling(window=periodo).mean()  \n",
        "\n",
        "    #Entry Rules\n",
        "    #When the closing price of the stock is greater than the high of past 55 days \n",
        "    #then we go long on the stock and \n",
        "    #when the closing price of the stock is less than the low of past 55 days \n",
        "    #then we go short on the stock.\n",
        "\n",
        "    stock['long_entry'] = stock['Adj Close'] > stock.high         \n",
        "    stock['short_entry'] = stock['Adj Close'] < stock.low  \n",
        "\n",
        "    #stock['signal']=np.where(stock['Adj Close'] > stock.high,1,np.nan)\n",
        "    \n",
        "    #stock['signal']=np.where(stock['Adj Close'] < stock.low,1,stock['signal'])\n",
        "    #Exit Rules\n",
        "\n",
        "    #We will exit the positions if the stock price crosses the mean of past 55 days.\n",
        "\n",
        "    stock['long_exit'] = stock['Adj Close'] < stock.avg  \n",
        "    stock['short_exit'] = stock['Adj Close'] > stock.avg  \n",
        "\n",
        "    #stock['signal']=np.where(stock['Adj Close'].shift() > stock.avg.shift(),0,stock['signal'])\n",
        "    #stock['signal']=np.where(stock['Adj Close'].shift() < stock.avg.shift(),0,stock['signal'])\n",
        "\n",
        "    \n",
        "    #Positions\n",
        "    \n",
        "    #We will now store the entry and exit signal in a single column. Long position is indicated by 1, short position is indicated by -1 and exit or no position is indicated by 0. We will carry forward the previous position if no position exists for a time period using the fillna method.\n",
        "\n",
        "    stock['positions_long'] = np.nan    \n",
        "    stock.loc[stock.long_entry,'positions_long']= 1    \n",
        "    stock.loc[stock.long_exit,'positions_long']= 0    \n",
        "    \n",
        "    stock['positions_short'] = np.nan    \n",
        "    stock.loc[stock.short_entry,'positions_short']= 0    \n",
        "    stock.loc[stock.short_exit,'positions_short']= 0    \n",
        "  \n",
        "    stock['Signal'] = stock.positions_long + stock.positions_short  \n",
        "  \n",
        "    stock= stock.fillna(method='ffill')   \n",
        "    #stock=stock.fillna(0,inplace=True)\n",
        "    \n",
        "    #print(stock)\n",
        "    #Strategy Returns\n",
        "    \n",
        "    #We have computed the log returns of the stock and multiplied with the Signal (1,-1 or 0) to get the strategy returns.\n",
        "\n",
        "    daily_log_returns = np.log(stock['Adj Close']/stock['Adj Close'].shift(1))  \n",
        "    daily_log_returns = daily_log_returns * stock.Signal.shift(1)  \n",
        "  \n",
        "    # Plot the distribution of 'daily_log_returns'  \n",
        "    #print (stock)  \n",
        "    daily_log_returns.hist(bins=50)  \n",
        "    plt.show()  \n",
        "    return daily_log_returns.cumsum() \n",
        "\n"
      ],
      "execution_count": 0,
      "outputs": []
    },
    {
      "metadata": {
        "id": "I5n1rhQ-mtNe",
        "colab_type": "code",
        "colab": {}
      },
      "cell_type": "code",
      "source": [
        ""
      ],
      "execution_count": 0,
      "outputs": []
    },
    {
      "metadata": {
        "id": "jpBrE4xiAxU0",
        "colab_type": "code",
        "outputId": "f1f2afd0-4580-4343-9582-29e5780e0d6c",
        "colab": {
          "base_uri": "https://localhost:8080/",
          "height": 7118
        }
      },
      "cell_type": "code",
      "source": [
        "\n",
        "#Step 3: Create a portfolio of stocks and calculate the strategy performance for each stock.\n",
        "\n",
        "portfolio = ['AAPL','KMI','F','GOOG','AMZN']\n",
        "portfolio = ['MMM','GOOG','xlu','AAPL']\n",
        "portfolio = ['tef.mc','san.mc','itx.mc','rep.mc']\n",
        "\n",
        "periodos = [ 5, 10 , 20 , 40 ,60, 110, 220]\n",
        "#portfolio = ['QQQ']\n",
        "#periodos = [ 5]\n",
        "cum_daily_log_return = pd.DataFrame()  \n",
        "for stock in portfolio:   \n",
        "  print ('*****  ',stock,'    ******')\n",
        "  pstock = pdr.get_data_yahoo(stock, start=\"2008-01-01\", end=\"2018-10-01\")         \n",
        "\n",
        "  for periodo in periodos:\n",
        "    nombre='{}_l{}'.format(stock,periodo)\n",
        "    cum_daily_log_return[nombre] = strategy_performance(pstock,periodo)  \n",
        "\n",
        "# Plot the cumulative daily returns  \n",
        "print (\"Cumulative Daily Returns\")  \n",
        "#cum_daily_log_return.plot()  \n",
        "# Show the plot  \n",
        "#plt.show()  "
      ],
      "execution_count": 3,
      "outputs": [
        {
          "output_type": "stream",
          "text": [
            "*****   tef.mc     ******\n",
            "[*********************100%***********************]  1 of 1 downloaded\n"
          ],
          "name": "stdout"
        },
        {
          "output_type": "display_data",
          "data": {
            "image/png": "[encoded data removed]",
            "text/plain": [
              "<matplotlib.figure.Figure at 0x7fc454c85898>"
            ]
          },
          "metadata": {
            "tags": []
          }
        },
        {
          "output_type": "display_data",
          "data": {
            "image/png": "[encoded data removed]",
            "text/plain": [
              "<matplotlib.figure.Figure at 0x7fc454bdbf98>"
            ]
          },
          "metadata": {
            "tags": []
          }
        },
        {
          "output_type": "display_data",
          "data": {
            "image/png": "[encoded data removed]",
            "text/plain": [
              "<matplotlib.figure.Figure at 0x7fc45230b710>"
            ]
          },
          "metadata": {
            "tags": []
          }
        },
        {
          "output_type": "display_data",
          "data": {
            "image/png": "[encoded data removed]",
            "text/plain": [
              "<matplotlib.figure.Figure at 0x7fc45227feb8>"
            ]
          },
          "metadata": {
            "tags": []
          }
        },
        {
          "output_type": "display_data",
          "data": {
            "image/png": "[encoded data removed]",
            "text/plain": [
              "<matplotlib.figure.Figure at 0x7fc45229f7b8>"
            ]
          },
          "metadata": {
            "tags": []
          }
        },
        {
          "output_type": "display_data",
          "data": {
            "image/png": "[encoded data removed]",
            "text/plain": [
              "<matplotlib.figure.Figure at 0x7fc4521f9080>"
            ]
          },
          "metadata": {
            "tags": []
          }
        },
        {
          "output_type": "display_data",
          "data": {
            "image/png": "[encoded data removed]",
            "text/plain": [
              "<matplotlib.figure.Figure at 0x7fc452152780>"
            ]
          },
          "metadata": {
            "tags": []
          }
        },
        {
          "output_type": "stream",
          "text": [
            "*****   san.mc     ******\n",
            "[*********************100%***********************]  1 of 1 downloaded\n"
          ],
          "name": "stdout"
        },
        {
          "output_type": "display_data",
          "data": {
            "image/png": "[encoded data removed]",
            "text/plain": [
              "<matplotlib.figure.Figure at 0x7fc4520835c0>"
            ]
          },
          "metadata": {
            "tags": []
          }
        },
        {
          "output_type": "display_data",
          "data": {
            "image/png": "[encoded data removed]",
            "text/plain": [
              "<matplotlib.figure.Figure at 0x7fc45202ab00>"
            ]
          },
          "metadata": {
            "tags": []
          }
        },
        {
          "output_type": "display_data",
          "data": {
            "image/png": "[encoded data removed]",
            "text/plain": [
              "<matplotlib.figure.Figure at 0x7fc451f56748>"
            ]
          },
          "metadata": {
            "tags": []
          }
        },
        {
          "output_type": "display_data",
          "data": {
            "image/png": "[encoded data removed]",
            "text/plain": [
              "<matplotlib.figure.Figure at 0x7fc451e14908>"
            ]
          },
          "metadata": {
            "tags": []
          }
        },
        {
          "output_type": "display_data",
          "data": {
            "image/png": "[encoded data removed]",
            "text/plain": [
              "<matplotlib.figure.Figure at 0x7fc451d7ab38>"
            ]
          },
          "metadata": {
            "tags": []
          }
        },
        {
          "output_type": "display_data",
          "data": {
            "image/png": "[encoded data removed]",
            "text/plain": [
              "<matplotlib.figure.Figure at 0x7fc451d21a90>"
            ]
          },
          "metadata": {
            "tags": []
          }
        },
        {
          "output_type": "display_data",
          "data": {
            "image/png": "[encoded data removed]",
            "text/plain": [
              "<matplotlib.figure.Figure at 0x7fc451bf5c88>"
            ]
          },
          "metadata": {
            "tags": []
          }
        },
        {
          "output_type": "stream",
          "text": [
            "*****   itx.mc     ******\n",
            "[*********************100%***********************]  1 of 1 downloaded\n"
          ],
          "name": "stdout"
        },
        {
          "output_type": "display_data",
          "data": {
            "image/png": "[encoded data removed]",
            "text/plain": [
              "<matplotlib.figure.Figure at 0x7fc451a9b048>"
            ]
          },
          "metadata": {
            "tags": []
          }
        },
        {
          "output_type": "display_data",
          "data": {
            "image/png": "[encoded data removed]",
            "text/plain": [
              "<matplotlib.figure.Figure at 0x7fc451d21d30>"
            ]
          },
          "metadata": {
            "tags": []
          }
        },
        {
          "output_type": "display_data",
          "data": {
            "image/png": "[encoded data removed]",
            "text/plain": [
              "<matplotlib.figure.Figure at 0x7fc451bac6a0>"
            ]
          },
          "metadata": {
            "tags": []
          }
        },
        {
          "output_type": "display_data",
          "data": {
            "image/png": "[encoded data removed]",
            "text/plain": [
              "<matplotlib.figure.Figure at 0x7fc454b571d0>"
            ]
          },
          "metadata": {
            "tags": []
          }
        },
        {
          "output_type": "display_data",
          "data": {
            "image/png": "[encoded data removed]",
            "text/plain": [
              "<matplotlib.figure.Figure at 0x7fc451c885f8>"
            ]
          },
          "metadata": {
            "tags": []
          }
        },
        {
          "output_type": "display_data",
          "data": {
            "image/png": "[encoded data removed]",
            "text/plain": [
              "<matplotlib.figure.Figure at 0x7fc45207e5c0>"
            ]
          },
          "metadata": {
            "tags": []
          }
        },
        {
          "output_type": "display_data",
          "data": {
            "image/png": "[encoded data removed]",
            "text/plain": [
              "<matplotlib.figure.Figure at 0x7fc45201a128>"
            ]
          },
          "metadata": {
            "tags": []
          }
        },
        {
          "output_type": "stream",
          "text": [
            "*****   rep.mc     ******\n",
            "[*********************100%***********************]  1 of 1 downloaded\n"
          ],
          "name": "stdout"
        },
        {
          "output_type": "display_data",
          "data": {
            "image/png": "[encoded data removed]",
            "text/plain": [
              "<matplotlib.figure.Figure at 0x7fc452228080>"
            ]
          },
          "metadata": {
            "tags": []
          }
        },
        {
          "output_type": "display_data",
          "data": {
            "image/png": "[encoded data removed]",
            "text/plain": [
              "<matplotlib.figure.Figure at 0x7fc451fe7e48>"
            ]
          },
          "metadata": {
            "tags": []
          }
        },
        {
          "output_type": "display_data",
          "data": {
            "image/png": "[encoded data removed]",
            "text/plain": [
              "<matplotlib.figure.Figure at 0x7fc45217b4e0>"
            ]
          },
          "metadata": {
            "tags": []
          }
        },
        {
          "output_type": "display_data",
          "data": {
            "image/png": "[encoded data removed]",
            "text/plain": [
              "<matplotlib.figure.Figure at 0x7fc4522a67f0>"
            ]
          },
          "metadata": {
            "tags": []
          }
        },
        {
          "output_type": "display_data",
          "data": {
            "image/png": "[encoded data removed]",
            "text/plain": [
              "<matplotlib.figure.Figure at 0x7fc45215d550>"
            ]
          },
          "metadata": {
            "tags": []
          }
        },
        {
          "output_type": "display_data",
          "data": {
            "image/png": "[encoded data removed]",
            "text/plain": [
              "<matplotlib.figure.Figure at 0x7fc4521d0588>"
            ]
          },
          "metadata": {
            "tags": []
          }
        },
        {
          "output_type": "display_data",
          "data": {
            "image/png": "[encoded data removed]",
            "text/plain": [
              "<matplotlib.figure.Figure at 0x7fc454be70b8>"
            ]
          },
          "metadata": {
            "tags": []
          }
        },
        {
          "output_type": "stream",
          "text": [
            "Cumulative Daily Returns\n"
          ],
          "name": "stdout"
        }
      ]
    },
    {
      "metadata": {
        "id": "hfvf9cjvA_qo",
        "colab_type": "code",
        "colab": {}
      },
      "cell_type": "code",
      "source": [
        "#extre los datos en %\n",
        "cum_daily_return=np.exp(cum_daily_log_return)\n",
        "#print (cum_daily_return.tail())"
      ],
      "execution_count": 0,
      "outputs": []
    },
    {
      "metadata": {
        "id": "H9G7WuNdCFot",
        "colab_type": "code",
        "colab": {}
      },
      "cell_type": "code",
      "source": [
        "#extrae los rendimientos de 3 meses para todas las estrategias\n",
        "#rel_cum_daily_return=cum_daily_return.pct_change(60).fillna(0)"
      ],
      "execution_count": 0,
      "outputs": []
    },
    {
      "metadata": {
        "id": "G9aqtwMS__2b",
        "colab_type": "code",
        "colab": {}
      },
      "cell_type": "code",
      "source": [
        "#plotea los 500 ultimos valores de la series\n",
        "#rel_cum_daily_return[-500:].plot()"
      ],
      "execution_count": 0,
      "outputs": []
    },
    {
      "metadata": {
        "id": "M7vPKI3cCaee",
        "colab_type": "code",
        "outputId": "2b4bb902-9322-4c5e-c99d-17e288b40dc0",
        "colab": {
          "base_uri": "https://localhost:8080/",
          "height": 480
        }
      },
      "cell_type": "code",
      "source": [
        "#plotea todos los valores\n",
        "cum_daily_return.pct_change(60).plot(figsize=(18,8))"
      ],
      "execution_count": 7,
      "outputs": [
        {
          "output_type": "execute_result",
          "data": {
            "text/plain": [
              "<matplotlib.axes._subplots.AxesSubplot at 0x7fc45652df28>"
            ]
          },
          "metadata": {
            "tags": []
          },
          "execution_count": 7
        },
        {
          "output_type": "display_data",
          "data": {
            "image/png": "[encoded data removed]",
            "text/plain": [
              "<matplotlib.figure.Figure at 0x7fc45652d5c0>"
            ]
          },
          "metadata": {
            "tags": []
          }
        }
      ]
    },
    {
      "metadata": {
        "id": "IN4z7SAAH4Q8",
        "colab_type": "code",
        "colab": {}
      },
      "cell_type": "code",
      "source": [
        "#grafica los valores en funcion del periodod\n",
        "portfolio_grupo={}\n",
        "cum_daily_return['neutro']=0.00000001\n",
        "cum_daily_return['neutro_l5']=0.000001\n",
        "cum_daily_return['neutro_l10']=0.000001\n",
        "cum_daily_return['neutro_l20']=0.000001\n",
        "cum_daily_return['neutro_l60']=0.000001\n",
        "cum_daily_return['neutro_l110']=0.000001\n",
        "cum_daily_return['neutro_l220']=0.000001\n",
        "\n",
        "for periodo in periodos:\n",
        "\n",
        "    f1=pd.DataFrame(index=cum_daily_return.index)\n",
        "    #print ('Grafico del periodo',periodo)\n",
        "    l5=cum_daily_return.filter(like='_l{}'.format(periodo),axis=1).columns.values\n",
        "    #l4='neutro'\n",
        "    #l5=np.append(l5,l4)\n",
        "    portfolio_grupo[periodo]=dict(periodo=l5)\n",
        "      \n",
        "#    for periodo2 in periodos:\n",
        "\n",
        "        #f1=pd.DataFrame(index=cum_daily_return.index)\n",
        "        #print ('Grafico del periodo',periodo)\n",
        "        #l5=cum_daily_return.filter(like='_l{}'.format(periodo),axis=1).columns.values\n",
        "#        cum_daily_return[l5].pct_change(periodo2).plot(figsize=(16,8),title='grafico en {} y pct {}'.format(periodo,periodo2))"
      ],
      "execution_count": 0,
      "outputs": []
    },
    {
      "metadata": {
        "id": "-SBBpNTCPqbS",
        "colab_type": "code",
        "outputId": "52fad8b7-5489-42c0-a153-50e15d437e3d",
        "colab": {
          "base_uri": "https://localhost:8080/",
          "height": 51
        }
      },
      "cell_type": "code",
      "source": [
        "#obiene las series por periodo\n",
        "portfolio_grupo[5]['periodo']\n",
        "\n"
      ],
      "execution_count": 9,
      "outputs": [
        {
          "output_type": "execute_result",
          "data": {
            "text/plain": [
              "array(['tef.mc_l5', 'san.mc_l5', 'itx.mc_l5', 'rep.mc_l5', 'neutro_l5'],\n",
              "      dtype=object)"
            ]
          },
          "metadata": {
            "tags": []
          },
          "execution_count": 9
        }
      ]
    },
    {
      "metadata": {
        "id": "uSkIxY93Pr88",
        "colab_type": "code",
        "outputId": "ae3c644b-dc8f-416c-ee24-0c03c10bf186",
        "colab": {
          "base_uri": "https://localhost:8080/",
          "height": 54
        }
      },
      "cell_type": "code",
      "source": [
        "'''\n",
        "cum_daily_return[portfolio_grupo[220]['periodo']].pct_change(60).plot()\n",
        "cum_daily_return['pepe']=cum_daily_return[portfolio_grupo[220]['periodo']].pct_change(110).apply(lambda x: x.argmax(), axis=1)\n",
        "print (cum_daily_return['pepe'].tail())\n",
        "print (cum_daily_return[portfolio_grupo[220]['periodo']].pct_change(110).tail())\n",
        "'''"
      ],
      "execution_count": 10,
      "outputs": [
        {
          "output_type": "execute_result",
          "data": {
            "text/plain": [
              "\"\\ncum_daily_return[portfolio_grupo[220]['periodo']].pct_change(60).plot()\\ncum_daily_return['pepe']=cum_daily_return[portfolio_grupo[220]['periodo']].pct_change(110).apply(lambda x: x.argmax(), axis=1)\\nprint (cum_daily_return['pepe'].tail())\\nprint (cum_daily_return[portfolio_grupo[220]['periodo']].pct_change(110).tail())\\n\""
            ]
          },
          "metadata": {
            "tags": []
          },
          "execution_count": 10
        }
      ]
    },
    {
      "metadata": {
        "id": "DvKubefJSu3I",
        "colab_type": "code",
        "outputId": "828a52f3-8ec8-4150-9721-b0ebfc41ac70",
        "colab": {
          "base_uri": "https://localhost:8080/",
          "height": 71
        }
      },
      "cell_type": "code",
      "source": [
        "resultados= []\n",
        "for periodo in periodos:\n",
        "  for periodo2 in periodos:\n",
        "    nombre='resultado_{}d{}p'.format(periodo,periodo2)\n",
        "    resultados.append(nombre)\n",
        "    cum_daily_return[nombre]=cum_daily_return[portfolio_grupo[periodo]['periodo']].pct_change(periodo2).apply(lambda x: x.argmax(), axis=1)\n",
        "    #hay que poner el pct_change\n"
      ],
      "execution_count": 11,
      "outputs": [
        {
          "output_type": "stream",
          "text": [
            "/usr/local/lib/python3.6/dist-packages/ipykernel_launcher.py:6: FutureWarning: 'argmax' is deprecated. Use 'idxmax' instead. The behavior of 'argmax' will be corrected to return the positional maximum in the future. Use 'series.values.argmax' to get the position of the maximum now.\n",
            "  \n"
          ],
          "name": "stderr"
        }
      ]
    },
    {
      "metadata": {
        "id": "wRrgakI0ZbnS",
        "colab_type": "code",
        "colab": {}
      },
      "cell_type": "code",
      "source": [
        "#cum_daily_return\n"
      ],
      "execution_count": 0,
      "outputs": []
    },
    {
      "metadata": {
        "id": "WbhWM89e0LjR",
        "colab_type": "code",
        "outputId": "a7d51b62-718a-4314-b7d0-d29d5bf21926",
        "colab": {
          "base_uri": "https://localhost:8080/",
          "height": 54
        }
      },
      "cell_type": "code",
      "source": [
        "#tenemos neutro y nada mas\n",
        "\"\"\"\n",
        "f1=pd.DataFrame(index=cum_daily_return.index)\n",
        "l5=cum_daily_return.filter(like='neutro'.format(periodo),axis=1).columns.values\n",
        "cum_daily_return[l5].plot(figsize=(16,8))\n",
        "\"\"\""
      ],
      "execution_count": 12,
      "outputs": [
        {
          "output_type": "execute_result",
          "data": {
            "text/plain": [
              "\"\\nf1=pd.DataFrame(index=cum_daily_return.index)\\nl5=cum_daily_return.filter(like='neutro'.format(periodo),axis=1).columns.values\\ncum_daily_return[l5].plot(figsize=(16,8))\\n\""
            ]
          },
          "metadata": {
            "tags": []
          },
          "execution_count": 12
        }
      ]
    },
    {
      "metadata": {
        "id": "dDpaTElvZYeH",
        "colab_type": "code",
        "colab": {}
      },
      "cell_type": "code",
      "source": [
        "#resultados"
      ],
      "execution_count": 0,
      "outputs": []
    },
    {
      "metadata": {
        "id": "dVCvi5kfcWCJ",
        "colab_type": "code",
        "colab": {}
      },
      "cell_type": "code",
      "source": [
        "#cum_daily_return[resultados].tail()"
      ],
      "execution_count": 0,
      "outputs": []
    },
    {
      "metadata": {
        "id": "E9hNESX1cdXS",
        "colab_type": "code",
        "colab": {}
      },
      "cell_type": "code",
      "source": [
        "\n",
        "#print (cum_daily_return.columns)\n",
        "#for columna in resultados:\n",
        "  \n",
        " # daily_log_return=np.log(cum_daily_return[portfolio]/cum_daily_return[portfolio].shift())"
      ],
      "execution_count": 0,
      "outputs": []
    },
    {
      "metadata": {
        "id": "lcRfeHe0I2wm",
        "colab_type": "code",
        "colab": {}
      },
      "cell_type": "code",
      "source": [
        "#calcula los retornos en log\n",
        "\n",
        "f1=pd.DataFrame(index=cum_daily_return.index)\n",
        "l5=cum_daily_return.filter(like='_l'.format(periodo),axis=1).columns.values\n",
        "for fila in l5:\n",
        "  nombre='p_'+fila\n",
        "  cum_daily_return[nombre]=np.log(cum_daily_return[fila]/cum_daily_return[fila].shift())"
      ],
      "execution_count": 0,
      "outputs": []
    },
    {
      "metadata": {
        "id": "5uns9ydcQNH6",
        "colab_type": "code",
        "colab": {}
      },
      "cell_type": "code",
      "source": [
        "#print (cum_daily_return['p_AAPL_l60'])"
      ],
      "execution_count": 0,
      "outputs": []
    },
    {
      "metadata": {
        "id": "P2dgx7tyQSDN",
        "colab_type": "code",
        "colab": {}
      },
      "cell_type": "code",
      "source": [
        "#cum_daily_return['p_AAPL_l60'].tail()"
      ],
      "execution_count": 0,
      "outputs": []
    },
    {
      "metadata": {
        "id": "MRrDlcWQQ2F_",
        "colab_type": "code",
        "colab": {}
      },
      "cell_type": "code",
      "source": [
        "#print (cum_daily_return['resultado_5d60p'].tail())\n",
        "#print(cum_daily_return['resultado_5d110p'].value_counts())"
      ],
      "execution_count": 0,
      "outputs": []
    },
    {
      "metadata": {
        "id": "y9mZ655Q4R3z",
        "colab_type": "code",
        "colab": {}
      },
      "cell_type": "code",
      "source": [
        "#cum_daily_return"
      ],
      "execution_count": 0,
      "outputs": []
    },
    {
      "metadata": {
        "id": "a2W99ZmM_K5f",
        "colab_type": "code",
        "colab": {}
      },
      "cell_type": "code",
      "source": [
        ""
      ],
      "execution_count": 0,
      "outputs": []
    },
    {
      "metadata": {
        "id": "BQ3BVqYGEe-s",
        "colab_type": "code",
        "outputId": "487d6f93-8eaa-4419-8917-b1a1c842929b",
        "colab": {
          "base_uri": "https://localhost:8080/",
          "height": 34
        }
      },
      "cell_type": "code",
      "source": [
        "\"\"\"\n",
        "print (portfolio)\n",
        "print (resultados)\n",
        "print (periodos)\n",
        "print (periodos)\n",
        "\"\"\""
      ],
      "execution_count": 21,
      "outputs": [
        {
          "output_type": "execute_result",
          "data": {
            "text/plain": [
              "'\\nprint (portfolio)\\nprint (resultados)\\nprint (periodos)\\nprint (periodos)\\n'"
            ]
          },
          "metadata": {
            "tags": []
          },
          "execution_count": 21
        }
      ]
    },
    {
      "metadata": {
        "id": "YQtIJkQMIDxn",
        "colab_type": "code",
        "colab": {}
      },
      "cell_type": "code",
      "source": [
        "for periodo in periodos:\n",
        "  for periodo2 in periodos:\n",
        "    nombre='res_{}d{}p'.format(periodo,periodo2)\n",
        "    nombre2='resultado_{}d{}p'.format(periodo,periodo2)\n",
        "    cum_daily_return[nombre]=np.zeros(len(cum_daily_return))\n",
        "\n",
        "    for numbre in portfolio:\n",
        "      nombre3='{}_l{}'.format(numbre,periodo)\n",
        "      nombre4='p_{}_l{}'.format(numbre,periodo2)\n",
        "      cum_daily_return[nombre]=np.where(cum_daily_return[nombre2].shift()==nombre3,cum_daily_return[nombre4],cum_daily_return[nombre])\n"
      ],
      "execution_count": 0,
      "outputs": []
    },
    {
      "metadata": {
        "id": "hjXyOE6uJ5MH",
        "colab_type": "code",
        "colab": {}
      },
      "cell_type": "code",
      "source": [
        "#print (cum_daily_return['res_220d60p'].tail())\n",
        "#print (periodo)"
      ],
      "execution_count": 0,
      "outputs": []
    },
    {
      "metadata": {
        "id": "isCroi0bMD4d",
        "colab_type": "code",
        "colab": {}
      },
      "cell_type": "code",
      "source": [
        "f1=pd.DataFrame(index=cum_daily_return.index)\n",
        "l5=cum_daily_return.filter(like='res_',axis=1).columns\n",
        "for fila in l5:\n",
        "  nombre='serie_'+fila\n",
        "  cum_daily_return[nombre]=np.exp(cum_daily_return[fila].cumsum())\n",
        "  "
      ],
      "execution_count": 0,
      "outputs": []
    },
    {
      "metadata": {
        "id": "_OWrksSRsJbM",
        "colab_type": "code",
        "colab": {}
      },
      "cell_type": "code",
      "source": [
        "#cum_daily_return[l5]"
      ],
      "execution_count": 0,
      "outputs": []
    },
    {
      "metadata": {
        "id": "1xhFzOemMY0L",
        "colab_type": "text"
      },
      "cell_type": "markdown",
      "source": [
        ""
      ]
    },
    {
      "metadata": {
        "id": "F5FRskf2MZ5w",
        "colab_type": "code",
        "outputId": "bf1d06f0-5bb6-4791-c687-27d93a35cf99",
        "colab": {
          "base_uri": "https://localhost:8080/",
          "height": 34
        }
      },
      "cell_type": "code",
      "source": [
        "\n",
        "f1=pd.DataFrame(index=cum_daily_return.index)\n",
        "l5=cum_daily_return.filter(like='serie_',axis=1).columns\n",
        "\"\"\"\n",
        "cum_daily_return[l5].plot(figsize=(16,8))\n",
        "\"\"\""
      ],
      "execution_count": 26,
      "outputs": [
        {
          "output_type": "execute_result",
          "data": {
            "text/plain": [
              "'\\ncum_daily_return[l5].plot(figsize=(16,8))\\n'"
            ]
          },
          "metadata": {
            "tags": []
          },
          "execution_count": 26
        }
      ]
    },
    {
      "metadata": {
        "id": "9bKXQO43b2dq",
        "colab_type": "code",
        "outputId": "9c2a01df-f779-442c-f347-31e629ab8a17",
        "colab": {
          "base_uri": "https://localhost:8080/",
          "height": 34
        }
      },
      "cell_type": "code",
      "source": [
        "\"\"\"\n",
        "cum_daily_return['serie_res_110d60p'].plot()\n",
        "cum_daily_return[portfolio_grupo[220]['periodo']].pct_change(60).plot()\n",
        "\"\"\"\n"
      ],
      "execution_count": 27,
      "outputs": [
        {
          "output_type": "execute_result",
          "data": {
            "text/plain": [
              "\"\\ncum_daily_return['serie_res_110d60p'].plot()\\ncum_daily_return[portfolio_grupo[220]['periodo']].pct_change(60).plot()\\n\""
            ]
          },
          "metadata": {
            "tags": []
          },
          "execution_count": 27
        }
      ]
    },
    {
      "metadata": {
        "id": "b7HiyFoXudby",
        "colab_type": "code",
        "outputId": "f728a9a2-bd8e-4f81-b49c-ab09e4fd7170",
        "colab": {
          "base_uri": "https://localhost:8080/",
          "height": 54
        }
      },
      "cell_type": "code",
      "source": [
        "\"\"\"\n",
        "f1=pd.DataFrame(index=cum_daily_return.index)\n",
        "l5=cum_daily_return.filter(like='serie_res_5'.format(periodo),axis=1).columns.values\n",
        "cum_daily_return[l5].plot(figsize=(16,8))\n",
        "\"\"\""
      ],
      "execution_count": 28,
      "outputs": [
        {
          "output_type": "execute_result",
          "data": {
            "text/plain": [
              "\"\\nf1=pd.DataFrame(index=cum_daily_return.index)\\nl5=cum_daily_return.filter(like='serie_res_5'.format(periodo),axis=1).columns.values\\ncum_daily_return[l5].plot(figsize=(16,8))\\n\""
            ]
          },
          "metadata": {
            "tags": []
          },
          "execution_count": 28
        }
      ]
    },
    {
      "metadata": {
        "id": "NCUyK0TVvVyj",
        "colab_type": "code",
        "outputId": "0b0ca837-9fb9-47ed-c8b8-0fb4d4fb848c",
        "colab": {
          "base_uri": "https://localhost:8080/",
          "height": 54
        }
      },
      "cell_type": "code",
      "source": [
        "\"\"\"\n",
        "f1=pd.DataFrame(index=cum_daily_return.index)\n",
        "l5=cum_daily_return.filter(like='serie_res_10'.format(periodo),axis=1).columns.values\n",
        "cum_daily_return[l5].plot(figsize=(16,8))\n",
        "\"\"\"\n"
      ],
      "execution_count": 29,
      "outputs": [
        {
          "output_type": "execute_result",
          "data": {
            "text/plain": [
              "\"\\nf1=pd.DataFrame(index=cum_daily_return.index)\\nl5=cum_daily_return.filter(like='serie_res_10'.format(periodo),axis=1).columns.values\\ncum_daily_return[l5].plot(figsize=(16,8))\\n\""
            ]
          },
          "metadata": {
            "tags": []
          },
          "execution_count": 29
        }
      ]
    },
    {
      "metadata": {
        "id": "KYULWbihveHy",
        "colab_type": "code",
        "outputId": "908764aa-349f-49ba-af8e-53b922dcfc4d",
        "colab": {
          "base_uri": "https://localhost:8080/",
          "height": 54
        }
      },
      "cell_type": "code",
      "source": [
        "\"\"\"\n",
        "f1=pd.DataFrame(index=cum_daily_return.index)\n",
        "l5=cum_daily_return.filter(like='serie_res_20'.format(periodo),axis=1).columns.values\n",
        "cum_daily_return[l5].plot(figsize=(16,8))\n",
        "\"\"\""
      ],
      "execution_count": 30,
      "outputs": [
        {
          "output_type": "execute_result",
          "data": {
            "text/plain": [
              "\"\\nf1=pd.DataFrame(index=cum_daily_return.index)\\nl5=cum_daily_return.filter(like='serie_res_20'.format(periodo),axis=1).columns.values\\ncum_daily_return[l5].plot(figsize=(16,8))\\n\""
            ]
          },
          "metadata": {
            "tags": []
          },
          "execution_count": 30
        }
      ]
    },
    {
      "metadata": {
        "id": "hl3PBUM7vn7B",
        "colab_type": "code",
        "outputId": "7a01cf3c-ebd7-4b35-a81f-b8c3d374fe2a",
        "colab": {
          "base_uri": "https://localhost:8080/",
          "height": 54
        }
      },
      "cell_type": "code",
      "source": [
        "\"\"\"\n",
        "f1=pd.DataFrame(index=cum_daily_return.index)\n",
        "l5=cum_daily_return.filter(like='serie_res_60'.format(periodo),axis=1).columns.values\n",
        "cum_daily_return[l5].plot(figsize=(16,8))\n",
        "\"\"\""
      ],
      "execution_count": 31,
      "outputs": [
        {
          "output_type": "execute_result",
          "data": {
            "text/plain": [
              "\"\\nf1=pd.DataFrame(index=cum_daily_return.index)\\nl5=cum_daily_return.filter(like='serie_res_60'.format(periodo),axis=1).columns.values\\ncum_daily_return[l5].plot(figsize=(16,8))\\n\""
            ]
          },
          "metadata": {
            "tags": []
          },
          "execution_count": 31
        }
      ]
    },
    {
      "metadata": {
        "id": "kPaJhdlGv2Nu",
        "colab_type": "code",
        "outputId": "23256c15-ec29-4399-9ff4-469154b6450a",
        "colab": {
          "base_uri": "https://localhost:8080/",
          "height": 54
        }
      },
      "cell_type": "code",
      "source": [
        "\"\"\"\n",
        "f1=pd.DataFrame(index=cum_daily_return.index)\n",
        "l5=cum_daily_return.filter(like='serie_res_110'.format(periodo),axis=1).columns.values\n",
        "cum_daily_return[l5].plot(figsize=(16,8))\n",
        "\"\"\""
      ],
      "execution_count": 32,
      "outputs": [
        {
          "output_type": "execute_result",
          "data": {
            "text/plain": [
              "\"\\nf1=pd.DataFrame(index=cum_daily_return.index)\\nl5=cum_daily_return.filter(like='serie_res_110'.format(periodo),axis=1).columns.values\\ncum_daily_return[l5].plot(figsize=(16,8))\\n\""
            ]
          },
          "metadata": {
            "tags": []
          },
          "execution_count": 32
        }
      ]
    },
    {
      "metadata": {
        "id": "BFGDG5P8v806",
        "colab_type": "code",
        "outputId": "b5cd70eb-28ec-438f-d41a-0486bca3ba5a",
        "colab": {
          "base_uri": "https://localhost:8080/",
          "height": 54
        }
      },
      "cell_type": "code",
      "source": [
        "\"\"\"\n",
        "f1=pd.DataFrame(index=cum_daily_return.index)\n",
        "l5=cum_daily_return.filter(like='serie_res_220'.format(periodo),axis=1).columns.values\n",
        "cum_daily_return[l5].plot(figsize=(16,8))\n",
        "\"\"\""
      ],
      "execution_count": 33,
      "outputs": [
        {
          "output_type": "execute_result",
          "data": {
            "text/plain": [
              "\"\\nf1=pd.DataFrame(index=cum_daily_return.index)\\nl5=cum_daily_return.filter(like='serie_res_220'.format(periodo),axis=1).columns.values\\ncum_daily_return[l5].plot(figsize=(16,8))\\n\""
            ]
          },
          "metadata": {
            "tags": []
          },
          "execution_count": 33
        }
      ]
    },
    {
      "metadata": {
        "id": "XwCS-qDhcNRa",
        "colab_type": "code",
        "colab": {}
      },
      "cell_type": "code",
      "source": [
        ""
      ],
      "execution_count": 0,
      "outputs": []
    },
    {
      "metadata": {
        "id": "sM65vG_TZfMI",
        "colab_type": "code",
        "outputId": "a0d466de-bee1-4286-d7cb-3a3f49e696e6",
        "colab": {
          "base_uri": "https://localhost:8080/",
          "height": 357
        }
      },
      "cell_type": "code",
      "source": [
        "print(l5)\n",
        "perf=cum_daily_return[l5].dropna().calc_stats()\n",
        "#perf.plot()\n"
      ],
      "execution_count": 34,
      "outputs": [
        {
          "output_type": "stream",
          "text": [
            "Index(['serie_res_5d5p', 'serie_res_5d10p', 'serie_res_5d20p',\n",
            "       'serie_res_5d40p', 'serie_res_5d60p', 'serie_res_5d110p',\n",
            "       'serie_res_5d220p', 'serie_res_10d5p', 'serie_res_10d10p',\n",
            "       'serie_res_10d20p', 'serie_res_10d40p', 'serie_res_10d60p',\n",
            "       'serie_res_10d110p', 'serie_res_10d220p', 'serie_res_20d5p',\n",
            "       'serie_res_20d10p', 'serie_res_20d20p', 'serie_res_20d40p',\n",
            "       'serie_res_20d60p', 'serie_res_20d110p', 'serie_res_20d220p',\n",
            "       'serie_res_40d5p', 'serie_res_40d10p', 'serie_res_40d20p',\n",
            "       'serie_res_40d40p', 'serie_res_40d60p', 'serie_res_40d110p',\n",
            "       'serie_res_40d220p', 'serie_res_60d5p', 'serie_res_60d10p',\n",
            "       'serie_res_60d20p', 'serie_res_60d40p', 'serie_res_60d60p',\n",
            "       'serie_res_60d110p', 'serie_res_60d220p', 'serie_res_110d5p',\n",
            "       'serie_res_110d10p', 'serie_res_110d20p', 'serie_res_110d40p',\n",
            "       'serie_res_110d60p', 'serie_res_110d110p', 'serie_res_110d220p',\n",
            "       'serie_res_220d5p', 'serie_res_220d10p', 'serie_res_220d20p',\n",
            "       'serie_res_220d40p', 'serie_res_220d60p', 'serie_res_220d110p',\n",
            "       'serie_res_220d220p'],\n",
            "      dtype='object')\n"
          ],
          "name": "stdout"
        },
        {
          "output_type": "stream",
          "text": [
            "/usr/local/lib/python3.6/dist-packages/ffn/core.py:2056: RuntimeWarning: divide by zero encountered in true_divide\n",
            "  res = np.divide(er.mean(), std)\n"
          ],
          "name": "stderr"
        }
      ]
    },
    {
      "metadata": {
        "id": "tUCKbLyyaWJc",
        "colab_type": "code",
        "colab": {}
      },
      "cell_type": "code",
      "source": [
        ""
      ],
      "execution_count": 0,
      "outputs": []
    },
    {
      "metadata": {
        "id": "MWGZ0gQCa2qi",
        "colab_type": "code",
        "colab": {}
      },
      "cell_type": "code",
      "source": [
        "#perf.display_monthly_returns()"
      ],
      "execution_count": 0,
      "outputs": []
    },
    {
      "metadata": {
        "id": "1LKDYM3Ad4FH",
        "colab_type": "code",
        "colab": {}
      },
      "cell_type": "code",
      "source": [
        "datos=[ 'total_return', 'cagr', 'max_drawdown', 'calmar', \\\n",
        "        'daily_sharpe', 'daily_sortino', \\\n",
        "        'monthly_sharpe', 'monthly_sortino', 'best_month', \\\n",
        "       'worst_month', 'yearly_sharpe',  'best_year', 'worst_year', \\\n",
        "       'avg_drawdown', 'avg_drawdown_days', 'avg_up_month', 'avg_down_month', \\\n",
        "       'win_year_perc', 'twelve_month_win_perc']"
      ],
      "execution_count": 0,
      "outputs": []
    },
    {
      "metadata": {
        "id": "Doy5kp-XbdqG",
        "colab_type": "code",
        "outputId": "8e7dadbb-0dc4-4c71-877d-ca374e037701",
        "colab": {
          "base_uri": "https://localhost:8080/",
          "height": 69
        }
      },
      "cell_type": "code",
      "source": [
        "resultados=perf.stats.T\n",
        "#print (resultados.columns)\n",
        "resultados[datos][resultados.cagr>.2]\n"
      ],
      "execution_count": 37,
      "outputs": [
        {
          "output_type": "execute_result",
          "data": {
            "text/html": [
              "<div>\n",
              "<style scoped>\n",
              "    .dataframe tbody tr th:only-of-type {\n",
              "        vertical-align: middle;\n",
              "    }\n",
              "\n",
              "    .dataframe tbody tr th {\n",
              "        vertical-align: top;\n",
              "    }\n",
              "\n",
              "    .dataframe thead th {\n",
              "        text-align: right;\n",
              "    }\n",
              "</style>\n",
              "<table border=\"1\" class=\"dataframe\">\n",
              "  <thead>\n",
              "    <tr style=\"text-align: right;\">\n",
              "      <th></th>\n",
              "      <th>total_return</th>\n",
              "      <th>cagr</th>\n",
              "      <th>max_drawdown</th>\n",
              "      <th>calmar</th>\n",
              "      <th>daily_sharpe</th>\n",
              "      <th>daily_sortino</th>\n",
              "      <th>monthly_sharpe</th>\n",
              "      <th>monthly_sortino</th>\n",
              "      <th>best_month</th>\n",
              "      <th>worst_month</th>\n",
              "      <th>yearly_sharpe</th>\n",
              "      <th>best_year</th>\n",
              "      <th>worst_year</th>\n",
              "      <th>avg_drawdown</th>\n",
              "      <th>avg_drawdown_days</th>\n",
              "      <th>avg_up_month</th>\n",
              "      <th>avg_down_month</th>\n",
              "      <th>win_year_perc</th>\n",
              "      <th>twelve_month_win_perc</th>\n",
              "    </tr>\n",
              "  </thead>\n",
              "  <tbody>\n",
              "  </tbody>\n",
              "</table>\n",
              "</div>"
            ],
            "text/plain": [
              "Empty DataFrame\n",
              "Columns: [total_return, cagr, max_drawdown, calmar, daily_sharpe, daily_sortino, monthly_sharpe, monthly_sortino, best_month, worst_month, yearly_sharpe, best_year, worst_year, avg_drawdown, avg_drawdown_days, avg_up_month, avg_down_month, win_year_perc, twelve_month_win_perc]\n",
              "Index: []"
            ]
          },
          "metadata": {
            "tags": []
          },
          "execution_count": 37
        }
      ]
    },
    {
      "metadata": {
        "id": "9fVEUA7iS5ry",
        "colab_type": "text"
      },
      "cell_type": "markdown",
      "source": [
        ""
      ]
    },
    {
      "metadata": {
        "id": "_xVHhg9Afhko",
        "colab_type": "code",
        "outputId": "ad734a62-a11f-47f0-d78e-70f455398c50",
        "colab": {
          "base_uri": "https://localhost:8080/",
          "height": 162
        }
      },
      "cell_type": "code",
      "source": [
        "resultados[datos][resultados.monthly_sharpe>.9]"
      ],
      "execution_count": 38,
      "outputs": [
        {
          "output_type": "execute_result",
          "data": {
            "text/html": [
              "<div>\n",
              "<style scoped>\n",
              "    .dataframe tbody tr th:only-of-type {\n",
              "        vertical-align: middle;\n",
              "    }\n",
              "\n",
              "    .dataframe tbody tr th {\n",
              "        vertical-align: top;\n",
              "    }\n",
              "\n",
              "    .dataframe thead th {\n",
              "        text-align: right;\n",
              "    }\n",
              "</style>\n",
              "<table border=\"1\" class=\"dataframe\">\n",
              "  <thead>\n",
              "    <tr style=\"text-align: right;\">\n",
              "      <th></th>\n",
              "      <th>total_return</th>\n",
              "      <th>cagr</th>\n",
              "      <th>max_drawdown</th>\n",
              "      <th>calmar</th>\n",
              "      <th>daily_sharpe</th>\n",
              "      <th>daily_sortino</th>\n",
              "      <th>monthly_sharpe</th>\n",
              "      <th>monthly_sortino</th>\n",
              "      <th>best_month</th>\n",
              "      <th>worst_month</th>\n",
              "      <th>yearly_sharpe</th>\n",
              "      <th>best_year</th>\n",
              "      <th>worst_year</th>\n",
              "      <th>avg_drawdown</th>\n",
              "      <th>avg_drawdown_days</th>\n",
              "      <th>avg_up_month</th>\n",
              "      <th>avg_down_month</th>\n",
              "      <th>win_year_perc</th>\n",
              "      <th>twelve_month_win_perc</th>\n",
              "    </tr>\n",
              "  </thead>\n",
              "  <tbody>\n",
              "    <tr>\n",
              "      <th>serie_res_20d220p</th>\n",
              "      <td>3.84456</td>\n",
              "      <td>0.158158</td>\n",
              "      <td>-0.281752</td>\n",
              "      <td>0.561339</td>\n",
              "      <td>0.752488</td>\n",
              "      <td>1.27833</td>\n",
              "      <td>0.963591</td>\n",
              "      <td>2.10639</td>\n",
              "      <td>0.210003</td>\n",
              "      <td>-0.130118</td>\n",
              "      <td>0.853081</td>\n",
              "      <td>0.661062</td>\n",
              "      <td>-0.060772</td>\n",
              "      <td>-0.0447398</td>\n",
              "      <td>35.9247</td>\n",
              "      <td>0.048344</td>\n",
              "      <td>-0.0207757</td>\n",
              "      <td>0.8</td>\n",
              "      <td>0.739496</td>\n",
              "    </tr>\n",
              "    <tr>\n",
              "      <th>serie_res_220d220p</th>\n",
              "      <td>3.39974</td>\n",
              "      <td>0.147825</td>\n",
              "      <td>-0.294539</td>\n",
              "      <td>0.501885</td>\n",
              "      <td>0.738731</td>\n",
              "      <td>1.28357</td>\n",
              "      <td>0.922582</td>\n",
              "      <td>2.19327</td>\n",
              "      <td>0.220144</td>\n",
              "      <td>-0.0759599</td>\n",
              "      <td>0.635504</td>\n",
              "      <td>0.850562</td>\n",
              "      <td>-0.0946523</td>\n",
              "      <td>-0.0426706</td>\n",
              "      <td>34.7191</td>\n",
              "      <td>0.0471421</td>\n",
              "      <td>-0.0223289</td>\n",
              "      <td>0.7</td>\n",
              "      <td>0.672269</td>\n",
              "    </tr>\n",
              "    <tr>\n",
              "      <th>serie_res_40d220p</th>\n",
              "      <td>4.58737</td>\n",
              "      <td>0.173635</td>\n",
              "      <td>-0.24712</td>\n",
              "      <td>0.702636</td>\n",
              "      <td>0.810416</td>\n",
              "      <td>1.36797</td>\n",
              "      <td>1.03293</td>\n",
              "      <td>2.25704</td>\n",
              "      <td>0.220144</td>\n",
              "      <td>-0.108229</td>\n",
              "      <td>0.844105</td>\n",
              "      <td>0.850562</td>\n",
              "      <td>0.0135973</td>\n",
              "      <td>-0.0443833</td>\n",
              "      <td>29.6545</td>\n",
              "      <td>0.047683</td>\n",
              "      <td>-0.0221977</td>\n",
              "      <td>1</td>\n",
              "      <td>0.815126</td>\n",
              "    </tr>\n",
              "  </tbody>\n",
              "</table>\n",
              "</div>"
            ],
            "text/plain": [
              "                   total_return      cagr max_drawdown    calmar daily_sharpe  \\\n",
              "serie_res_20d220p       3.84456  0.158158    -0.281752  0.561339     0.752488   \n",
              "serie_res_220d220p      3.39974  0.147825    -0.294539  0.501885     0.738731   \n",
              "serie_res_40d220p       4.58737  0.173635     -0.24712  0.702636     0.810416   \n",
              "\n",
              "                   daily_sortino monthly_sharpe monthly_sortino best_month  \\\n",
              "serie_res_20d220p        1.27833       0.963591         2.10639   0.210003   \n",
              "serie_res_220d220p       1.28357       0.922582         2.19327   0.220144   \n",
              "serie_res_40d220p        1.36797        1.03293         2.25704   0.220144   \n",
              "\n",
              "                   worst_month yearly_sharpe best_year worst_year  \\\n",
              "serie_res_20d220p    -0.130118      0.853081  0.661062  -0.060772   \n",
              "serie_res_220d220p  -0.0759599      0.635504  0.850562 -0.0946523   \n",
              "serie_res_40d220p    -0.108229      0.844105  0.850562  0.0135973   \n",
              "\n",
              "                   avg_drawdown avg_drawdown_days avg_up_month avg_down_month  \\\n",
              "serie_res_20d220p    -0.0447398           35.9247     0.048344     -0.0207757   \n",
              "serie_res_220d220p   -0.0426706           34.7191    0.0471421     -0.0223289   \n",
              "serie_res_40d220p    -0.0443833           29.6545     0.047683     -0.0221977   \n",
              "\n",
              "                   win_year_perc twelve_month_win_perc  \n",
              "serie_res_20d220p            0.8              0.739496  \n",
              "serie_res_220d220p           0.7              0.672269  \n",
              "serie_res_40d220p              1              0.815126  "
            ]
          },
          "metadata": {
            "tags": []
          },
          "execution_count": 38
        }
      ]
    },
    {
      "metadata": {
        "id": "oeHZDHGlh-1a",
        "colab_type": "code",
        "outputId": "a81bd93f-0aa4-4827-be24-35ed470e4423",
        "colab": {
          "base_uri": "https://localhost:8080/",
          "height": 100
        }
      },
      "cell_type": "code",
      "source": [
        "resultados[datos][resultados.twelve_month_win_perc>.8]"
      ],
      "execution_count": 39,
      "outputs": [
        {
          "output_type": "execute_result",
          "data": {
            "text/html": [
              "<div>\n",
              "<style scoped>\n",
              "    .dataframe tbody tr th:only-of-type {\n",
              "        vertical-align: middle;\n",
              "    }\n",
              "\n",
              "    .dataframe tbody tr th {\n",
              "        vertical-align: top;\n",
              "    }\n",
              "\n",
              "    .dataframe thead th {\n",
              "        text-align: right;\n",
              "    }\n",
              "</style>\n",
              "<table border=\"1\" class=\"dataframe\">\n",
              "  <thead>\n",
              "    <tr style=\"text-align: right;\">\n",
              "      <th></th>\n",
              "      <th>total_return</th>\n",
              "      <th>cagr</th>\n",
              "      <th>max_drawdown</th>\n",
              "      <th>calmar</th>\n",
              "      <th>daily_sharpe</th>\n",
              "      <th>daily_sortino</th>\n",
              "      <th>monthly_sharpe</th>\n",
              "      <th>monthly_sortino</th>\n",
              "      <th>best_month</th>\n",
              "      <th>worst_month</th>\n",
              "      <th>yearly_sharpe</th>\n",
              "      <th>best_year</th>\n",
              "      <th>worst_year</th>\n",
              "      <th>avg_drawdown</th>\n",
              "      <th>avg_drawdown_days</th>\n",
              "      <th>avg_up_month</th>\n",
              "      <th>avg_down_month</th>\n",
              "      <th>win_year_perc</th>\n",
              "      <th>twelve_month_win_perc</th>\n",
              "    </tr>\n",
              "  </thead>\n",
              "  <tbody>\n",
              "    <tr>\n",
              "      <th>serie_res_40d220p</th>\n",
              "      <td>4.58737</td>\n",
              "      <td>0.173635</td>\n",
              "      <td>-0.24712</td>\n",
              "      <td>0.702636</td>\n",
              "      <td>0.810416</td>\n",
              "      <td>1.36797</td>\n",
              "      <td>1.03293</td>\n",
              "      <td>2.25704</td>\n",
              "      <td>0.220144</td>\n",
              "      <td>-0.108229</td>\n",
              "      <td>0.844105</td>\n",
              "      <td>0.850562</td>\n",
              "      <td>0.0135973</td>\n",
              "      <td>-0.0443833</td>\n",
              "      <td>29.6545</td>\n",
              "      <td>0.047683</td>\n",
              "      <td>-0.0221977</td>\n",
              "      <td>1</td>\n",
              "      <td>0.815126</td>\n",
              "    </tr>\n",
              "  </tbody>\n",
              "</table>\n",
              "</div>"
            ],
            "text/plain": [
              "                  total_return      cagr max_drawdown    calmar daily_sharpe  \\\n",
              "serie_res_40d220p      4.58737  0.173635     -0.24712  0.702636     0.810416   \n",
              "\n",
              "                  daily_sortino monthly_sharpe monthly_sortino best_month  \\\n",
              "serie_res_40d220p       1.36797        1.03293         2.25704   0.220144   \n",
              "\n",
              "                  worst_month yearly_sharpe best_year worst_year avg_drawdown  \\\n",
              "serie_res_40d220p   -0.108229      0.844105  0.850562  0.0135973   -0.0443833   \n",
              "\n",
              "                  avg_drawdown_days avg_up_month avg_down_month win_year_perc  \\\n",
              "serie_res_40d220p           29.6545     0.047683     -0.0221977             1   \n",
              "\n",
              "                  twelve_month_win_perc  \n",
              "serie_res_40d220p              0.815126  "
            ]
          },
          "metadata": {
            "tags": []
          },
          "execution_count": 39
        }
      ]
    },
    {
      "metadata": {
        "id": "heHFBR0BDmz0",
        "colab_type": "code",
        "colab": {}
      },
      "cell_type": "code",
      "source": [
        ""
      ],
      "execution_count": 0,
      "outputs": []
    },
    {
      "metadata": {
        "id": "b6wJMoIOiUHt",
        "colab_type": "code",
        "outputId": "511f6bb7-bb60-40fe-d027-d87249745e9e",
        "colab": {
          "base_uri": "https://localhost:8080/",
          "height": 100
        }
      },
      "cell_type": "code",
      "source": [
        "\n",
        "resultados[datos][resultados.win_year_perc==1]"
      ],
      "execution_count": 40,
      "outputs": [
        {
          "output_type": "execute_result",
          "data": {
            "text/html": [
              "<div>\n",
              "<style scoped>\n",
              "    .dataframe tbody tr th:only-of-type {\n",
              "        vertical-align: middle;\n",
              "    }\n",
              "\n",
              "    .dataframe tbody tr th {\n",
              "        vertical-align: top;\n",
              "    }\n",
              "\n",
              "    .dataframe thead th {\n",
              "        text-align: right;\n",
              "    }\n",
              "</style>\n",
              "<table border=\"1\" class=\"dataframe\">\n",
              "  <thead>\n",
              "    <tr style=\"text-align: right;\">\n",
              "      <th></th>\n",
              "      <th>total_return</th>\n",
              "      <th>cagr</th>\n",
              "      <th>max_drawdown</th>\n",
              "      <th>calmar</th>\n",
              "      <th>daily_sharpe</th>\n",
              "      <th>daily_sortino</th>\n",
              "      <th>monthly_sharpe</th>\n",
              "      <th>monthly_sortino</th>\n",
              "      <th>best_month</th>\n",
              "      <th>worst_month</th>\n",
              "      <th>yearly_sharpe</th>\n",
              "      <th>best_year</th>\n",
              "      <th>worst_year</th>\n",
              "      <th>avg_drawdown</th>\n",
              "      <th>avg_drawdown_days</th>\n",
              "      <th>avg_up_month</th>\n",
              "      <th>avg_down_month</th>\n",
              "      <th>win_year_perc</th>\n",
              "      <th>twelve_month_win_perc</th>\n",
              "    </tr>\n",
              "  </thead>\n",
              "  <tbody>\n",
              "    <tr>\n",
              "      <th>serie_res_40d220p</th>\n",
              "      <td>4.58737</td>\n",
              "      <td>0.173635</td>\n",
              "      <td>-0.24712</td>\n",
              "      <td>0.702636</td>\n",
              "      <td>0.810416</td>\n",
              "      <td>1.36797</td>\n",
              "      <td>1.03293</td>\n",
              "      <td>2.25704</td>\n",
              "      <td>0.220144</td>\n",
              "      <td>-0.108229</td>\n",
              "      <td>0.844105</td>\n",
              "      <td>0.850562</td>\n",
              "      <td>0.0135973</td>\n",
              "      <td>-0.0443833</td>\n",
              "      <td>29.6545</td>\n",
              "      <td>0.047683</td>\n",
              "      <td>-0.0221977</td>\n",
              "      <td>1</td>\n",
              "      <td>0.815126</td>\n",
              "    </tr>\n",
              "  </tbody>\n",
              "</table>\n",
              "</div>"
            ],
            "text/plain": [
              "                  total_return      cagr max_drawdown    calmar daily_sharpe  \\\n",
              "serie_res_40d220p      4.58737  0.173635     -0.24712  0.702636     0.810416   \n",
              "\n",
              "                  daily_sortino monthly_sharpe monthly_sortino best_month  \\\n",
              "serie_res_40d220p       1.36797        1.03293         2.25704   0.220144   \n",
              "\n",
              "                  worst_month yearly_sharpe best_year worst_year avg_drawdown  \\\n",
              "serie_res_40d220p   -0.108229      0.844105  0.850562  0.0135973   -0.0443833   \n",
              "\n",
              "                  avg_drawdown_days avg_up_month avg_down_month win_year_perc  \\\n",
              "serie_res_40d220p           29.6545     0.047683     -0.0221977             1   \n",
              "\n",
              "                  twelve_month_win_perc  \n",
              "serie_res_40d220p              0.815126  "
            ]
          },
          "metadata": {
            "tags": []
          },
          "execution_count": 40
        }
      ]
    },
    {
      "metadata": {
        "id": "oiAyVb_I_ZdS",
        "colab_type": "code",
        "outputId": "b21ee630-d459-4a8d-a1a5-0aaad3375baa",
        "colab": {
          "base_uri": "https://localhost:8080/",
          "height": 54
        }
      },
      "cell_type": "code",
      "source": [
        "\"\"\"\n",
        "cum_daily_return['res_5d60p']=0\n",
        "cum_daily_return['res_5d60p']=np.where(cum_daily_return['resultado_60d60p'].shift()=='AMZN_l60',cum_daily_return['p_AMZN_l60'],cum_daily_return['res_5d60p'])\n",
        "cum_daily_return['res_5d60p']=np.where(cum_daily_return['resultado_60d60p'].shift()=='F_l60',cum_daily_return['p_F_l60'],cum_daily_return['res_5d60p'])\n",
        "cum_daily_return['res_5d60p']=np.where(cum_daily_return['resultado_60d60p'].shift()=='GOOG_l60',cum_daily_return['p_GOOG_l60'],cum_daily_return['res_5d60p'])\n",
        "cum_daily_return['res_5d60p']=np.where(cum_daily_return['resultado_60d60p'].shift()=='AAPL_l60',cum_daily_return['p_AAPL_l60'],cum_daily_return['res_5d60p'])\n",
        "cum_daily_return['res_5d60p']=np.where(cum_daily_return['resultado_60d60p'].shift()=='KMI_l60',cum_daily_return['p_KMI_l60'],cum_daily_return['res_5d60p'])\n",
        "\"\"\""
      ],
      "execution_count": 41,
      "outputs": [
        {
          "output_type": "execute_result",
          "data": {
            "text/plain": [
              "\"\\ncum_daily_return['res_5d60p']=0\\ncum_daily_return['res_5d60p']=np.where(cum_daily_return['resultado_60d60p'].shift()=='AMZN_l60',cum_daily_return['p_AMZN_l60'],cum_daily_return['res_5d60p'])\\ncum_daily_return['res_5d60p']=np.where(cum_daily_return['resultado_60d60p'].shift()=='F_l60',cum_daily_return['p_F_l60'],cum_daily_return['res_5d60p'])\\ncum_daily_return['res_5d60p']=np.where(cum_daily_return['resultado_60d60p'].shift()=='GOOG_l60',cum_daily_return['p_GOOG_l60'],cum_daily_return['res_5d60p'])\\ncum_daily_return['res_5d60p']=np.where(cum_daily_return['resultado_60d60p'].shift()=='AAPL_l60',cum_daily_return['p_AAPL_l60'],cum_daily_return['res_5d60p'])\\ncum_daily_return['res_5d60p']=np.where(cum_daily_return['resultado_60d60p'].shift()=='KMI_l60',cum_daily_return['p_KMI_l60'],cum_daily_return['res_5d60p'])\\n\""
            ]
          },
          "metadata": {
            "tags": []
          },
          "execution_count": 41
        }
      ]
    },
    {
      "metadata": {
        "id": "xlPPu7ijgHLq",
        "colab_type": "code",
        "colab": {}
      },
      "cell_type": "code",
      "source": [
        ""
      ],
      "execution_count": 0,
      "outputs": []
    },
    {
      "metadata": {
        "id": "zEfBE0pj8HwB",
        "colab_type": "text"
      },
      "cell_type": "markdown",
      "source": [
        "\n",
        "\n",
        "---\n",
        "\n",
        "# Seleccionar el ratio de Sharpe que se desea \n",
        "ACTUALMENTE 0.9"
      ]
    },
    {
      "metadata": {
        "id": "SN_gn4B3CvoO",
        "colab_type": "code",
        "colab": {}
      },
      "cell_type": "code",
      "source": [
        ""
      ],
      "execution_count": 0,
      "outputs": []
    },
    {
      "metadata": {
        "id": "oFfvHUppDd_T",
        "colab_type": "code",
        "colab": {}
      },
      "cell_type": "code",
      "source": [
        "seleccion = [x for x in resultados[datos][resultados.monthly_sharpe>.9].T]"
      ],
      "execution_count": 0,
      "outputs": []
    },
    {
      "metadata": {
        "id": "26k01bg1syOq",
        "colab_type": "code",
        "outputId": "9323c92b-ad71-4eba-bfbb-9301861343c7",
        "colab": {
          "base_uri": "https://localhost:8080/",
          "height": 34
        }
      },
      "cell_type": "code",
      "source": [
        "#seleccion.append('neutro')\n",
        "print (seleccion)"
      ],
      "execution_count": 43,
      "outputs": [
        {
          "output_type": "stream",
          "text": [
            "['serie_res_20d220p', 'serie_res_220d220p', 'serie_res_40d220p']\n"
          ],
          "name": "stdout"
        }
      ]
    },
    {
      "metadata": {
        "id": "oN1aFnsLtTTI",
        "colab_type": "code",
        "colab": {}
      },
      "cell_type": "code",
      "source": [
        "#1.- calculamos los retoenos en log\n",
        "\n",
        "cum_diario_log_retornos = pd.DataFrame()  \n",
        "for stock in seleccion:     \n",
        "\n",
        "    nombre='{}_l'.format(stock)\n",
        "    cum_diario_log_retornos[nombre] =    np.log(cum_daily_return[stock]/cum_daily_return[stock].shift(1))\n"
      ],
      "execution_count": 0,
      "outputs": []
    },
    {
      "metadata": {
        "id": "6OEemcSkuZYN",
        "colab_type": "code",
        "outputId": "594cecc6-1c42-419c-b222-d9ffb0f123be",
        "colab": {
          "base_uri": "https://localhost:8080/",
          "height": 235
        }
      },
      "cell_type": "code",
      "source": [
        "cum_diario_log_retornos.tail()\n"
      ],
      "execution_count": 45,
      "outputs": [
        {
          "output_type": "execute_result",
          "data": {
            "text/html": [
              "<div>\n",
              "<style scoped>\n",
              "    .dataframe tbody tr th:only-of-type {\n",
              "        vertical-align: middle;\n",
              "    }\n",
              "\n",
              "    .dataframe tbody tr th {\n",
              "        vertical-align: top;\n",
              "    }\n",
              "\n",
              "    .dataframe thead th {\n",
              "        text-align: right;\n",
              "    }\n",
              "</style>\n",
              "<table border=\"1\" class=\"dataframe\">\n",
              "  <thead>\n",
              "    <tr style=\"text-align: right;\">\n",
              "      <th></th>\n",
              "      <th>serie_res_20d220p_l</th>\n",
              "      <th>serie_res_220d220p_l</th>\n",
              "      <th>serie_res_40d220p_l</th>\n",
              "    </tr>\n",
              "    <tr>\n",
              "      <th>Date</th>\n",
              "      <th></th>\n",
              "      <th></th>\n",
              "      <th></th>\n",
              "    </tr>\n",
              "  </thead>\n",
              "  <tbody>\n",
              "    <tr>\n",
              "      <th>2018-09-25</th>\n",
              "      <td>0.0</td>\n",
              "      <td>0.014789</td>\n",
              "      <td>0.0</td>\n",
              "    </tr>\n",
              "    <tr>\n",
              "      <th>2018-09-26</th>\n",
              "      <td>0.0</td>\n",
              "      <td>0.007022</td>\n",
              "      <td>0.0</td>\n",
              "    </tr>\n",
              "    <tr>\n",
              "      <th>2018-09-27</th>\n",
              "      <td>0.0</td>\n",
              "      <td>0.002911</td>\n",
              "      <td>0.0</td>\n",
              "    </tr>\n",
              "    <tr>\n",
              "      <th>2018-09-28</th>\n",
              "      <td>0.0</td>\n",
              "      <td>-0.002037</td>\n",
              "      <td>0.0</td>\n",
              "    </tr>\n",
              "    <tr>\n",
              "      <th>2018-10-01</th>\n",
              "      <td>0.0</td>\n",
              "      <td>0.004070</td>\n",
              "      <td>0.0</td>\n",
              "    </tr>\n",
              "  </tbody>\n",
              "</table>\n",
              "</div>"
            ],
            "text/plain": [
              "            serie_res_20d220p_l  serie_res_220d220p_l  serie_res_40d220p_l\n",
              "Date                                                                      \n",
              "2018-09-25                  0.0              0.014789                  0.0\n",
              "2018-09-26                  0.0              0.007022                  0.0\n",
              "2018-09-27                  0.0              0.002911                  0.0\n",
              "2018-09-28                  0.0             -0.002037                  0.0\n",
              "2018-10-01                  0.0              0.004070                  0.0"
            ]
          },
          "metadata": {
            "tags": []
          },
          "execution_count": 45
        }
      ]
    },
    {
      "metadata": {
        "id": "HBVvbymdzgef",
        "colab_type": "code",
        "outputId": "35f84b91-bea5-4a4a-dd94-91f740fa09d9",
        "colab": {
          "base_uri": "https://localhost:8080/",
          "height": 71
        }
      },
      "cell_type": "code",
      "source": [
        "cum_diario=cum_daily_return[seleccion]\n",
        "resultados= []\n",
        "for periodo in periodos:\n",
        "    nombre='suma_{}p'.format(periodo)\n",
        "    resultados.append(nombre)\n",
        "    cum_daily_return[nombre]=cum_daily_return[seleccion].pct_change(periodo).apply(lambda x: x.argmax(), axis=1)\n",
        "    #hay que poner el pct_change"
      ],
      "execution_count": 46,
      "outputs": [
        {
          "output_type": "stream",
          "text": [
            "/usr/local/lib/python3.6/dist-packages/ipykernel_launcher.py:6: FutureWarning: 'argmax' is deprecated. Use 'idxmax' instead. The behavior of 'argmax' will be corrected to return the positional maximum in the future. Use 'series.values.argmax' to get the position of the maximum now.\n",
            "  \n"
          ],
          "name": "stderr"
        }
      ]
    },
    {
      "metadata": {
        "id": "d5JKhwtV5kXc",
        "colab_type": "code",
        "colab": {
          "base_uri": "https://localhost:8080/",
          "height": 136
        },
        "outputId": "5ace3c0f-8f95-4d50-f6b3-b3bf8522173d"
      },
      "cell_type": "code",
      "source": [
        "resultados\n",
        "#cum_daily_return[resultados].tail()"
      ],
      "execution_count": 47,
      "outputs": [
        {
          "output_type": "execute_result",
          "data": {
            "text/plain": [
              "['suma_5p',\n",
              " 'suma_10p',\n",
              " 'suma_20p',\n",
              " 'suma_40p',\n",
              " 'suma_60p',\n",
              " 'suma_110p',\n",
              " 'suma_220p']"
            ]
          },
          "metadata": {
            "tags": []
          },
          "execution_count": 47
        }
      ]
    },
    {
      "metadata": {
        "id": "0I2W5XDqz67T",
        "colab_type": "code",
        "outputId": "8637d2a0-cd34-47cc-c5aa-61c588f0e231",
        "colab": {
          "base_uri": "https://localhost:8080/",
          "height": 3020
        }
      },
      "cell_type": "code",
      "source": [
        "cum_daily_return[resultados]"
      ],
      "execution_count": 48,
      "outputs": [
        {
          "output_type": "execute_result",
          "data": {
            "text/html": [
              "<div>\n",
              "<style scoped>\n",
              "    .dataframe tbody tr th:only-of-type {\n",
              "        vertical-align: middle;\n",
              "    }\n",
              "\n",
              "    .dataframe tbody tr th {\n",
              "        vertical-align: top;\n",
              "    }\n",
              "\n",
              "    .dataframe thead th {\n",
              "        text-align: right;\n",
              "    }\n",
              "</style>\n",
              "<table border=\"1\" class=\"dataframe\">\n",
              "  <thead>\n",
              "    <tr style=\"text-align: right;\">\n",
              "      <th></th>\n",
              "      <th>suma_5p</th>\n",
              "      <th>suma_10p</th>\n",
              "      <th>suma_20p</th>\n",
              "      <th>suma_40p</th>\n",
              "      <th>suma_60p</th>\n",
              "      <th>suma_110p</th>\n",
              "      <th>suma_220p</th>\n",
              "    </tr>\n",
              "    <tr>\n",
              "      <th>Date</th>\n",
              "      <th></th>\n",
              "      <th></th>\n",
              "      <th></th>\n",
              "      <th></th>\n",
              "      <th></th>\n",
              "      <th></th>\n",
              "      <th></th>\n",
              "    </tr>\n",
              "  </thead>\n",
              "  <tbody>\n",
              "    <tr>\n",
              "      <th>2008-01-02</th>\n",
              "      <td>NaN</td>\n",
              "      <td>NaN</td>\n",
              "      <td>NaN</td>\n",
              "      <td>NaN</td>\n",
              "      <td>NaN</td>\n",
              "      <td>NaN</td>\n",
              "      <td>NaN</td>\n",
              "    </tr>\n",
              "    <tr>\n",
              "      <th>2008-01-03</th>\n",
              "      <td>NaN</td>\n",
              "      <td>NaN</td>\n",
              "      <td>NaN</td>\n",
              "      <td>NaN</td>\n",
              "      <td>NaN</td>\n",
              "      <td>NaN</td>\n",
              "      <td>NaN</td>\n",
              "    </tr>\n",
              "    <tr>\n",
              "      <th>2008-01-04</th>\n",
              "      <td>NaN</td>\n",
              "      <td>NaN</td>\n",
              "      <td>NaN</td>\n",
              "      <td>NaN</td>\n",
              "      <td>NaN</td>\n",
              "      <td>NaN</td>\n",
              "      <td>NaN</td>\n",
              "    </tr>\n",
              "    <tr>\n",
              "      <th>2008-01-07</th>\n",
              "      <td>NaN</td>\n",
              "      <td>NaN</td>\n",
              "      <td>NaN</td>\n",
              "      <td>NaN</td>\n",
              "      <td>NaN</td>\n",
              "      <td>NaN</td>\n",
              "      <td>NaN</td>\n",
              "    </tr>\n",
              "    <tr>\n",
              "      <th>2008-01-08</th>\n",
              "      <td>NaN</td>\n",
              "      <td>NaN</td>\n",
              "      <td>NaN</td>\n",
              "      <td>NaN</td>\n",
              "      <td>NaN</td>\n",
              "      <td>NaN</td>\n",
              "      <td>NaN</td>\n",
              "    </tr>\n",
              "    <tr>\n",
              "      <th>2008-01-09</th>\n",
              "      <td>serie_res_20d220p</td>\n",
              "      <td>NaN</td>\n",
              "      <td>NaN</td>\n",
              "      <td>NaN</td>\n",
              "      <td>NaN</td>\n",
              "      <td>NaN</td>\n",
              "      <td>NaN</td>\n",
              "    </tr>\n",
              "    <tr>\n",
              "      <th>2008-01-10</th>\n",
              "      <td>serie_res_20d220p</td>\n",
              "      <td>NaN</td>\n",
              "      <td>NaN</td>\n",
              "      <td>NaN</td>\n",
              "      <td>NaN</td>\n",
              "      <td>NaN</td>\n",
              "      <td>NaN</td>\n",
              "    </tr>\n",
              "    <tr>\n",
              "      <th>2008-01-11</th>\n",
              "      <td>serie_res_20d220p</td>\n",
              "      <td>NaN</td>\n",
              "      <td>NaN</td>\n",
              "      <td>NaN</td>\n",
              "      <td>NaN</td>\n",
              "      <td>NaN</td>\n",
              "      <td>NaN</td>\n",
              "    </tr>\n",
              "    <tr>\n",
              "      <th>2008-01-14</th>\n",
              "      <td>serie_res_20d220p</td>\n",
              "      <td>NaN</td>\n",
              "      <td>NaN</td>\n",
              "      <td>NaN</td>\n",
              "      <td>NaN</td>\n",
              "      <td>NaN</td>\n",
              "      <td>NaN</td>\n",
              "    </tr>\n",
              "    <tr>\n",
              "      <th>2008-01-15</th>\n",
              "      <td>serie_res_20d220p</td>\n",
              "      <td>NaN</td>\n",
              "      <td>NaN</td>\n",
              "      <td>NaN</td>\n",
              "      <td>NaN</td>\n",
              "      <td>NaN</td>\n",
              "      <td>NaN</td>\n",
              "    </tr>\n",
              "    <tr>\n",
              "      <th>2008-01-16</th>\n",
              "      <td>serie_res_20d220p</td>\n",
              "      <td>serie_res_20d220p</td>\n",
              "      <td>NaN</td>\n",
              "      <td>NaN</td>\n",
              "      <td>NaN</td>\n",
              "      <td>NaN</td>\n",
              "      <td>NaN</td>\n",
              "    </tr>\n",
              "    <tr>\n",
              "      <th>2008-01-17</th>\n",
              "      <td>serie_res_20d220p</td>\n",
              "      <td>serie_res_20d220p</td>\n",
              "      <td>NaN</td>\n",
              "      <td>NaN</td>\n",
              "      <td>NaN</td>\n",
              "      <td>NaN</td>\n",
              "      <td>NaN</td>\n",
              "    </tr>\n",
              "    <tr>\n",
              "      <th>2008-01-18</th>\n",
              "      <td>serie_res_20d220p</td>\n",
              "      <td>serie_res_20d220p</td>\n",
              "      <td>NaN</td>\n",
              "      <td>NaN</td>\n",
              "      <td>NaN</td>\n",
              "      <td>NaN</td>\n",
              "      <td>NaN</td>\n",
              "    </tr>\n",
              "    <tr>\n",
              "      <th>2008-01-21</th>\n",
              "      <td>serie_res_20d220p</td>\n",
              "      <td>serie_res_20d220p</td>\n",
              "      <td>NaN</td>\n",
              "      <td>NaN</td>\n",
              "      <td>NaN</td>\n",
              "      <td>NaN</td>\n",
              "      <td>NaN</td>\n",
              "    </tr>\n",
              "    <tr>\n",
              "      <th>2008-01-22</th>\n",
              "      <td>serie_res_20d220p</td>\n",
              "      <td>serie_res_20d220p</td>\n",
              "      <td>NaN</td>\n",
              "      <td>NaN</td>\n",
              "      <td>NaN</td>\n",
              "      <td>NaN</td>\n",
              "      <td>NaN</td>\n",
              "    </tr>\n",
              "    <tr>\n",
              "      <th>2008-01-23</th>\n",
              "      <td>serie_res_20d220p</td>\n",
              "      <td>serie_res_20d220p</td>\n",
              "      <td>NaN</td>\n",
              "      <td>NaN</td>\n",
              "      <td>NaN</td>\n",
              "      <td>NaN</td>\n",
              "      <td>NaN</td>\n",
              "    </tr>\n",
              "    <tr>\n",
              "      <th>2008-01-24</th>\n",
              "      <td>serie_res_20d220p</td>\n",
              "      <td>serie_res_20d220p</td>\n",
              "      <td>NaN</td>\n",
              "      <td>NaN</td>\n",
              "      <td>NaN</td>\n",
              "      <td>NaN</td>\n",
              "      <td>NaN</td>\n",
              "    </tr>\n",
              "    <tr>\n",
              "      <th>2008-01-25</th>\n",
              "      <td>serie_res_20d220p</td>\n",
              "      <td>serie_res_20d220p</td>\n",
              "      <td>NaN</td>\n",
              "      <td>NaN</td>\n",
              "      <td>NaN</td>\n",
              "      <td>NaN</td>\n",
              "      <td>NaN</td>\n",
              "    </tr>\n",
              "    <tr>\n",
              "      <th>2008-01-28</th>\n",
              "      <td>serie_res_20d220p</td>\n",
              "      <td>serie_res_20d220p</td>\n",
              "      <td>NaN</td>\n",
              "      <td>NaN</td>\n",
              "      <td>NaN</td>\n",
              "      <td>NaN</td>\n",
              "      <td>NaN</td>\n",
              "    </tr>\n",
              "    <tr>\n",
              "      <th>2008-01-29</th>\n",
              "      <td>serie_res_20d220p</td>\n",
              "      <td>serie_res_20d220p</td>\n",
              "      <td>NaN</td>\n",
              "      <td>NaN</td>\n",
              "      <td>NaN</td>\n",
              "      <td>NaN</td>\n",
              "      <td>NaN</td>\n",
              "    </tr>\n",
              "    <tr>\n",
              "      <th>2008-01-30</th>\n",
              "      <td>serie_res_20d220p</td>\n",
              "      <td>serie_res_20d220p</td>\n",
              "      <td>serie_res_20d220p</td>\n",
              "      <td>NaN</td>\n",
              "      <td>NaN</td>\n",
              "      <td>NaN</td>\n",
              "      <td>NaN</td>\n",
              "    </tr>\n",
              "    <tr>\n",
              "      <th>2008-01-31</th>\n",
              "      <td>serie_res_20d220p</td>\n",
              "      <td>serie_res_20d220p</td>\n",
              "      <td>serie_res_20d220p</td>\n",
              "      <td>NaN</td>\n",
              "      <td>NaN</td>\n",
              "      <td>NaN</td>\n",
              "      <td>NaN</td>\n",
              "    </tr>\n",
              "    <tr>\n",
              "      <th>2008-02-01</th>\n",
              "      <td>serie_res_20d220p</td>\n",
              "      <td>serie_res_20d220p</td>\n",
              "      <td>serie_res_20d220p</td>\n",
              "      <td>NaN</td>\n",
              "      <td>NaN</td>\n",
              "      <td>NaN</td>\n",
              "      <td>NaN</td>\n",
              "    </tr>\n",
              "    <tr>\n",
              "      <th>2008-02-04</th>\n",
              "      <td>serie_res_20d220p</td>\n",
              "      <td>serie_res_20d220p</td>\n",
              "      <td>serie_res_20d220p</td>\n",
              "      <td>NaN</td>\n",
              "      <td>NaN</td>\n",
              "      <td>NaN</td>\n",
              "      <td>NaN</td>\n",
              "    </tr>\n",
              "    <tr>\n",
              "      <th>2008-02-05</th>\n",
              "      <td>serie_res_20d220p</td>\n",
              "      <td>serie_res_20d220p</td>\n",
              "      <td>serie_res_20d220p</td>\n",
              "      <td>NaN</td>\n",
              "      <td>NaN</td>\n",
              "      <td>NaN</td>\n",
              "      <td>NaN</td>\n",
              "    </tr>\n",
              "    <tr>\n",
              "      <th>2008-02-06</th>\n",
              "      <td>serie_res_20d220p</td>\n",
              "      <td>serie_res_20d220p</td>\n",
              "      <td>serie_res_20d220p</td>\n",
              "      <td>NaN</td>\n",
              "      <td>NaN</td>\n",
              "      <td>NaN</td>\n",
              "      <td>NaN</td>\n",
              "    </tr>\n",
              "    <tr>\n",
              "      <th>2008-02-07</th>\n",
              "      <td>serie_res_20d220p</td>\n",
              "      <td>serie_res_20d220p</td>\n",
              "      <td>serie_res_20d220p</td>\n",
              "      <td>NaN</td>\n",
              "      <td>NaN</td>\n",
              "      <td>NaN</td>\n",
              "      <td>NaN</td>\n",
              "    </tr>\n",
              "    <tr>\n",
              "      <th>2008-02-08</th>\n",
              "      <td>serie_res_20d220p</td>\n",
              "      <td>serie_res_20d220p</td>\n",
              "      <td>serie_res_20d220p</td>\n",
              "      <td>NaN</td>\n",
              "      <td>NaN</td>\n",
              "      <td>NaN</td>\n",
              "      <td>NaN</td>\n",
              "    </tr>\n",
              "    <tr>\n",
              "      <th>2008-02-11</th>\n",
              "      <td>serie_res_20d220p</td>\n",
              "      <td>serie_res_20d220p</td>\n",
              "      <td>serie_res_20d220p</td>\n",
              "      <td>NaN</td>\n",
              "      <td>NaN</td>\n",
              "      <td>NaN</td>\n",
              "      <td>NaN</td>\n",
              "    </tr>\n",
              "    <tr>\n",
              "      <th>2008-02-12</th>\n",
              "      <td>serie_res_20d220p</td>\n",
              "      <td>serie_res_20d220p</td>\n",
              "      <td>serie_res_20d220p</td>\n",
              "      <td>NaN</td>\n",
              "      <td>NaN</td>\n",
              "      <td>NaN</td>\n",
              "      <td>NaN</td>\n",
              "    </tr>\n",
              "    <tr>\n",
              "      <th>...</th>\n",
              "      <td>...</td>\n",
              "      <td>...</td>\n",
              "      <td>...</td>\n",
              "      <td>...</td>\n",
              "      <td>...</td>\n",
              "      <td>...</td>\n",
              "      <td>...</td>\n",
              "    </tr>\n",
              "    <tr>\n",
              "      <th>2018-08-14</th>\n",
              "      <td>serie_res_40d220p</td>\n",
              "      <td>serie_res_40d220p</td>\n",
              "      <td>serie_res_40d220p</td>\n",
              "      <td>serie_res_40d220p</td>\n",
              "      <td>serie_res_220d220p</td>\n",
              "      <td>serie_res_220d220p</td>\n",
              "      <td>serie_res_20d220p</td>\n",
              "    </tr>\n",
              "    <tr>\n",
              "      <th>2018-08-15</th>\n",
              "      <td>serie_res_40d220p</td>\n",
              "      <td>serie_res_40d220p</td>\n",
              "      <td>serie_res_40d220p</td>\n",
              "      <td>serie_res_20d220p</td>\n",
              "      <td>serie_res_20d220p</td>\n",
              "      <td>serie_res_220d220p</td>\n",
              "      <td>serie_res_20d220p</td>\n",
              "    </tr>\n",
              "    <tr>\n",
              "      <th>2018-08-16</th>\n",
              "      <td>serie_res_40d220p</td>\n",
              "      <td>serie_res_40d220p</td>\n",
              "      <td>serie_res_40d220p</td>\n",
              "      <td>serie_res_20d220p</td>\n",
              "      <td>serie_res_20d220p</td>\n",
              "      <td>serie_res_220d220p</td>\n",
              "      <td>serie_res_20d220p</td>\n",
              "    </tr>\n",
              "    <tr>\n",
              "      <th>2018-08-17</th>\n",
              "      <td>serie_res_40d220p</td>\n",
              "      <td>serie_res_40d220p</td>\n",
              "      <td>serie_res_40d220p</td>\n",
              "      <td>serie_res_20d220p</td>\n",
              "      <td>serie_res_20d220p</td>\n",
              "      <td>serie_res_220d220p</td>\n",
              "      <td>serie_res_20d220p</td>\n",
              "    </tr>\n",
              "    <tr>\n",
              "      <th>2018-08-20</th>\n",
              "      <td>serie_res_20d220p</td>\n",
              "      <td>serie_res_40d220p</td>\n",
              "      <td>serie_res_40d220p</td>\n",
              "      <td>serie_res_20d220p</td>\n",
              "      <td>serie_res_20d220p</td>\n",
              "      <td>serie_res_220d220p</td>\n",
              "      <td>serie_res_20d220p</td>\n",
              "    </tr>\n",
              "    <tr>\n",
              "      <th>2018-08-21</th>\n",
              "      <td>serie_res_20d220p</td>\n",
              "      <td>serie_res_40d220p</td>\n",
              "      <td>serie_res_20d220p</td>\n",
              "      <td>serie_res_20d220p</td>\n",
              "      <td>serie_res_20d220p</td>\n",
              "      <td>serie_res_220d220p</td>\n",
              "      <td>serie_res_20d220p</td>\n",
              "    </tr>\n",
              "    <tr>\n",
              "      <th>2018-08-22</th>\n",
              "      <td>serie_res_220d220p</td>\n",
              "      <td>serie_res_40d220p</td>\n",
              "      <td>serie_res_20d220p</td>\n",
              "      <td>serie_res_20d220p</td>\n",
              "      <td>serie_res_20d220p</td>\n",
              "      <td>serie_res_220d220p</td>\n",
              "      <td>serie_res_20d220p</td>\n",
              "    </tr>\n",
              "    <tr>\n",
              "      <th>2018-08-23</th>\n",
              "      <td>serie_res_20d220p</td>\n",
              "      <td>serie_res_40d220p</td>\n",
              "      <td>serie_res_20d220p</td>\n",
              "      <td>serie_res_20d220p</td>\n",
              "      <td>serie_res_20d220p</td>\n",
              "      <td>serie_res_220d220p</td>\n",
              "      <td>serie_res_20d220p</td>\n",
              "    </tr>\n",
              "    <tr>\n",
              "      <th>2018-08-24</th>\n",
              "      <td>serie_res_220d220p</td>\n",
              "      <td>serie_res_20d220p</td>\n",
              "      <td>serie_res_20d220p</td>\n",
              "      <td>serie_res_20d220p</td>\n",
              "      <td>serie_res_20d220p</td>\n",
              "      <td>serie_res_220d220p</td>\n",
              "      <td>serie_res_20d220p</td>\n",
              "    </tr>\n",
              "    <tr>\n",
              "      <th>2018-08-27</th>\n",
              "      <td>serie_res_220d220p</td>\n",
              "      <td>serie_res_20d220p</td>\n",
              "      <td>serie_res_20d220p</td>\n",
              "      <td>serie_res_20d220p</td>\n",
              "      <td>serie_res_20d220p</td>\n",
              "      <td>serie_res_220d220p</td>\n",
              "      <td>serie_res_20d220p</td>\n",
              "    </tr>\n",
              "    <tr>\n",
              "      <th>2018-08-28</th>\n",
              "      <td>serie_res_220d220p</td>\n",
              "      <td>serie_res_20d220p</td>\n",
              "      <td>serie_res_40d220p</td>\n",
              "      <td>serie_res_20d220p</td>\n",
              "      <td>serie_res_220d220p</td>\n",
              "      <td>serie_res_220d220p</td>\n",
              "      <td>serie_res_20d220p</td>\n",
              "    </tr>\n",
              "    <tr>\n",
              "      <th>2018-08-29</th>\n",
              "      <td>serie_res_220d220p</td>\n",
              "      <td>serie_res_220d220p</td>\n",
              "      <td>serie_res_20d220p</td>\n",
              "      <td>serie_res_20d220p</td>\n",
              "      <td>serie_res_220d220p</td>\n",
              "      <td>serie_res_220d220p</td>\n",
              "      <td>serie_res_20d220p</td>\n",
              "    </tr>\n",
              "    <tr>\n",
              "      <th>2018-08-30</th>\n",
              "      <td>serie_res_220d220p</td>\n",
              "      <td>serie_res_220d220p</td>\n",
              "      <td>serie_res_20d220p</td>\n",
              "      <td>serie_res_40d220p</td>\n",
              "      <td>serie_res_40d220p</td>\n",
              "      <td>serie_res_220d220p</td>\n",
              "      <td>serie_res_20d220p</td>\n",
              "    </tr>\n",
              "    <tr>\n",
              "      <th>2018-08-31</th>\n",
              "      <td>serie_res_220d220p</td>\n",
              "      <td>serie_res_220d220p</td>\n",
              "      <td>serie_res_40d220p</td>\n",
              "      <td>serie_res_40d220p</td>\n",
              "      <td>serie_res_40d220p</td>\n",
              "      <td>serie_res_220d220p</td>\n",
              "      <td>serie_res_20d220p</td>\n",
              "    </tr>\n",
              "    <tr>\n",
              "      <th>2018-09-03</th>\n",
              "      <td>serie_res_220d220p</td>\n",
              "      <td>serie_res_220d220p</td>\n",
              "      <td>serie_res_20d220p</td>\n",
              "      <td>serie_res_40d220p</td>\n",
              "      <td>serie_res_40d220p</td>\n",
              "      <td>serie_res_220d220p</td>\n",
              "      <td>serie_res_20d220p</td>\n",
              "    </tr>\n",
              "    <tr>\n",
              "      <th>2018-09-04</th>\n",
              "      <td>serie_res_20d220p</td>\n",
              "      <td>serie_res_220d220p</td>\n",
              "      <td>serie_res_20d220p</td>\n",
              "      <td>serie_res_20d220p</td>\n",
              "      <td>serie_res_40d220p</td>\n",
              "      <td>serie_res_220d220p</td>\n",
              "      <td>serie_res_20d220p</td>\n",
              "    </tr>\n",
              "    <tr>\n",
              "      <th>2018-09-05</th>\n",
              "      <td>serie_res_40d220p</td>\n",
              "      <td>serie_res_220d220p</td>\n",
              "      <td>serie_res_40d220p</td>\n",
              "      <td>serie_res_40d220p</td>\n",
              "      <td>serie_res_40d220p</td>\n",
              "      <td>serie_res_220d220p</td>\n",
              "      <td>serie_res_20d220p</td>\n",
              "    </tr>\n",
              "    <tr>\n",
              "      <th>2018-09-06</th>\n",
              "      <td>serie_res_40d220p</td>\n",
              "      <td>serie_res_40d220p</td>\n",
              "      <td>serie_res_40d220p</td>\n",
              "      <td>serie_res_40d220p</td>\n",
              "      <td>serie_res_40d220p</td>\n",
              "      <td>serie_res_220d220p</td>\n",
              "      <td>serie_res_20d220p</td>\n",
              "    </tr>\n",
              "    <tr>\n",
              "      <th>2018-09-07</th>\n",
              "      <td>serie_res_20d220p</td>\n",
              "      <td>serie_res_20d220p</td>\n",
              "      <td>serie_res_20d220p</td>\n",
              "      <td>serie_res_40d220p</td>\n",
              "      <td>serie_res_40d220p</td>\n",
              "      <td>serie_res_20d220p</td>\n",
              "      <td>serie_res_20d220p</td>\n",
              "    </tr>\n",
              "    <tr>\n",
              "      <th>2018-09-10</th>\n",
              "      <td>serie_res_40d220p</td>\n",
              "      <td>serie_res_40d220p</td>\n",
              "      <td>serie_res_20d220p</td>\n",
              "      <td>serie_res_20d220p</td>\n",
              "      <td>serie_res_40d220p</td>\n",
              "      <td>serie_res_20d220p</td>\n",
              "      <td>serie_res_20d220p</td>\n",
              "    </tr>\n",
              "    <tr>\n",
              "      <th>2018-09-11</th>\n",
              "      <td>serie_res_40d220p</td>\n",
              "      <td>serie_res_220d220p</td>\n",
              "      <td>serie_res_220d220p</td>\n",
              "      <td>serie_res_20d220p</td>\n",
              "      <td>serie_res_220d220p</td>\n",
              "      <td>serie_res_220d220p</td>\n",
              "      <td>serie_res_20d220p</td>\n",
              "    </tr>\n",
              "    <tr>\n",
              "      <th>2018-09-12</th>\n",
              "      <td>serie_res_220d220p</td>\n",
              "      <td>serie_res_220d220p</td>\n",
              "      <td>serie_res_220d220p</td>\n",
              "      <td>serie_res_220d220p</td>\n",
              "      <td>serie_res_220d220p</td>\n",
              "      <td>serie_res_220d220p</td>\n",
              "      <td>serie_res_20d220p</td>\n",
              "    </tr>\n",
              "    <tr>\n",
              "      <th>2018-09-13</th>\n",
              "      <td>serie_res_220d220p</td>\n",
              "      <td>serie_res_220d220p</td>\n",
              "      <td>serie_res_220d220p</td>\n",
              "      <td>serie_res_220d220p</td>\n",
              "      <td>serie_res_220d220p</td>\n",
              "      <td>serie_res_220d220p</td>\n",
              "      <td>serie_res_20d220p</td>\n",
              "    </tr>\n",
              "    <tr>\n",
              "      <th>2018-09-14</th>\n",
              "      <td>serie_res_220d220p</td>\n",
              "      <td>serie_res_220d220p</td>\n",
              "      <td>serie_res_220d220p</td>\n",
              "      <td>serie_res_220d220p</td>\n",
              "      <td>serie_res_220d220p</td>\n",
              "      <td>serie_res_220d220p</td>\n",
              "      <td>serie_res_20d220p</td>\n",
              "    </tr>\n",
              "    <tr>\n",
              "      <th>2018-09-24</th>\n",
              "      <td>serie_res_220d220p</td>\n",
              "      <td>serie_res_220d220p</td>\n",
              "      <td>serie_res_220d220p</td>\n",
              "      <td>serie_res_20d220p</td>\n",
              "      <td>serie_res_20d220p</td>\n",
              "      <td>serie_res_220d220p</td>\n",
              "      <td>serie_res_20d220p</td>\n",
              "    </tr>\n",
              "    <tr>\n",
              "      <th>2018-09-25</th>\n",
              "      <td>serie_res_220d220p</td>\n",
              "      <td>serie_res_220d220p</td>\n",
              "      <td>serie_res_220d220p</td>\n",
              "      <td>serie_res_220d220p</td>\n",
              "      <td>serie_res_220d220p</td>\n",
              "      <td>serie_res_220d220p</td>\n",
              "      <td>serie_res_220d220p</td>\n",
              "    </tr>\n",
              "    <tr>\n",
              "      <th>2018-09-26</th>\n",
              "      <td>serie_res_220d220p</td>\n",
              "      <td>serie_res_220d220p</td>\n",
              "      <td>serie_res_220d220p</td>\n",
              "      <td>serie_res_220d220p</td>\n",
              "      <td>serie_res_220d220p</td>\n",
              "      <td>serie_res_220d220p</td>\n",
              "      <td>serie_res_220d220p</td>\n",
              "    </tr>\n",
              "    <tr>\n",
              "      <th>2018-09-27</th>\n",
              "      <td>serie_res_220d220p</td>\n",
              "      <td>serie_res_220d220p</td>\n",
              "      <td>serie_res_220d220p</td>\n",
              "      <td>serie_res_220d220p</td>\n",
              "      <td>serie_res_220d220p</td>\n",
              "      <td>serie_res_220d220p</td>\n",
              "      <td>serie_res_220d220p</td>\n",
              "    </tr>\n",
              "    <tr>\n",
              "      <th>2018-09-28</th>\n",
              "      <td>serie_res_220d220p</td>\n",
              "      <td>serie_res_220d220p</td>\n",
              "      <td>serie_res_220d220p</td>\n",
              "      <td>serie_res_220d220p</td>\n",
              "      <td>serie_res_220d220p</td>\n",
              "      <td>serie_res_220d220p</td>\n",
              "      <td>serie_res_220d220p</td>\n",
              "    </tr>\n",
              "    <tr>\n",
              "      <th>2018-10-01</th>\n",
              "      <td>serie_res_220d220p</td>\n",
              "      <td>serie_res_220d220p</td>\n",
              "      <td>serie_res_220d220p</td>\n",
              "      <td>serie_res_220d220p</td>\n",
              "      <td>serie_res_220d220p</td>\n",
              "      <td>serie_res_220d220p</td>\n",
              "      <td>serie_res_220d220p</td>\n",
              "    </tr>\n",
              "  </tbody>\n",
              "</table>\n",
              "<p>2742 rows × 7 columns</p>\n",
              "</div>"
            ],
            "text/plain": [
              "                       suma_5p            suma_10p            suma_20p  \\\n",
              "Date                                                                     \n",
              "2008-01-02                 NaN                 NaN                 NaN   \n",
              "2008-01-03                 NaN                 NaN                 NaN   \n",
              "2008-01-04                 NaN                 NaN                 NaN   \n",
              "2008-01-07                 NaN                 NaN                 NaN   \n",
              "2008-01-08                 NaN                 NaN                 NaN   \n",
              "2008-01-09   serie_res_20d220p                 NaN                 NaN   \n",
              "2008-01-10   serie_res_20d220p                 NaN                 NaN   \n",
              "2008-01-11   serie_res_20d220p                 NaN                 NaN   \n",
              "2008-01-14   serie_res_20d220p                 NaN                 NaN   \n",
              "2008-01-15   serie_res_20d220p                 NaN                 NaN   \n",
              "2008-01-16   serie_res_20d220p   serie_res_20d220p                 NaN   \n",
              "2008-01-17   serie_res_20d220p   serie_res_20d220p                 NaN   \n",
              "2008-01-18   serie_res_20d220p   serie_res_20d220p                 NaN   \n",
              "2008-01-21   serie_res_20d220p   serie_res_20d220p                 NaN   \n",
              "2008-01-22   serie_res_20d220p   serie_res_20d220p                 NaN   \n",
              "2008-01-23   serie_res_20d220p   serie_res_20d220p                 NaN   \n",
              "2008-01-24   serie_res_20d220p   serie_res_20d220p                 NaN   \n",
              "2008-01-25   serie_res_20d220p   serie_res_20d220p                 NaN   \n",
              "2008-01-28   serie_res_20d220p   serie_res_20d220p                 NaN   \n",
              "2008-01-29   serie_res_20d220p   serie_res_20d220p                 NaN   \n",
              "2008-01-30   serie_res_20d220p   serie_res_20d220p   serie_res_20d220p   \n",
              "2008-01-31   serie_res_20d220p   serie_res_20d220p   serie_res_20d220p   \n",
              "2008-02-01   serie_res_20d220p   serie_res_20d220p   serie_res_20d220p   \n",
              "2008-02-04   serie_res_20d220p   serie_res_20d220p   serie_res_20d220p   \n",
              "2008-02-05   serie_res_20d220p   serie_res_20d220p   serie_res_20d220p   \n",
              "2008-02-06   serie_res_20d220p   serie_res_20d220p   serie_res_20d220p   \n",
              "2008-02-07   serie_res_20d220p   serie_res_20d220p   serie_res_20d220p   \n",
              "2008-02-08   serie_res_20d220p   serie_res_20d220p   serie_res_20d220p   \n",
              "2008-02-11   serie_res_20d220p   serie_res_20d220p   serie_res_20d220p   \n",
              "2008-02-12   serie_res_20d220p   serie_res_20d220p   serie_res_20d220p   \n",
              "...                        ...                 ...                 ...   \n",
              "2018-08-14   serie_res_40d220p   serie_res_40d220p   serie_res_40d220p   \n",
              "2018-08-15   serie_res_40d220p   serie_res_40d220p   serie_res_40d220p   \n",
              "2018-08-16   serie_res_40d220p   serie_res_40d220p   serie_res_40d220p   \n",
              "2018-08-17   serie_res_40d220p   serie_res_40d220p   serie_res_40d220p   \n",
              "2018-08-20   serie_res_20d220p   serie_res_40d220p   serie_res_40d220p   \n",
              "2018-08-21   serie_res_20d220p   serie_res_40d220p   serie_res_20d220p   \n",
              "2018-08-22  serie_res_220d220p   serie_res_40d220p   serie_res_20d220p   \n",
              "2018-08-23   serie_res_20d220p   serie_res_40d220p   serie_res_20d220p   \n",
              "2018-08-24  serie_res_220d220p   serie_res_20d220p   serie_res_20d220p   \n",
              "2018-08-27  serie_res_220d220p   serie_res_20d220p   serie_res_20d220p   \n",
              "2018-08-28  serie_res_220d220p   serie_res_20d220p   serie_res_40d220p   \n",
              "2018-08-29  serie_res_220d220p  serie_res_220d220p   serie_res_20d220p   \n",
              "2018-08-30  serie_res_220d220p  serie_res_220d220p   serie_res_20d220p   \n",
              "2018-08-31  serie_res_220d220p  serie_res_220d220p   serie_res_40d220p   \n",
              "2018-09-03  serie_res_220d220p  serie_res_220d220p   serie_res_20d220p   \n",
              "2018-09-04   serie_res_20d220p  serie_res_220d220p   serie_res_20d220p   \n",
              "2018-09-05   serie_res_40d220p  serie_res_220d220p   serie_res_40d220p   \n",
              "2018-09-06   serie_res_40d220p   serie_res_40d220p   serie_res_40d220p   \n",
              "2018-09-07   serie_res_20d220p   serie_res_20d220p   serie_res_20d220p   \n",
              "2018-09-10   serie_res_40d220p   serie_res_40d220p   serie_res_20d220p   \n",
              "2018-09-11   serie_res_40d220p  serie_res_220d220p  serie_res_220d220p   \n",
              "2018-09-12  serie_res_220d220p  serie_res_220d220p  serie_res_220d220p   \n",
              "2018-09-13  serie_res_220d220p  serie_res_220d220p  serie_res_220d220p   \n",
              "2018-09-14  serie_res_220d220p  serie_res_220d220p  serie_res_220d220p   \n",
              "2018-09-24  serie_res_220d220p  serie_res_220d220p  serie_res_220d220p   \n",
              "2018-09-25  serie_res_220d220p  serie_res_220d220p  serie_res_220d220p   \n",
              "2018-09-26  serie_res_220d220p  serie_res_220d220p  serie_res_220d220p   \n",
              "2018-09-27  serie_res_220d220p  serie_res_220d220p  serie_res_220d220p   \n",
              "2018-09-28  serie_res_220d220p  serie_res_220d220p  serie_res_220d220p   \n",
              "2018-10-01  serie_res_220d220p  serie_res_220d220p  serie_res_220d220p   \n",
              "\n",
              "                      suma_40p            suma_60p           suma_110p  \\\n",
              "Date                                                                     \n",
              "2008-01-02                 NaN                 NaN                 NaN   \n",
              "2008-01-03                 NaN                 NaN                 NaN   \n",
              "2008-01-04                 NaN                 NaN                 NaN   \n",
              "2008-01-07                 NaN                 NaN                 NaN   \n",
              "2008-01-08                 NaN                 NaN                 NaN   \n",
              "2008-01-09                 NaN                 NaN                 NaN   \n",
              "2008-01-10                 NaN                 NaN                 NaN   \n",
              "2008-01-11                 NaN                 NaN                 NaN   \n",
              "2008-01-14                 NaN                 NaN                 NaN   \n",
              "2008-01-15                 NaN                 NaN                 NaN   \n",
              "2008-01-16                 NaN                 NaN                 NaN   \n",
              "2008-01-17                 NaN                 NaN                 NaN   \n",
              "2008-01-18                 NaN                 NaN                 NaN   \n",
              "2008-01-21                 NaN                 NaN                 NaN   \n",
              "2008-01-22                 NaN                 NaN                 NaN   \n",
              "2008-01-23                 NaN                 NaN                 NaN   \n",
              "2008-01-24                 NaN                 NaN                 NaN   \n",
              "2008-01-25                 NaN                 NaN                 NaN   \n",
              "2008-01-28                 NaN                 NaN                 NaN   \n",
              "2008-01-29                 NaN                 NaN                 NaN   \n",
              "2008-01-30                 NaN                 NaN                 NaN   \n",
              "2008-01-31                 NaN                 NaN                 NaN   \n",
              "2008-02-01                 NaN                 NaN                 NaN   \n",
              "2008-02-04                 NaN                 NaN                 NaN   \n",
              "2008-02-05                 NaN                 NaN                 NaN   \n",
              "2008-02-06                 NaN                 NaN                 NaN   \n",
              "2008-02-07                 NaN                 NaN                 NaN   \n",
              "2008-02-08                 NaN                 NaN                 NaN   \n",
              "2008-02-11                 NaN                 NaN                 NaN   \n",
              "2008-02-12                 NaN                 NaN                 NaN   \n",
              "...                        ...                 ...                 ...   \n",
              "2018-08-14   serie_res_40d220p  serie_res_220d220p  serie_res_220d220p   \n",
              "2018-08-15   serie_res_20d220p   serie_res_20d220p  serie_res_220d220p   \n",
              "2018-08-16   serie_res_20d220p   serie_res_20d220p  serie_res_220d220p   \n",
              "2018-08-17   serie_res_20d220p   serie_res_20d220p  serie_res_220d220p   \n",
              "2018-08-20   serie_res_20d220p   serie_res_20d220p  serie_res_220d220p   \n",
              "2018-08-21   serie_res_20d220p   serie_res_20d220p  serie_res_220d220p   \n",
              "2018-08-22   serie_res_20d220p   serie_res_20d220p  serie_res_220d220p   \n",
              "2018-08-23   serie_res_20d220p   serie_res_20d220p  serie_res_220d220p   \n",
              "2018-08-24   serie_res_20d220p   serie_res_20d220p  serie_res_220d220p   \n",
              "2018-08-27   serie_res_20d220p   serie_res_20d220p  serie_res_220d220p   \n",
              "2018-08-28   serie_res_20d220p  serie_res_220d220p  serie_res_220d220p   \n",
              "2018-08-29   serie_res_20d220p  serie_res_220d220p  serie_res_220d220p   \n",
              "2018-08-30   serie_res_40d220p   serie_res_40d220p  serie_res_220d220p   \n",
              "2018-08-31   serie_res_40d220p   serie_res_40d220p  serie_res_220d220p   \n",
              "2018-09-03   serie_res_40d220p   serie_res_40d220p  serie_res_220d220p   \n",
              "2018-09-04   serie_res_20d220p   serie_res_40d220p  serie_res_220d220p   \n",
              "2018-09-05   serie_res_40d220p   serie_res_40d220p  serie_res_220d220p   \n",
              "2018-09-06   serie_res_40d220p   serie_res_40d220p  serie_res_220d220p   \n",
              "2018-09-07   serie_res_40d220p   serie_res_40d220p   serie_res_20d220p   \n",
              "2018-09-10   serie_res_20d220p   serie_res_40d220p   serie_res_20d220p   \n",
              "2018-09-11   serie_res_20d220p  serie_res_220d220p  serie_res_220d220p   \n",
              "2018-09-12  serie_res_220d220p  serie_res_220d220p  serie_res_220d220p   \n",
              "2018-09-13  serie_res_220d220p  serie_res_220d220p  serie_res_220d220p   \n",
              "2018-09-14  serie_res_220d220p  serie_res_220d220p  serie_res_220d220p   \n",
              "2018-09-24   serie_res_20d220p   serie_res_20d220p  serie_res_220d220p   \n",
              "2018-09-25  serie_res_220d220p  serie_res_220d220p  serie_res_220d220p   \n",
              "2018-09-26  serie_res_220d220p  serie_res_220d220p  serie_res_220d220p   \n",
              "2018-09-27  serie_res_220d220p  serie_res_220d220p  serie_res_220d220p   \n",
              "2018-09-28  serie_res_220d220p  serie_res_220d220p  serie_res_220d220p   \n",
              "2018-10-01  serie_res_220d220p  serie_res_220d220p  serie_res_220d220p   \n",
              "\n",
              "                     suma_220p  \n",
              "Date                            \n",
              "2008-01-02                 NaN  \n",
              "2008-01-03                 NaN  \n",
              "2008-01-04                 NaN  \n",
              "2008-01-07                 NaN  \n",
              "2008-01-08                 NaN  \n",
              "2008-01-09                 NaN  \n",
              "2008-01-10                 NaN  \n",
              "2008-01-11                 NaN  \n",
              "2008-01-14                 NaN  \n",
              "2008-01-15                 NaN  \n",
              "2008-01-16                 NaN  \n",
              "2008-01-17                 NaN  \n",
              "2008-01-18                 NaN  \n",
              "2008-01-21                 NaN  \n",
              "2008-01-22                 NaN  \n",
              "2008-01-23                 NaN  \n",
              "2008-01-24                 NaN  \n",
              "2008-01-25                 NaN  \n",
              "2008-01-28                 NaN  \n",
              "2008-01-29                 NaN  \n",
              "2008-01-30                 NaN  \n",
              "2008-01-31                 NaN  \n",
              "2008-02-01                 NaN  \n",
              "2008-02-04                 NaN  \n",
              "2008-02-05                 NaN  \n",
              "2008-02-06                 NaN  \n",
              "2008-02-07                 NaN  \n",
              "2008-02-08                 NaN  \n",
              "2008-02-11                 NaN  \n",
              "2008-02-12                 NaN  \n",
              "...                        ...  \n",
              "2018-08-14   serie_res_20d220p  \n",
              "2018-08-15   serie_res_20d220p  \n",
              "2018-08-16   serie_res_20d220p  \n",
              "2018-08-17   serie_res_20d220p  \n",
              "2018-08-20   serie_res_20d220p  \n",
              "2018-08-21   serie_res_20d220p  \n",
              "2018-08-22   serie_res_20d220p  \n",
              "2018-08-23   serie_res_20d220p  \n",
              "2018-08-24   serie_res_20d220p  \n",
              "2018-08-27   serie_res_20d220p  \n",
              "2018-08-28   serie_res_20d220p  \n",
              "2018-08-29   serie_res_20d220p  \n",
              "2018-08-30   serie_res_20d220p  \n",
              "2018-08-31   serie_res_20d220p  \n",
              "2018-09-03   serie_res_20d220p  \n",
              "2018-09-04   serie_res_20d220p  \n",
              "2018-09-05   serie_res_20d220p  \n",
              "2018-09-06   serie_res_20d220p  \n",
              "2018-09-07   serie_res_20d220p  \n",
              "2018-09-10   serie_res_20d220p  \n",
              "2018-09-11   serie_res_20d220p  \n",
              "2018-09-12   serie_res_20d220p  \n",
              "2018-09-13   serie_res_20d220p  \n",
              "2018-09-14   serie_res_20d220p  \n",
              "2018-09-24   serie_res_20d220p  \n",
              "2018-09-25  serie_res_220d220p  \n",
              "2018-09-26  serie_res_220d220p  \n",
              "2018-09-27  serie_res_220d220p  \n",
              "2018-09-28  serie_res_220d220p  \n",
              "2018-10-01  serie_res_220d220p  \n",
              "\n",
              "[2742 rows x 7 columns]"
            ]
          },
          "metadata": {
            "tags": []
          },
          "execution_count": 48
        }
      ]
    },
    {
      "metadata": {
        "id": "6eOmxTne0Xnh",
        "colab_type": "code",
        "colab": {}
      },
      "cell_type": "code",
      "source": [
        "for periodo in periodos:\n",
        "    nombre='sumatorio_{}p'.format(periodo)\n",
        "    nombre2='suma_{}p'.format(periodo)\n",
        "    cum_daily_return[nombre]=np.zeros(len(cum_daily_return))\n",
        "\n",
        "    for numbre in seleccion:\n",
        "      nombre3='{}'.format(numbre)\n",
        "      nombre4='{}_l'.format(numbre)\n",
        "      cum_daily_return[nombre]=np.where(cum_daily_return[nombre2].shift()==nombre3,cum_diario_log_retornos[nombre4],cum_daily_return[nombre])\n"
      ],
      "execution_count": 0,
      "outputs": []
    },
    {
      "metadata": {
        "id": "UuamtxNB7aM1",
        "colab_type": "code",
        "outputId": "135f466c-dc70-4653-ce38-1291498209e6",
        "colab": {
          "base_uri": "https://localhost:8080/",
          "height": 480
        }
      },
      "cell_type": "code",
      "source": [
        "selsuma=[x for x  in cum_daily_return.filter(like='sumatorio',axis=1).columns]\n",
        "selsumados=[ 'sel{}'.format(x) for x  in cum_daily_return.filter(like='sumatorio',axis=1).columns]\n",
        "\n",
        "for row in selsuma:\n",
        "  cum_daily_return['sel{}'.format(row)]=np.exp(cum_daily_return[row].cumsum().fillna(0))\n",
        "  \n",
        "cum_daily_return[selsumados].plot(figsize=(16,8))"
      ],
      "execution_count": 50,
      "outputs": [
        {
          "output_type": "execute_result",
          "data": {
            "text/plain": [
              "<matplotlib.axes._subplots.AxesSubplot at 0x7fc451bb86d8>"
            ]
          },
          "metadata": {
            "tags": []
          },
          "execution_count": 50
        },
        {
          "output_type": "display_data",
          "data": {
            "image/png": "[encoded data removed]",
            "text/plain": [
              "<matplotlib.figure.Figure at 0x7fc451bb89e8>"
            ]
          },
          "metadata": {
            "tags": []
          }
        }
      ]
    },
    {
      "metadata": {
        "id": "J0HnfN-l-WpL",
        "colab_type": "code",
        "outputId": "1a18e6f3-e486-47c9-f4c5-9aaacfae824e",
        "colab": {
          "base_uri": "https://localhost:8080/",
          "height": 51
        }
      },
      "cell_type": "code",
      "source": [
        "perf=cum_daily_return[selsumados].dropna().calc_stats()\n"
      ],
      "execution_count": 51,
      "outputs": [
        {
          "output_type": "stream",
          "text": [
            "/usr/local/lib/python3.6/dist-packages/ffn/core.py:2056: RuntimeWarning: divide by zero encountered in true_divide\n",
            "  res = np.divide(er.mean(), std)\n"
          ],
          "name": "stderr"
        }
      ]
    },
    {
      "metadata": {
        "id": "hjO4vttkDSGu",
        "colab_type": "code",
        "outputId": "fe0103c8-04d4-4c22-e6a1-9cca5a4321c8",
        "colab": {
          "base_uri": "https://localhost:8080/",
          "height": 286
        }
      },
      "cell_type": "code",
      "source": [
        "resultados=perf.stats.T\n",
        "#print (resultados.columns)\n",
        "resultados[datos][resultados.cagr>.1]\n"
      ],
      "execution_count": 52,
      "outputs": [
        {
          "output_type": "execute_result",
          "data": {
            "text/html": [
              "<div>\n",
              "<style scoped>\n",
              "    .dataframe tbody tr th:only-of-type {\n",
              "        vertical-align: middle;\n",
              "    }\n",
              "\n",
              "    .dataframe tbody tr th {\n",
              "        vertical-align: top;\n",
              "    }\n",
              "\n",
              "    .dataframe thead th {\n",
              "        text-align: right;\n",
              "    }\n",
              "</style>\n",
              "<table border=\"1\" class=\"dataframe\">\n",
              "  <thead>\n",
              "    <tr style=\"text-align: right;\">\n",
              "      <th></th>\n",
              "      <th>total_return</th>\n",
              "      <th>cagr</th>\n",
              "      <th>max_drawdown</th>\n",
              "      <th>calmar</th>\n",
              "      <th>daily_sharpe</th>\n",
              "      <th>daily_sortino</th>\n",
              "      <th>monthly_sharpe</th>\n",
              "      <th>monthly_sortino</th>\n",
              "      <th>best_month</th>\n",
              "      <th>worst_month</th>\n",
              "      <th>yearly_sharpe</th>\n",
              "      <th>best_year</th>\n",
              "      <th>worst_year</th>\n",
              "      <th>avg_drawdown</th>\n",
              "      <th>avg_drawdown_days</th>\n",
              "      <th>avg_up_month</th>\n",
              "      <th>avg_down_month</th>\n",
              "      <th>win_year_perc</th>\n",
              "      <th>twelve_month_win_perc</th>\n",
              "    </tr>\n",
              "  </thead>\n",
              "  <tbody>\n",
              "    <tr>\n",
              "      <th>selsumatorio_10p</th>\n",
              "      <td>4.15365</td>\n",
              "      <td>0.164843</td>\n",
              "      <td>-0.225592</td>\n",
              "      <td>0.730715</td>\n",
              "      <td>0.783191</td>\n",
              "      <td>1.36112</td>\n",
              "      <td>0.98073</td>\n",
              "      <td>2.20044</td>\n",
              "      <td>0.210542</td>\n",
              "      <td>-0.129694</td>\n",
              "      <td>0.874327</td>\n",
              "      <td>0.752061</td>\n",
              "      <td>-0.0905548</td>\n",
              "      <td>-0.044365</td>\n",
              "      <td>30.0909</td>\n",
              "      <td>0.0449908</td>\n",
              "      <td>-0.025224</td>\n",
              "      <td>0.9</td>\n",
              "      <td>0.857143</td>\n",
              "    </tr>\n",
              "    <tr>\n",
              "      <th>selsumatorio_110p</th>\n",
              "      <td>4.64429</td>\n",
              "      <td>0.174743</td>\n",
              "      <td>-0.232311</td>\n",
              "      <td>0.752193</td>\n",
              "      <td>0.831613</td>\n",
              "      <td>1.45431</td>\n",
              "      <td>1.03329</td>\n",
              "      <td>2.27998</td>\n",
              "      <td>0.191913</td>\n",
              "      <td>-0.139754</td>\n",
              "      <td>0.830529</td>\n",
              "      <td>0.807746</td>\n",
              "      <td>-0.0204923</td>\n",
              "      <td>-0.0437107</td>\n",
              "      <td>28.1282</td>\n",
              "      <td>0.0462378</td>\n",
              "      <td>-0.0216193</td>\n",
              "      <td>0.8</td>\n",
              "      <td>0.764706</td>\n",
              "    </tr>\n",
              "    <tr>\n",
              "      <th>selsumatorio_20p</th>\n",
              "      <td>2.87535</td>\n",
              "      <td>0.134349</td>\n",
              "      <td>-0.211803</td>\n",
              "      <td>0.634311</td>\n",
              "      <td>0.669404</td>\n",
              "      <td>1.15065</td>\n",
              "      <td>0.850904</td>\n",
              "      <td>2.04894</td>\n",
              "      <td>0.191913</td>\n",
              "      <td>-0.0890964</td>\n",
              "      <td>0.651962</td>\n",
              "      <td>0.764533</td>\n",
              "      <td>-0.0949757</td>\n",
              "      <td>-0.0459373</td>\n",
              "      <td>35.9892</td>\n",
              "      <td>0.0460858</td>\n",
              "      <td>-0.0212626</td>\n",
              "      <td>0.7</td>\n",
              "      <td>0.764706</td>\n",
              "    </tr>\n",
              "    <tr>\n",
              "      <th>selsumatorio_220p</th>\n",
              "      <td>2.9783</td>\n",
              "      <td>0.13712</td>\n",
              "      <td>-0.244134</td>\n",
              "      <td>0.561659</td>\n",
              "      <td>0.673509</td>\n",
              "      <td>1.14162</td>\n",
              "      <td>0.807302</td>\n",
              "      <td>1.67059</td>\n",
              "      <td>0.210003</td>\n",
              "      <td>-0.136262</td>\n",
              "      <td>0.666147</td>\n",
              "      <td>0.805924</td>\n",
              "      <td>-0.111345</td>\n",
              "      <td>-0.046029</td>\n",
              "      <td>33.7879</td>\n",
              "      <td>0.0448971</td>\n",
              "      <td>-0.0257083</td>\n",
              "      <td>0.7</td>\n",
              "      <td>0.714286</td>\n",
              "    </tr>\n",
              "    <tr>\n",
              "      <th>selsumatorio_40p</th>\n",
              "      <td>5.04058</td>\n",
              "      <td>0.182184</td>\n",
              "      <td>-0.234444</td>\n",
              "      <td>0.77709</td>\n",
              "      <td>0.84599</td>\n",
              "      <td>1.50017</td>\n",
              "      <td>1.09755</td>\n",
              "      <td>2.52644</td>\n",
              "      <td>0.191913</td>\n",
              "      <td>-0.10311</td>\n",
              "      <td>0.910987</td>\n",
              "      <td>0.764533</td>\n",
              "      <td>-0.0665817</td>\n",
              "      <td>-0.0450034</td>\n",
              "      <td>31.6</td>\n",
              "      <td>0.0457123</td>\n",
              "      <td>-0.0211381</td>\n",
              "      <td>0.9</td>\n",
              "      <td>0.815126</td>\n",
              "    </tr>\n",
              "    <tr>\n",
              "      <th>selsumatorio_5p</th>\n",
              "      <td>4.92389</td>\n",
              "      <td>0.18004</td>\n",
              "      <td>-0.257507</td>\n",
              "      <td>0.699166</td>\n",
              "      <td>0.841648</td>\n",
              "      <td>1.44928</td>\n",
              "      <td>1.03992</td>\n",
              "      <td>2.211</td>\n",
              "      <td>0.177933</td>\n",
              "      <td>-0.175041</td>\n",
              "      <td>1.03323</td>\n",
              "      <td>0.704864</td>\n",
              "      <td>0.0278905</td>\n",
              "      <td>-0.0425483</td>\n",
              "      <td>33.18</td>\n",
              "      <td>0.0483181</td>\n",
              "      <td>-0.0242534</td>\n",
              "      <td>1</td>\n",
              "      <td>0.882353</td>\n",
              "    </tr>\n",
              "    <tr>\n",
              "      <th>selsumatorio_60p</th>\n",
              "      <td>5.54957</td>\n",
              "      <td>0.191117</td>\n",
              "      <td>-0.242727</td>\n",
              "      <td>0.787375</td>\n",
              "      <td>0.878325</td>\n",
              "      <td>1.55657</td>\n",
              "      <td>1.13392</td>\n",
              "      <td>2.55807</td>\n",
              "      <td>0.191913</td>\n",
              "      <td>-0.131068</td>\n",
              "      <td>0.959868</td>\n",
              "      <td>0.764533</td>\n",
              "      <td>-0.0397444</td>\n",
              "      <td>-0.043572</td>\n",
              "      <td>28.0855</td>\n",
              "      <td>0.0456031</td>\n",
              "      <td>-0.0206843</td>\n",
              "      <td>0.9</td>\n",
              "      <td>0.798319</td>\n",
              "    </tr>\n",
              "  </tbody>\n",
              "</table>\n",
              "</div>"
            ],
            "text/plain": [
              "                  total_return      cagr max_drawdown    calmar daily_sharpe  \\\n",
              "selsumatorio_10p       4.15365  0.164843    -0.225592  0.730715     0.783191   \n",
              "selsumatorio_110p      4.64429  0.174743    -0.232311  0.752193     0.831613   \n",
              "selsumatorio_20p       2.87535  0.134349    -0.211803  0.634311     0.669404   \n",
              "selsumatorio_220p       2.9783   0.13712    -0.244134  0.561659     0.673509   \n",
              "selsumatorio_40p       5.04058  0.182184    -0.234444   0.77709      0.84599   \n",
              "selsumatorio_5p        4.92389   0.18004    -0.257507  0.699166     0.841648   \n",
              "selsumatorio_60p       5.54957  0.191117    -0.242727  0.787375     0.878325   \n",
              "\n",
              "                  daily_sortino monthly_sharpe monthly_sortino best_month  \\\n",
              "selsumatorio_10p        1.36112        0.98073         2.20044   0.210542   \n",
              "selsumatorio_110p       1.45431        1.03329         2.27998   0.191913   \n",
              "selsumatorio_20p        1.15065       0.850904         2.04894   0.191913   \n",
              "selsumatorio_220p       1.14162       0.807302         1.67059   0.210003   \n",
              "selsumatorio_40p        1.50017        1.09755         2.52644   0.191913   \n",
              "selsumatorio_5p         1.44928        1.03992           2.211   0.177933   \n",
              "selsumatorio_60p        1.55657        1.13392         2.55807   0.191913   \n",
              "\n",
              "                  worst_month yearly_sharpe best_year worst_year avg_drawdown  \\\n",
              "selsumatorio_10p    -0.129694      0.874327  0.752061 -0.0905548    -0.044365   \n",
              "selsumatorio_110p   -0.139754      0.830529  0.807746 -0.0204923   -0.0437107   \n",
              "selsumatorio_20p   -0.0890964      0.651962  0.764533 -0.0949757   -0.0459373   \n",
              "selsumatorio_220p   -0.136262      0.666147  0.805924  -0.111345    -0.046029   \n",
              "selsumatorio_40p     -0.10311      0.910987  0.764533 -0.0665817   -0.0450034   \n",
              "selsumatorio_5p     -0.175041       1.03323  0.704864  0.0278905   -0.0425483   \n",
              "selsumatorio_60p    -0.131068      0.959868  0.764533 -0.0397444    -0.043572   \n",
              "\n",
              "                  avg_drawdown_days avg_up_month avg_down_month win_year_perc  \\\n",
              "selsumatorio_10p            30.0909    0.0449908      -0.025224           0.9   \n",
              "selsumatorio_110p           28.1282    0.0462378     -0.0216193           0.8   \n",
              "selsumatorio_20p            35.9892    0.0460858     -0.0212626           0.7   \n",
              "selsumatorio_220p           33.7879    0.0448971     -0.0257083           0.7   \n",
              "selsumatorio_40p               31.6    0.0457123     -0.0211381           0.9   \n",
              "selsumatorio_5p               33.18    0.0483181     -0.0242534             1   \n",
              "selsumatorio_60p            28.0855    0.0456031     -0.0206843           0.9   \n",
              "\n",
              "                  twelve_month_win_perc  \n",
              "selsumatorio_10p               0.857143  \n",
              "selsumatorio_110p              0.764706  \n",
              "selsumatorio_20p               0.764706  \n",
              "selsumatorio_220p              0.714286  \n",
              "selsumatorio_40p               0.815126  \n",
              "selsumatorio_5p                0.882353  \n",
              "selsumatorio_60p               0.798319  "
            ]
          },
          "metadata": {
            "tags": []
          },
          "execution_count": 52
        }
      ]
    },
    {
      "metadata": {
        "id": "sJHIHY68DvDV",
        "colab_type": "code",
        "outputId": "2a82f347-8066-4282-8a22-8cef0d5f98e6",
        "colab": {
          "base_uri": "https://localhost:8080/",
          "height": 224
        }
      },
      "cell_type": "code",
      "source": [
        "resultados[datos][resultados.monthly_sharpe>.9]"
      ],
      "execution_count": 53,
      "outputs": [
        {
          "output_type": "execute_result",
          "data": {
            "text/html": [
              "<div>\n",
              "<style scoped>\n",
              "    .dataframe tbody tr th:only-of-type {\n",
              "        vertical-align: middle;\n",
              "    }\n",
              "\n",
              "    .dataframe tbody tr th {\n",
              "        vertical-align: top;\n",
              "    }\n",
              "\n",
              "    .dataframe thead th {\n",
              "        text-align: right;\n",
              "    }\n",
              "</style>\n",
              "<table border=\"1\" class=\"dataframe\">\n",
              "  <thead>\n",
              "    <tr style=\"text-align: right;\">\n",
              "      <th></th>\n",
              "      <th>total_return</th>\n",
              "      <th>cagr</th>\n",
              "      <th>max_drawdown</th>\n",
              "      <th>calmar</th>\n",
              "      <th>daily_sharpe</th>\n",
              "      <th>daily_sortino</th>\n",
              "      <th>monthly_sharpe</th>\n",
              "      <th>monthly_sortino</th>\n",
              "      <th>best_month</th>\n",
              "      <th>worst_month</th>\n",
              "      <th>yearly_sharpe</th>\n",
              "      <th>best_year</th>\n",
              "      <th>worst_year</th>\n",
              "      <th>avg_drawdown</th>\n",
              "      <th>avg_drawdown_days</th>\n",
              "      <th>avg_up_month</th>\n",
              "      <th>avg_down_month</th>\n",
              "      <th>win_year_perc</th>\n",
              "      <th>twelve_month_win_perc</th>\n",
              "    </tr>\n",
              "  </thead>\n",
              "  <tbody>\n",
              "    <tr>\n",
              "      <th>selsumatorio_10p</th>\n",
              "      <td>4.15365</td>\n",
              "      <td>0.164843</td>\n",
              "      <td>-0.225592</td>\n",
              "      <td>0.730715</td>\n",
              "      <td>0.783191</td>\n",
              "      <td>1.36112</td>\n",
              "      <td>0.98073</td>\n",
              "      <td>2.20044</td>\n",
              "      <td>0.210542</td>\n",
              "      <td>-0.129694</td>\n",
              "      <td>0.874327</td>\n",
              "      <td>0.752061</td>\n",
              "      <td>-0.0905548</td>\n",
              "      <td>-0.044365</td>\n",
              "      <td>30.0909</td>\n",
              "      <td>0.0449908</td>\n",
              "      <td>-0.025224</td>\n",
              "      <td>0.9</td>\n",
              "      <td>0.857143</td>\n",
              "    </tr>\n",
              "    <tr>\n",
              "      <th>selsumatorio_110p</th>\n",
              "      <td>4.64429</td>\n",
              "      <td>0.174743</td>\n",
              "      <td>-0.232311</td>\n",
              "      <td>0.752193</td>\n",
              "      <td>0.831613</td>\n",
              "      <td>1.45431</td>\n",
              "      <td>1.03329</td>\n",
              "      <td>2.27998</td>\n",
              "      <td>0.191913</td>\n",
              "      <td>-0.139754</td>\n",
              "      <td>0.830529</td>\n",
              "      <td>0.807746</td>\n",
              "      <td>-0.0204923</td>\n",
              "      <td>-0.0437107</td>\n",
              "      <td>28.1282</td>\n",
              "      <td>0.0462378</td>\n",
              "      <td>-0.0216193</td>\n",
              "      <td>0.8</td>\n",
              "      <td>0.764706</td>\n",
              "    </tr>\n",
              "    <tr>\n",
              "      <th>selsumatorio_40p</th>\n",
              "      <td>5.04058</td>\n",
              "      <td>0.182184</td>\n",
              "      <td>-0.234444</td>\n",
              "      <td>0.77709</td>\n",
              "      <td>0.84599</td>\n",
              "      <td>1.50017</td>\n",
              "      <td>1.09755</td>\n",
              "      <td>2.52644</td>\n",
              "      <td>0.191913</td>\n",
              "      <td>-0.10311</td>\n",
              "      <td>0.910987</td>\n",
              "      <td>0.764533</td>\n",
              "      <td>-0.0665817</td>\n",
              "      <td>-0.0450034</td>\n",
              "      <td>31.6</td>\n",
              "      <td>0.0457123</td>\n",
              "      <td>-0.0211381</td>\n",
              "      <td>0.9</td>\n",
              "      <td>0.815126</td>\n",
              "    </tr>\n",
              "    <tr>\n",
              "      <th>selsumatorio_5p</th>\n",
              "      <td>4.92389</td>\n",
              "      <td>0.18004</td>\n",
              "      <td>-0.257507</td>\n",
              "      <td>0.699166</td>\n",
              "      <td>0.841648</td>\n",
              "      <td>1.44928</td>\n",
              "      <td>1.03992</td>\n",
              "      <td>2.211</td>\n",
              "      <td>0.177933</td>\n",
              "      <td>-0.175041</td>\n",
              "      <td>1.03323</td>\n",
              "      <td>0.704864</td>\n",
              "      <td>0.0278905</td>\n",
              "      <td>-0.0425483</td>\n",
              "      <td>33.18</td>\n",
              "      <td>0.0483181</td>\n",
              "      <td>-0.0242534</td>\n",
              "      <td>1</td>\n",
              "      <td>0.882353</td>\n",
              "    </tr>\n",
              "    <tr>\n",
              "      <th>selsumatorio_60p</th>\n",
              "      <td>5.54957</td>\n",
              "      <td>0.191117</td>\n",
              "      <td>-0.242727</td>\n",
              "      <td>0.787375</td>\n",
              "      <td>0.878325</td>\n",
              "      <td>1.55657</td>\n",
              "      <td>1.13392</td>\n",
              "      <td>2.55807</td>\n",
              "      <td>0.191913</td>\n",
              "      <td>-0.131068</td>\n",
              "      <td>0.959868</td>\n",
              "      <td>0.764533</td>\n",
              "      <td>-0.0397444</td>\n",
              "      <td>-0.043572</td>\n",
              "      <td>28.0855</td>\n",
              "      <td>0.0456031</td>\n",
              "      <td>-0.0206843</td>\n",
              "      <td>0.9</td>\n",
              "      <td>0.798319</td>\n",
              "    </tr>\n",
              "  </tbody>\n",
              "</table>\n",
              "</div>"
            ],
            "text/plain": [
              "                  total_return      cagr max_drawdown    calmar daily_sharpe  \\\n",
              "selsumatorio_10p       4.15365  0.164843    -0.225592  0.730715     0.783191   \n",
              "selsumatorio_110p      4.64429  0.174743    -0.232311  0.752193     0.831613   \n",
              "selsumatorio_40p       5.04058  0.182184    -0.234444   0.77709      0.84599   \n",
              "selsumatorio_5p        4.92389   0.18004    -0.257507  0.699166     0.841648   \n",
              "selsumatorio_60p       5.54957  0.191117    -0.242727  0.787375     0.878325   \n",
              "\n",
              "                  daily_sortino monthly_sharpe monthly_sortino best_month  \\\n",
              "selsumatorio_10p        1.36112        0.98073         2.20044   0.210542   \n",
              "selsumatorio_110p       1.45431        1.03329         2.27998   0.191913   \n",
              "selsumatorio_40p        1.50017        1.09755         2.52644   0.191913   \n",
              "selsumatorio_5p         1.44928        1.03992           2.211   0.177933   \n",
              "selsumatorio_60p        1.55657        1.13392         2.55807   0.191913   \n",
              "\n",
              "                  worst_month yearly_sharpe best_year worst_year avg_drawdown  \\\n",
              "selsumatorio_10p    -0.129694      0.874327  0.752061 -0.0905548    -0.044365   \n",
              "selsumatorio_110p   -0.139754      0.830529  0.807746 -0.0204923   -0.0437107   \n",
              "selsumatorio_40p     -0.10311      0.910987  0.764533 -0.0665817   -0.0450034   \n",
              "selsumatorio_5p     -0.175041       1.03323  0.704864  0.0278905   -0.0425483   \n",
              "selsumatorio_60p    -0.131068      0.959868  0.764533 -0.0397444    -0.043572   \n",
              "\n",
              "                  avg_drawdown_days avg_up_month avg_down_month win_year_perc  \\\n",
              "selsumatorio_10p            30.0909    0.0449908      -0.025224           0.9   \n",
              "selsumatorio_110p           28.1282    0.0462378     -0.0216193           0.8   \n",
              "selsumatorio_40p               31.6    0.0457123     -0.0211381           0.9   \n",
              "selsumatorio_5p               33.18    0.0483181     -0.0242534             1   \n",
              "selsumatorio_60p            28.0855    0.0456031     -0.0206843           0.9   \n",
              "\n",
              "                  twelve_month_win_perc  \n",
              "selsumatorio_10p               0.857143  \n",
              "selsumatorio_110p              0.764706  \n",
              "selsumatorio_40p               0.815126  \n",
              "selsumatorio_5p                0.882353  \n",
              "selsumatorio_60p               0.798319  "
            ]
          },
          "metadata": {
            "tags": []
          },
          "execution_count": 53
        }
      ]
    },
    {
      "metadata": {
        "id": "taQ1QP0IEBdm",
        "colab_type": "code",
        "outputId": "9f4e6d39-5a31-4566-a2e5-19a3684b0bd3",
        "colab": {
          "base_uri": "https://localhost:8080/",
          "height": 100
        }
      },
      "cell_type": "code",
      "source": [
        "resultados[datos][resultados.win_year_perc==1]"
      ],
      "execution_count": 54,
      "outputs": [
        {
          "output_type": "execute_result",
          "data": {
            "text/html": [
              "<div>\n",
              "<style scoped>\n",
              "    .dataframe tbody tr th:only-of-type {\n",
              "        vertical-align: middle;\n",
              "    }\n",
              "\n",
              "    .dataframe tbody tr th {\n",
              "        vertical-align: top;\n",
              "    }\n",
              "\n",
              "    .dataframe thead th {\n",
              "        text-align: right;\n",
              "    }\n",
              "</style>\n",
              "<table border=\"1\" class=\"dataframe\">\n",
              "  <thead>\n",
              "    <tr style=\"text-align: right;\">\n",
              "      <th></th>\n",
              "      <th>total_return</th>\n",
              "      <th>cagr</th>\n",
              "      <th>max_drawdown</th>\n",
              "      <th>calmar</th>\n",
              "      <th>daily_sharpe</th>\n",
              "      <th>daily_sortino</th>\n",
              "      <th>monthly_sharpe</th>\n",
              "      <th>monthly_sortino</th>\n",
              "      <th>best_month</th>\n",
              "      <th>worst_month</th>\n",
              "      <th>yearly_sharpe</th>\n",
              "      <th>best_year</th>\n",
              "      <th>worst_year</th>\n",
              "      <th>avg_drawdown</th>\n",
              "      <th>avg_drawdown_days</th>\n",
              "      <th>avg_up_month</th>\n",
              "      <th>avg_down_month</th>\n",
              "      <th>win_year_perc</th>\n",
              "      <th>twelve_month_win_perc</th>\n",
              "    </tr>\n",
              "  </thead>\n",
              "  <tbody>\n",
              "    <tr>\n",
              "      <th>selsumatorio_5p</th>\n",
              "      <td>4.92389</td>\n",
              "      <td>0.18004</td>\n",
              "      <td>-0.257507</td>\n",
              "      <td>0.699166</td>\n",
              "      <td>0.841648</td>\n",
              "      <td>1.44928</td>\n",
              "      <td>1.03992</td>\n",
              "      <td>2.211</td>\n",
              "      <td>0.177933</td>\n",
              "      <td>-0.175041</td>\n",
              "      <td>1.03323</td>\n",
              "      <td>0.704864</td>\n",
              "      <td>0.0278905</td>\n",
              "      <td>-0.0425483</td>\n",
              "      <td>33.18</td>\n",
              "      <td>0.0483181</td>\n",
              "      <td>-0.0242534</td>\n",
              "      <td>1</td>\n",
              "      <td>0.882353</td>\n",
              "    </tr>\n",
              "  </tbody>\n",
              "</table>\n",
              "</div>"
            ],
            "text/plain": [
              "                total_return     cagr max_drawdown    calmar daily_sharpe  \\\n",
              "selsumatorio_5p      4.92389  0.18004    -0.257507  0.699166     0.841648   \n",
              "\n",
              "                daily_sortino monthly_sharpe monthly_sortino best_month  \\\n",
              "selsumatorio_5p       1.44928        1.03992           2.211   0.177933   \n",
              "\n",
              "                worst_month yearly_sharpe best_year worst_year avg_drawdown  \\\n",
              "selsumatorio_5p   -0.175041       1.03323  0.704864  0.0278905   -0.0425483   \n",
              "\n",
              "                avg_drawdown_days avg_up_month avg_down_month win_year_perc  \\\n",
              "selsumatorio_5p             33.18    0.0483181     -0.0242534             1   \n",
              "\n",
              "                twelve_month_win_perc  \n",
              "selsumatorio_5p              0.882353  "
            ]
          },
          "metadata": {
            "tags": []
          },
          "execution_count": 54
        }
      ]
    },
    {
      "metadata": {
        "id": "ta79PWnp7-k9",
        "colab_type": "code",
        "outputId": "8737930c-ed1f-4123-c650-e0316239aac0",
        "colab": {
          "base_uri": "https://localhost:8080/",
          "height": 2278
        }
      },
      "cell_type": "code",
      "source": [
        "for n in selsumados:\n",
        "  print('******',n,'*******\\n\\n')\n",
        "  perf[n].display_monthly_returns()\n",
        "  print('\\n\\n')"
      ],
      "execution_count": 55,
      "outputs": [
        {
          "output_type": "stream",
          "text": [
            "****** selsumatorio_5p *******\n",
            "\n",
            "\n",
            "  Year    Jan     Feb    Mar    Apr    May    Jun    Jul    Aug    Sep    Oct    Nov    Dec    YTD\n",
            "------  -----  ------  -----  -----  -----  -----  -----  -----  -----  -----  -----  -----  -----\n",
            "  2008   0       0      0      0      0      0      0      0      0      0      0      0      0\n",
            "  2009   0.26    5.42   7.89   0.98  -3.91   1.35   0      1.23  -3.73   5.57   7.17   4.91  29.7\n",
            "  2010   6.63  -17.5   13     -3.8    1.77  -0.73   7.78   3.74  10.67   2.99   1.94  -3.5   21.11\n",
            "  2011   0.19    3.75  -7.02   6.39   6.16  -0.52  -2.67  -6.08   8.53  -5.49   0.57   0.4    2.79\n",
            "  2012   5.4     3.91   3.62  -5.39   2.96  17.79   2.82   5.46   6.68   1.87  10.98   0.09  70.49\n",
            "  2013  -2.18   -0.53   0.73  -1.31   1.85  -5.11   6.75  -1.99  10.99  13.13  -1.94  -0.84  19.41\n",
            "  2014  -2.5    -1.22  -1.38   5.08   3.82   2.85  -1.36  -2.21  -0.64   0.71   7.16  -2.35   7.64\n",
            "  2015   9.03    7.46   6.39  -4.03   6.14  -3.33   6.93  -4.6   -1.67  13.28   0.29  -8.25  28.31\n",
            "  2016   2.13   -1.14   0      0      0      0     -1.19   3.68   1.83   4.47  -0.54   9.38  19.71\n",
            "  2017   5.82   -0.02   9.88   3.71  -3.44  -4.21   1.36  -4.47   5.88  -3.19  -5.24  -1.92   2.86\n",
            "  2018   1.52   -0.71  -9.2    9.22   2.33   2.06   0.68   0.36   0.05   0.41   0      0      5.97\n",
            "\n",
            "\n",
            "\n",
            "****** selsumatorio_10p *******\n",
            "\n",
            "\n",
            "  Year    Jan     Feb    Mar    Apr    May     Jun    Jul    Aug    Sep    Oct    Nov    Dec    YTD\n",
            "------  -----  ------  -----  -----  -----  ------  -----  -----  -----  -----  -----  -----  -----\n",
            "  2008   0       0      0      0      0       0      0      0      0      0      0      0      0\n",
            "  2009  -4.74   -0.44   7.79   3.44  -1.99    6.04   0      2.79   1.9    2.69   3.5   -2.75  18.97\n",
            "  2010   4.01  -12.97  10.81  -5.37   1.77    1.44   7.78   3.74  10.67   2.99   1.94  -3.5   22.86\n",
            "  2011   3.96    4.61  -7.25   6.58  11.73   -0.52  -1.1   -6.08   8.53  -5.49   0.57   0.4   14.94\n",
            "  2012   5.4     3.91   3.62  -5.39   2.96   21.05   2.82   5.46   6.68   1.87  10.98   0.09  75.21\n",
            "  2013  -2.18   -0.53   0.73  -1.31   0.17  -10.31   4.12  -3.67  13.01   8.88   2.04   0.17   9.61\n",
            "  2014  -2.98    0.11  -0.96   5.33   2.57    2.85   0.28   0.95  -0.95   2.07   5.65  -2.94  12.17\n",
            "  2015   9.03    7.46   6.39  -4.03   6.14   -3.33   6.93  -4.6   -1.67  12.62   0.29  -5.87  30.88\n",
            "  2016   2.11   -1.14   0      0      0       0     -1.19   0.5   -0.62   3.78  -1.43   9.91  12.01\n",
            "  2017   0.08   -3.55   9.39   3.71  -3.44   -4.21   1.36  -4.47   4.7   -3.85  -5.98  -2.01  -9.06\n",
            "  2018   2.95    0.05  -4.79   8.23   2.52   -2.07   0.87  -2.08   1.05   0.41   0      0      6.8\n",
            "\n",
            "\n",
            "\n",
            "****** selsumatorio_20p *******\n",
            "\n",
            "\n",
            "  Year    Jan    Feb    Mar    Apr    May    Jun    Jul    Aug    Sep    Oct    Nov    Dec    YTD\n",
            "------  -----  -----  -----  -----  -----  -----  -----  -----  -----  -----  -----  -----  -----\n",
            "  2008   0      0      0      0      0      0      0      0      0      0      0      0      0\n",
            "  2009  -4.64  -6.76  -4.28   3.44  -2.39  -0.7    0      1.03   2.47  -0.05   3.5   -0.97  -9.5\n",
            "  2010   0.41  -5.09  13.73  -4.46   1.77   2.52   7.78   3.74  10.67   2.99   1.94  -3.5   35.44\n",
            "  2011   3.96   5.9   -7.25   6.92  11.73  -0.52  -2.67  -6.08   8.53  -5.49   0.57   0.4   14.87\n",
            "  2012   5.4    3.91   3.62  -5.39   5.31  19.19   2.82   5.46   6.68   1.87  10.98   0.09  76.45\n",
            "  2013  -2.18  -0.53   0.73  -1.31   0.17  -8.91   2.67  -3.55  12.67   2.15  -0.5   -1.29  -1.2\n",
            "  2014  -0.14   2.43  -0.33   5.31  -2.45   4.47  -1.48  -1.95  -1.7    1.59   5.13  -2.86   7.78\n",
            "  2015   9.03   7.46   6.39  -4.03   6.14  -3.33   6.93  -4.6   -1.67  13.95   0.29  -5.14  33.44\n",
            "  2016   0      0      0      0      0      0     -1.19   0.13  -0.26   0.63  -2.23  11.1    7.86\n",
            "  2017   1.56   0.15   9.39   3.71  -3.44  -4.21   1.36  -4.47   2.29   1.87  -7.68  -3.77  -4.35\n",
            "  2018   1.82   0      0      5.81  -0.57  -2.32   1.7   -1.99   1.59   0.41   0      0      6.39\n",
            "\n",
            "\n",
            "\n",
            "****** selsumatorio_40p *******\n",
            "\n",
            "\n",
            "  Year    Jan    Feb    Mar    Apr    May     Jun    Jul    Aug    Sep    Oct    Nov    Dec    YTD\n",
            "------  -----  -----  -----  -----  -----  ------  -----  -----  -----  -----  -----  -----  -----\n",
            "  2008   0      0      0      0      0       0      0      0      0      0      0      0      0\n",
            "  2009  -4.64   0      0      2.9    7.35    6.54   0     -0.48   2.47  -0.05   3.55  -0.97  17.31\n",
            "  2010   1.67  -5.09  12.69  -4.46   1.77    2.52   7.78   3.74  10.67   2.99   1.94  -3.5   35.89\n",
            "  2011   3.96   5.9    0.84   6.92  11.73   -0.52   0.48  -6.08   8.53  -5.49   0.57   0.4   28.95\n",
            "  2012   5.4    3.91   3.62  -5.39   5.31   19.19   2.82   5.46   6.68   1.87  10.98   0.09  76.45\n",
            "  2013  -2.18  -0.53   0.73  -1.31   0.17  -10.31   2.67  -3.47  12.67   4.23   1.83   2.09   5.16\n",
            "  2014  -0.14   2.43   5.41   5.31   4.98    1.41  -0.74  -0.12  -2.19   0.46   5.13  -0.97  22.6\n",
            "  2015   9.03   7.46   6.39  -4.03   6.14   -3.33   6.93  -4.6   -2.71  13.95   0.29  -7.48  28.79\n",
            "  2016   0      0      0      0      0       0     -1.19   0     -7.74  -0.05  -7.79  11.1   -6.66\n",
            "  2017   4.69   0.1    9.75   5.18  -3.44    0.19   1.36  -4.47   2.58  -3.94  -6.68  -0.15   4.05\n",
            "  2018   2.78  -5.11   0      3.63   2.87    0.7    1.25   0.42  -3.37   0.41   0      0      3.28\n",
            "\n",
            "\n",
            "\n",
            "****** selsumatorio_60p *******\n",
            "\n",
            "\n",
            "  Year    Jan    Feb    Mar    Apr    May     Jun    Jul    Aug    Sep    Oct    Nov     Dec    YTD\n",
            "------  -----  -----  -----  -----  -----  ------  -----  -----  -----  -----  -----  ------  -----\n",
            "  2008   0      0      0      0      0       0      0      0      0      0      0       0      0\n",
            "  2009  -4.64   0      0     -0.37   7.35    6.54   0      6.82   2.47  -0.05   1.12    1.05  21.48\n",
            "  2010   1.67  -5.09  12.69  -4.46   4.09    2.52   7.78   3.74  10.67   2.99   1.94   -3.5   38.99\n",
            "  2011   3.96   5.9    0.84   6.92  11.73   -0.52   0.48  -6.08   8.53  -1.06   0.57    0.4   34.99\n",
            "  2012   5.4    3.91   3.62  -5.39   5.31   19.19   2.82   5.46   6.68   1.87  10.98    0.09  76.45\n",
            "  2013  -2.18  -0.53   0.73  -1.31   0.17  -10.31   2.67  -0.05  13.73   6.23   0.34    1.7    9.95\n",
            "  2014  -4.99   2.43   5.41   5.31   4.98    1.41  -0.82  -2.22   0.84   0.49   5.13   -0.97  17.67\n",
            "  2015   9.03   7.46   6.39  -4.03   6.14   -3.33   6.93  -4.6   -1.67  13.95   0.29  -13.11  22.24\n",
            "  2016   0      0      0      0      0       0     -1.19   0     -3.35  -0.88  -6.51    8.51  -3.97\n",
            "  2017   4.69   0.1   11.47   5.18  -3.44    0.19   1.36  -4.47   1.58  -3.94  -6.68   -0.15   4.64\n",
            "  2018   2.78  -5.11   0      0      2.55    2.82   1.25  -2.96   1      0.41   0       0      2.47\n",
            "\n",
            "\n",
            "\n",
            "****** selsumatorio_110p *******\n",
            "\n",
            "\n",
            "  Year    Jan    Feb    Mar    Apr    May     Jun    Jul    Aug    Sep    Oct    Nov     Dec    YTD\n",
            "------  -----  -----  -----  -----  -----  ------  -----  -----  -----  -----  -----  ------  -----\n",
            "  2008   0      0      0      0      0       0      0      0      0      0      0       0      0\n",
            "  2009  -4.64   0      0     -2.82  -2.39    6.54   0      6.82   2.47  -0.05   4.99   -1.47   9.05\n",
            "  2010   3.37  -5.09  12.69  -4.46   4.09    3.68   7.78   3.74  10.67   2.99   1.94   -3.5   42.92\n",
            "  2011   0.19   5.9    0.84   6.92  11.73   -0.52   0.48  -6.08   8.53  -0.44   0.57    0.4   30.9\n",
            "  2012   5.4    3.91   3.62  -5.39   5.31   19.19   2.82   5.46   9.3    1.87  10.98    0.09  80.77\n",
            "  2013  -2.18  -0.53   0.73  -1.31   0.17  -10.31   2.67  -0.05  13.73   6.23   0.34    2.09  10.37\n",
            "  2014  -7.95   0.51   5.41   5.31   4.98    1.41   0.99   0.57  -3.05   0.82   5.13   -0.97  12.99\n",
            "  2015   9.03   7.46   6.39  -4.03   6.14   -3.33   6.93  -4.6   -2.71  13.95   0.29  -13.98  19.75\n",
            "  2016  -3.5    0      0      0      0       0     -1.19   0     -3.35  -0.66   0       8.47  -0.7\n",
            "  2017   4.69   0.1   11.47   5.18  -3.44    0.19   1.36  -4.47   2.29  -3.94  -6.68   -0.15   5.37\n",
            "  2018   2.78  -6.43   0      0      2.47    1.86  -1.62  -2.42   1.24   0.41   0       0     -2.05\n",
            "\n",
            "\n",
            "\n",
            "****** selsumatorio_220p *******\n",
            "\n",
            "\n",
            "  Year     Jan    Feb    Mar    Apr    May    Jun    Jul    Aug    Sep    Oct    Nov     Dec     YTD\n",
            "------  ------  -----  -----  -----  -----  -----  -----  -----  -----  -----  -----  ------  ------\n",
            "  2008    0      0      0      0      0      0      0      0      0      0      0       0       0\n",
            "  2009   -4.64   0      0     -2.82  -2.39   6.54   0      6.82   2.47  -0.05   4.99    1.23   12.04\n",
            "  2010  -10.82  -6     12.69  -4.46   4.09   3.68   7.78   3.74  10.67   2.99   1.94   -3.5    22.12\n",
            "  2011    0.19   5.9   -1.76   1.25  11.73  -0.52   0.48  -6.08   8.53   2.18   0.57    0.4    23.92\n",
            "  2012    5.4    3.91   3.62  -5.39   3.63  21      2.82   5.46   9.3    1.87  10.98    0.09   80.59\n",
            "  2013   -2.18  -0.53   0.73  -1.31  -2.02  -9.49   5.65  -0.05  13.73   6.23   0.34    2.09   12.11\n",
            "  2014   -7.6   -6.66  -2.3    2.16   4.98   1.41   0.99   0.57   0.28  -5.58   3.72   -2.78  -11.13\n",
            "  2015    9.03   7.46   6.39  -4.03   6.14  -3.33   6.93  -4.6    0.64  13.95   0.29  -13.63   24.37\n",
            "  2016   -3.5    0      0      0      0      0     -7.45   0.9    0     -1.35   0       8.47   -3.58\n",
            "  2017    4.69   0.1   11.47   5.18  -3.44   0.19   1.36  -4.47   8.21  -2.55  -7.78   -1.73    9.97\n",
            "  2018    2.78  -6.43   0      0.67  -0.57   0.7    1.25  -0.44   0.8    0.41   0       0      -1.11\n",
            "\n",
            "\n",
            "\n"
          ],
          "name": "stdout"
        }
      ]
    },
    {
      "metadata": {
        "id": "NNuPF3tCw50U",
        "colab_type": "code",
        "outputId": "4282707b-ef9b-477d-8299-1961a0900fea",
        "colab": {
          "base_uri": "https://localhost:8080/",
          "height": 34
        }
      },
      "cell_type": "code",
      "source": [
        "type(perf)"
      ],
      "execution_count": 56,
      "outputs": [
        {
          "output_type": "execute_result",
          "data": {
            "text/plain": [
              "ffn.core.GroupStats"
            ]
          },
          "metadata": {
            "tags": []
          },
          "execution_count": 56
        }
      ]
    },
    {
      "metadata": {
        "id": "AVSxip4TGXwz",
        "colab_type": "code",
        "colab": {}
      },
      "cell_type": "code",
      "source": [
        ""
      ],
      "execution_count": 0,
      "outputs": []
    }
  ]
}