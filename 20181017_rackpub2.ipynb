{
  "nbformat": 4,
  "nbformat_minor": 0,
  "metadata": {
    "colab": {
      "name": "20181017 rackpub2.ipynb",
      "version": "0.3.2",
      "provenance": [],
      "collapsed_sections": [],
      "include_colab_link": true
    },
    "kernelspec": {
      "name": "python3",
      "display_name": "Python 3"
    }
  },
  "cells": [
    {
      "cell_type": "markdown",
      "metadata": {
        "id": "view-in-github",
        "colab_type": "text"
      },
      "source": [
        "[View in Colaboratory](https://colab.research.google.com/github/eltiotino/darwins/blob/master/20181017_rackpub2.ipynb)"
      ]
    },
    {
      "metadata": {
        "id": "Gs_2C_lU9I32",
        "colab_type": "code",
        "outputId": "5586f3e5-1547-4393-ab1e-12a2a26a2337",
        "colab": {
          "base_uri": "https://localhost:8080/",
          "height": 1533
        }
      },
      "cell_type": "code",
      "source": [
        "%pylab inline\n",
        "!pip install pandas-datareader\n",
        "import matplotlib.pyplot as plt\n",
        "import tensorflow as tf\n",
        "import numpy as np\n",
        "import numpy.random as rng\n",
        "import pandas_datareader.data as web\n",
        "import numpy as np\n",
        "import pandas as pd\n",
        "!pip install ta\n",
        "import ta\n",
        "pd.core.common.is_list_like = pd.api.types.is_list_like\n",
        "from pandas_datareader import data as pdr\n",
        "!pip install fix_yahoo_finance\n",
        "!pip install ffn\n",
        "import fix_yahoo_finance as yf\n",
        "import ffn\n",
        "yf.pdr_override() # Importamos Pandas Datareader y lo parcheamos para que funcione con Yahoo\n"
      ],
      "execution_count": 1,
      "outputs": [
        {
          "output_type": "stream",
          "text": [
            "Populating the interactive namespace from numpy and matplotlib\n",
            "Collecting pandas-datareader\n",
            "\u001b[?25l  Downloading https://files.pythonhosted.org/packages/cc/5c/ea5b6dcfd0f55c5fb1e37fb45335ec01cceca199b8a79339137f5ed269e0/pandas_datareader-0.7.0-py2.py3-none-any.whl (111kB)\n",
            "\u001b[K    100% |████████████████████████████████| 112kB 2.7MB/s \n",
            "\u001b[?25hCollecting lxml (from pandas-datareader)\n",
            "\u001b[?25l  Downloading https://files.pythonhosted.org/packages/03/a4/9eea8035fc7c7670e5eab97f34ff2ef0ddd78a491bf96df5accedb0e63f5/lxml-4.2.5-cp36-cp36m-manylinux1_x86_64.whl (5.8MB)\n",
            "\u001b[K    100% |████████████████████████████████| 5.8MB 5.0MB/s \n",
            "\u001b[?25hRequirement already satisfied: pandas>=0.19.2 in /usr/local/lib/python3.6/dist-packages (from pandas-datareader) (0.22.0)\n",
            "Requirement already satisfied: wrapt in /usr/local/lib/python3.6/dist-packages (from pandas-datareader) (1.10.11)\n",
            "Requirement already satisfied: requests>=2.3.0 in /usr/local/lib/python3.6/dist-packages (from pandas-datareader) (2.18.4)\n",
            "Requirement already satisfied: numpy>=1.9.0 in /usr/local/lib/python3.6/dist-packages (from pandas>=0.19.2->pandas-datareader) (1.14.6)\n",
            "Requirement already satisfied: python-dateutil>=2 in /usr/local/lib/python3.6/dist-packages (from pandas>=0.19.2->pandas-datareader) (2.5.3)\n",
            "Requirement already satisfied: pytz>=2011k in /usr/local/lib/python3.6/dist-packages (from pandas>=0.19.2->pandas-datareader) (2018.5)\n",
            "Requirement already satisfied: certifi>=2017.4.17 in /usr/local/lib/python3.6/dist-packages (from requests>=2.3.0->pandas-datareader) (2018.10.15)\n",
            "Requirement already satisfied: chardet<3.1.0,>=3.0.2 in /usr/local/lib/python3.6/dist-packages (from requests>=2.3.0->pandas-datareader) (3.0.4)\n",
            "Requirement already satisfied: idna<2.7,>=2.5 in /usr/local/lib/python3.6/dist-packages (from requests>=2.3.0->pandas-datareader) (2.6)\n",
            "Requirement already satisfied: urllib3<1.23,>=1.21.1 in /usr/local/lib/python3.6/dist-packages (from requests>=2.3.0->pandas-datareader) (1.22)\n",
            "Requirement already satisfied: six>=1.5 in /usr/local/lib/python3.6/dist-packages (from python-dateutil>=2->pandas>=0.19.2->pandas-datareader) (1.11.0)\n",
            "Installing collected packages: lxml, pandas-datareader\n",
            "Successfully installed lxml-4.2.5 pandas-datareader-0.7.0\n",
            "Collecting ta\n",
            "  Downloading https://files.pythonhosted.org/packages/96/fd/2a75a52c59d41fd903a30d2cc7ab9a2a7b0fc500b2f8dc0ff503715c2fdf/ta-0.3.5.tar.gz\n",
            "Requirement already satisfied: numpy in /usr/local/lib/python3.6/dist-packages (from ta) (1.14.6)\n",
            "Requirement already satisfied: pandas in /usr/local/lib/python3.6/dist-packages (from ta) (0.22.0)\n",
            "Requirement already satisfied: python-dateutil>=2 in /usr/local/lib/python3.6/dist-packages (from pandas->ta) (2.5.3)\n",
            "Requirement already satisfied: pytz>=2011k in /usr/local/lib/python3.6/dist-packages (from pandas->ta) (2018.5)\n",
            "Requirement already satisfied: six>=1.5 in /usr/local/lib/python3.6/dist-packages (from python-dateutil>=2->pandas->ta) (1.11.0)\n",
            "Building wheels for collected packages: ta\n",
            "  Running setup.py bdist_wheel for ta ... \u001b[?25l-\b \bdone\n",
            "\u001b[?25h  Stored in directory: /root/.cache/pip/wheels/22/0f/f9/73da681974d2e7fbffc73c6c6aef959afe3aac51e96b389847\n",
            "Successfully built ta\n",
            "Installing collected packages: ta\n",
            "Successfully installed ta-0.3.5\n",
            "Collecting fix_yahoo_finance\n",
            "  Downloading https://files.pythonhosted.org/packages/0a/96/d44330e427f5368cb8abd25997b72956a31b52073d285c4d5cd56e5fdc17/fix-yahoo-finance-0.0.22.tar.gz\n",
            "Requirement already satisfied: pandas in /usr/local/lib/python3.6/dist-packages (from fix_yahoo_finance) (0.22.0)\n",
            "Requirement already satisfied: numpy in /usr/local/lib/python3.6/dist-packages (from fix_yahoo_finance) (1.14.6)\n",
            "Requirement already satisfied: requests in /usr/local/lib/python3.6/dist-packages (from fix_yahoo_finance) (2.18.4)\n",
            "Collecting multitasking (from fix_yahoo_finance)\n",
            "  Downloading https://files.pythonhosted.org/packages/ac/1a/0750416c5e3683d170757e423f097fdf78ceb9ccdc65658b24341664e53e/multitasking-0.0.7.tar.gz\n",
            "Requirement already satisfied: pytz>=2011k in /usr/local/lib/python3.6/dist-packages (from pandas->fix_yahoo_finance) (2018.5)\n",
            "Requirement already satisfied: python-dateutil>=2 in /usr/local/lib/python3.6/dist-packages (from pandas->fix_yahoo_finance) (2.5.3)\n",
            "Requirement already satisfied: chardet<3.1.0,>=3.0.2 in /usr/local/lib/python3.6/dist-packages (from requests->fix_yahoo_finance) (3.0.4)\n",
            "Requirement already satisfied: idna<2.7,>=2.5 in /usr/local/lib/python3.6/dist-packages (from requests->fix_yahoo_finance) (2.6)\n",
            "Requirement already satisfied: certifi>=2017.4.17 in /usr/local/lib/python3.6/dist-packages (from requests->fix_yahoo_finance) (2018.10.15)\n",
            "Requirement already satisfied: urllib3<1.23,>=1.21.1 in /usr/local/lib/python3.6/dist-packages (from requests->fix_yahoo_finance) (1.22)\n",
            "Requirement already satisfied: six>=1.5 in /usr/local/lib/python3.6/dist-packages (from python-dateutil>=2->pandas->fix_yahoo_finance) (1.11.0)\n",
            "Building wheels for collected packages: fix-yahoo-finance, multitasking\n",
            "  Running setup.py bdist_wheel for fix-yahoo-finance ... \u001b[?25l-\b \bdone\n",
            "\u001b[?25h  Stored in directory: /root/.cache/pip/wheels/2c/ca/ce/218a19aaecf63fd74c75d6a6772b1a799fa05826d8762bfd83\n",
            "  Running setup.py bdist_wheel for multitasking ... \u001b[?25l-\b \bdone\n",
            "\u001b[?25h  Stored in directory: /root/.cache/pip/wheels/41/e4/48/af808a1c57f43f104042abdaf80fa623ab213ca0268ba4189c\n",
            "Successfully built fix-yahoo-finance multitasking\n",
            "Installing collected packages: multitasking, fix-yahoo-finance\n",
            "Successfully installed fix-yahoo-finance-0.0.22 multitasking-0.0.7\n",
            "Collecting ffn\n",
            "  Downloading https://files.pythonhosted.org/packages/b0/9f/0a16afc87d307140ecf3aa78df3985ee2b3fc67ee883ff53edada022a8aa/ffn-0.3.4.tar.gz\n",
            "Requirement already satisfied: decorator>=4 in /usr/local/lib/python3.6/dist-packages (from ffn) (4.3.0)\n",
            "Requirement already satisfied: numpy>=1.5 in /usr/local/lib/python3.6/dist-packages (from ffn) (1.14.6)\n",
            "Requirement already satisfied: pandas>=0.19 in /usr/local/lib/python3.6/dist-packages (from ffn) (0.22.0)\n",
            "Requirement already satisfied: pandas-datareader>=0.2 in /usr/local/lib/python3.6/dist-packages (from ffn) (0.7.0)\n",
            "Collecting tabulate>=0.7.5 (from ffn)\n",
            "\u001b[?25l  Downloading https://files.pythonhosted.org/packages/12/c2/11d6845db5edf1295bc08b2f488cf5937806586afe42936c3f34c097ebdc/tabulate-0.8.2.tar.gz (45kB)\n",
            "\u001b[K    100% |████████████████████████████████| 51kB 3.9MB/s \n",
            "\u001b[?25hRequirement already satisfied: matplotlib>=1 in /usr/local/lib/python3.6/dist-packages (from ffn) (2.1.2)\n",
            "Requirement already satisfied: scikit-learn>=0.15 in /usr/local/lib/python3.6/dist-packages (from ffn) (0.19.2)\n",
            "Requirement already satisfied: scipy>=0.15 in /usr/local/lib/python3.6/dist-packages (from ffn) (0.19.1)\n",
            "Requirement already satisfied: future>=0.15 in /usr/local/lib/python3.6/dist-packages (from ffn) (0.16.0)\n",
            "Requirement already satisfied: python-dateutil>=2 in /usr/local/lib/python3.6/dist-packages (from pandas>=0.19->ffn) (2.5.3)\n",
            "Requirement already satisfied: pytz>=2011k in /usr/local/lib/python3.6/dist-packages (from pandas>=0.19->ffn) (2018.5)\n",
            "Requirement already satisfied: requests>=2.3.0 in /usr/local/lib/python3.6/dist-packages (from pandas-datareader>=0.2->ffn) (2.18.4)\n",
            "Requirement already satisfied: wrapt in /usr/local/lib/python3.6/dist-packages (from pandas-datareader>=0.2->ffn) (1.10.11)\n",
            "Requirement already satisfied: lxml in /usr/local/lib/python3.6/dist-packages (from pandas-datareader>=0.2->ffn) (4.2.5)\n",
            "Requirement already satisfied: cycler>=0.10 in /usr/local/lib/python3.6/dist-packages (from matplotlib>=1->ffn) (0.10.0)\n",
            "Requirement already satisfied: six>=1.10 in /usr/local/lib/python3.6/dist-packages (from matplotlib>=1->ffn) (1.11.0)\n",
            "Requirement already satisfied: pyparsing!=2.0.4,!=2.1.2,!=2.1.6,>=2.0.1 in /usr/local/lib/python3.6/dist-packages (from matplotlib>=1->ffn) (2.2.2)\n",
            "Requirement already satisfied: chardet<3.1.0,>=3.0.2 in /usr/local/lib/python3.6/dist-packages (from requests>=2.3.0->pandas-datareader>=0.2->ffn) (3.0.4)\n",
            "Requirement already satisfied: urllib3<1.23,>=1.21.1 in /usr/local/lib/python3.6/dist-packages (from requests>=2.3.0->pandas-datareader>=0.2->ffn) (1.22)\n",
            "Requirement already satisfied: certifi>=2017.4.17 in /usr/local/lib/python3.6/dist-packages (from requests>=2.3.0->pandas-datareader>=0.2->ffn) (2018.10.15)\n",
            "Requirement already satisfied: idna<2.7,>=2.5 in /usr/local/lib/python3.6/dist-packages (from requests>=2.3.0->pandas-datareader>=0.2->ffn) (2.6)\n",
            "Building wheels for collected packages: ffn, tabulate\n",
            "  Running setup.py bdist_wheel for ffn ... \u001b[?25l-\b \bdone\n",
            "\u001b[?25h  Stored in directory: /root/.cache/pip/wheels/20/08/4d/921180e81279d147cb6399fe1e194f2c67a796df86f9f4c5fe\n",
            "  Running setup.py bdist_wheel for tabulate ... \u001b[?25l-\b \bdone\n",
            "\u001b[?25h  Stored in directory: /root/.cache/pip/wheels/2a/85/33/2f6da85d5f10614cbe5a625eab3b3aebfdf43e7b857f25f829\n",
            "Successfully built ffn tabulate\n",
            "Installing collected packages: tabulate, ffn\n",
            "Successfully installed ffn-0.3.4 tabulate-0.8.2\n"
          ],
          "name": "stdout"
        }
      ]
    },
    {
      "metadata": {
        "id": "yYAWXRoT9KM8",
        "colab_type": "code",
        "colab": {}
      },
      "cell_type": "code",
      "source": [
        "\n",
        "def strategy_performance(stock_ticker,periodo):  \n",
        "    stock = pdr.get_data_yahoo(stock_ticker, start=\"2008-01-01\", end=\"2018-10-01\")         \n",
        "    \n",
        "    \n",
        "    #Compute periodo -days breakout and mean.\n",
        "\n",
        "    # 5-days high  \n",
        "    stock['high'] = stock['Adj Close'].shift(1).rolling(window=periodo).max()  \n",
        "    # 5-days low  \n",
        "    stock['low'] = stock['Adj Close'].shift(1).rolling(window=periodo).min()  \n",
        "    # 5-days mean  \n",
        "    stock['avg'] = stock['Adj Close'].shift(1).rolling(window=periodo).mean()  \n",
        "\n",
        "    #Entry Rules\n",
        "    #When the closing price of the stock is greater than the high of past 55 days \n",
        "    #then we go long on the stock and \n",
        "    #when the closing price of the stock is less than the low of past 55 days \n",
        "    #then we go short on the stock.\n",
        "\n",
        "    stock['long_entry'] = stock['Adj Close'] > stock.high         \n",
        "    stock['short_entry'] = stock['Adj Close'] < stock.low  \n",
        "\n",
        "    #stock['signal']=np.where(stock['Adj Close'] > stock.high,1,np.nan)\n",
        "    \n",
        "    #stock['signal']=np.where(stock['Adj Close'] < stock.low,1,stock['signal'])\n",
        "    #Exit Rules\n",
        "\n",
        "    #We will exit the positions if the stock price crosses the mean of past 55 days.\n",
        "\n",
        "    stock['long_exit'] = stock['Adj Close'] < stock.avg  \n",
        "    stock['short_exit'] = stock['Adj Close'] > stock.avg  \n",
        "\n",
        "    #stock['signal']=np.where(stock['Adj Close'].shift() > stock.avg.shift(),0,stock['signal'])\n",
        "    #stock['signal']=np.where(stock['Adj Close'].shift() < stock.avg.shift(),0,stock['signal'])\n",
        "\n",
        "    \n",
        "    #Positions\n",
        "    \n",
        "    #We will now store the entry and exit signal in a single column. Long position is indicated by 1, short position is indicated by -1 and exit or no position is indicated by 0. We will carry forward the previous position if no position exists for a time period using the fillna method.\n",
        "\n",
        "    stock['positions_long'] = np.nan    \n",
        "    stock.loc[stock.long_entry,'positions_long']= 1    \n",
        "    stock.loc[stock.long_exit,'positions_long']= 0    \n",
        "    \n",
        "    stock['positions_short'] = np.nan    \n",
        "    stock.loc[stock.short_entry,'positions_short']= 0    \n",
        "    stock.loc[stock.short_exit,'positions_short']= 0    \n",
        "  \n",
        "    stock['Signal'] = stock.positions_long + stock.positions_short  \n",
        "  \n",
        "    stock= stock.fillna(method='ffill')   \n",
        "    #stock=stock.fillna(0,inplace=True)\n",
        "    \n",
        "    #print(stock)\n",
        "    #Strategy Returns\n",
        "    \n",
        "    #We have computed the log returns of the stock and multiplied with the Signal (1,-1 or 0) to get the strategy returns.\n",
        "\n",
        "    daily_log_returns = np.log(stock['Adj Close']/stock['Adj Close'].shift(1))  \n",
        "    daily_log_returns = daily_log_returns * stock.Signal.shift(1)  \n",
        "  \n",
        "    # Plot the distribution of 'daily_log_returns'  \n",
        "    print (stock_ticker)  \n",
        "    daily_log_returns.hist(bins=50)  \n",
        "    plt.show()  \n",
        "    return daily_log_returns.cumsum() \n",
        "\n"
      ],
      "execution_count": 0,
      "outputs": []
    },
    {
      "metadata": {
        "id": "jpBrE4xiAxU0",
        "colab_type": "code",
        "outputId": "94fa83b0-25e9-4b86-f6a4-d6cb3235cf4b",
        "colab": {
          "base_uri": "https://localhost:8080/",
          "height": 7932
        }
      },
      "cell_type": "code",
      "source": [
        "\n",
        "#Step 3: Create a portfolio of stocks and calculate the strategy performance for each stock.\n",
        "\n",
        "portfolio = ['AAPL','KMI','F','GOOG','AMZN']\n",
        "portfolio = ['MMM','GOOG','xlu','AAPL']\n",
        "portfolio = ['tef.mc','san.mc','itx.mc','rep.mc']\n",
        "\n",
        "periodos = [ 5, 10 , 20 , 40 ,60, 110, 220]\n",
        "#portfolio = ['QQQ']\n",
        "#periodos = [ 5]\n",
        "cum_daily_log_return = pd.DataFrame()  \n",
        "for stock in portfolio:   \n",
        "  for periodo in periodos:\n",
        "    nombre='{}_l{}'.format(stock,periodo)\n",
        "    cum_daily_log_return[nombre] = strategy_performance(stock,periodo)  \n",
        "\n",
        "# Plot the cumulative daily returns  \n",
        "print (\"Cumulative Daily Returns\")  \n",
        "#cum_daily_log_return.plot()  \n",
        "# Show the plot  \n",
        "#plt.show()  "
      ],
      "execution_count": 3,
      "outputs": [
        {
          "output_type": "stream",
          "text": [
            "[*********************100%***********************]  1 of 1 downloaded\n",
            "tef.mc\n"
          ],
          "name": "stdout"
        },
        {
          "output_type": "display_data",
          "data": {
            "image/png": "[encoded data removed]",
            "text/plain": [
              "<matplotlib.figure.Figure at 0x7f625021ef60>"
            ]
          },
          "metadata": {
            "tags": []
          }
        },
        {
          "output_type": "stream",
          "text": [
            "[*********************100%***********************]  1 of 1 downloaded\n",
            "tef.mc\n"
          ],
          "name": "stdout"
        },
        {
          "output_type": "display_data",
          "data": {
            "image/png": "[encoded data removed]",
            "text/plain": [
              "<matplotlib.figure.Figure at 0x7f62501c6208>"
            ]
          },
          "metadata": {
            "tags": []
          }
        },
        {
          "output_type": "stream",
          "text": [
            "[*********************100%***********************]  1 of 1 downloaded\n",
            "tef.mc\n"
          ],
          "name": "stdout"
        },
        {
          "output_type": "display_data",
          "data": {
            "image/png": "[encoded data removed]",
            "text/plain": [
              "<matplotlib.figure.Figure at 0x7f624d89cbe0>"
            ]
          },
          "metadata": {
            "tags": []
          }
        },
        {
          "output_type": "stream",
          "text": [
            "[*********************100%***********************]  1 of 1 downloaded\n",
            "tef.mc\n"
          ],
          "name": "stdout"
        },
        {
          "output_type": "display_data",
          "data": {
            "image/png": "[encoded data removed]",
            "text/plain": [
              "<matplotlib.figure.Figure at 0x7f62501a8780>"
            ]
          },
          "metadata": {
            "tags": []
          }
        },
        {
          "output_type": "stream",
          "text": [
            "[*********************100%***********************]  1 of 1 downloaded\n",
            "tef.mc\n"
          ],
          "name": "stdout"
        },
        {
          "output_type": "display_data",
          "data": {
            "image/png": "[encoded data removed]",
            "text/plain": [
              "<matplotlib.figure.Figure at 0x7f62501fd128>"
            ]
          },
          "metadata": {
            "tags": []
          }
        },
        {
          "output_type": "stream",
          "text": [
            "[*********************100%***********************]  1 of 1 downloaded\n",
            "tef.mc\n"
          ],
          "name": "stdout"
        },
        {
          "output_type": "display_data",
          "data": {
            "image/png": "[encoded data removed]",
            "text/plain": [
              "<matplotlib.figure.Figure at 0x7f624d7dc278>"
            ]
          },
          "metadata": {
            "tags": []
          }
        },
        {
          "output_type": "stream",
          "text": [
            "[*********************100%***********************]  1 of 1 downloaded\n",
            "tef.mc\n"
          ],
          "name": "stdout"
        },
        {
          "output_type": "display_data",
          "data": {
            "image/png": "[encoded data removed]",
            "text/plain": [
              "<matplotlib.figure.Figure at 0x7f624d6e1e80>"
            ]
          },
          "metadata": {
            "tags": []
          }
        },
        {
          "output_type": "stream",
          "text": [
            "[*********************100%***********************]  1 of 1 downloaded\n",
            "san.mc\n"
          ],
          "name": "stdout"
        },
        {
          "output_type": "display_data",
          "data": {
            "image/png": "[encoded data removed]",
            "text/plain": [
              "<matplotlib.figure.Figure at 0x7f624d61a438>"
            ]
          },
          "metadata": {
            "tags": []
          }
        },
        {
          "output_type": "stream",
          "text": [
            "[*********************100%***********************]  1 of 1 downloaded\n",
            "san.mc\n"
          ],
          "name": "stdout"
        },
        {
          "output_type": "display_data",
          "data": {
            "image/png": "[encoded data removed]",
            "text/plain": [
              "<matplotlib.figure.Figure at 0x7f624d58b470>"
            ]
          },
          "metadata": {
            "tags": []
          }
        },
        {
          "output_type": "stream",
          "text": [
            "[*********************100%***********************]  1 of 1 downloaded\n",
            "san.mc\n"
          ],
          "name": "stdout"
        },
        {
          "output_type": "display_data",
          "data": {
            "image/png": "[encoded data removed]",
            "text/plain": [
              "<matplotlib.figure.Figure at 0x7f624d410978>"
            ]
          },
          "metadata": {
            "tags": []
          }
        },
        {
          "output_type": "stream",
          "text": [
            "[*********************100%***********************]  1 of 1 downloaded\n",
            "san.mc\n"
          ],
          "name": "stdout"
        },
        {
          "output_type": "display_data",
          "data": {
            "image/png": "[encoded data removed]",
            "text/plain": [
              "<matplotlib.figure.Figure at 0x7f624d394860>"
            ]
          },
          "metadata": {
            "tags": []
          }
        },
        {
          "output_type": "stream",
          "text": [
            "[*********************100%***********************]  1 of 1 downloaded\n",
            "san.mc\n"
          ],
          "name": "stdout"
        },
        {
          "output_type": "display_data",
          "data": {
            "image/png": "[encoded data removed]",
            "text/plain": [
              "<matplotlib.figure.Figure at 0x7f624d2f6780>"
            ]
          },
          "metadata": {
            "tags": []
          }
        },
        {
          "output_type": "stream",
          "text": [
            "[*********************100%***********************]  1 of 1 downloaded\n",
            "san.mc\n"
          ],
          "name": "stdout"
        },
        {
          "output_type": "display_data",
          "data": {
            "image/png": "[encoded data removed]",
            "text/plain": [
              "<matplotlib.figure.Figure at 0x7f624d1f35c0>"
            ]
          },
          "metadata": {
            "tags": []
          }
        },
        {
          "output_type": "stream",
          "text": [
            "[*********************100%***********************]  1 of 1 downloaded\n",
            "san.mc\n"
          ],
          "name": "stdout"
        },
        {
          "output_type": "display_data",
          "data": {
            "image/png": "[encoded data removed]",
            "text/plain": [
              "<matplotlib.figure.Figure at 0x7f624d110278>"
            ]
          },
          "metadata": {
            "tags": []
          }
        },
        {
          "output_type": "stream",
          "text": [
            "[*********************100%***********************]  1 of 1 downloaded\n",
            "itx.mc\n"
          ],
          "name": "stdout"
        },
        {
          "output_type": "display_data",
          "data": {
            "image/png": "[encoded data removed]",
            "text/plain": [
              "<matplotlib.figure.Figure at 0x7f624d0d74e0>"
            ]
          },
          "metadata": {
            "tags": []
          }
        },
        {
          "output_type": "stream",
          "text": [
            "[*********************100%***********************]  1 of 1 downloaded\n",
            "itx.mc\n"
          ],
          "name": "stdout"
        },
        {
          "output_type": "display_data",
          "data": {
            "image/png": "[encoded data removed]",
            "text/plain": [
              "<matplotlib.figure.Figure at 0x7f62501c6278>"
            ]
          },
          "metadata": {
            "tags": []
          }
        },
        {
          "output_type": "stream",
          "text": [
            "[*********************100%***********************]  1 of 1 downloaded\n",
            "itx.mc\n"
          ],
          "name": "stdout"
        },
        {
          "output_type": "display_data",
          "data": {
            "image/png": "[encoded data removed]",
            "text/plain": [
              "<matplotlib.figure.Figure at 0x7f624d199c88>"
            ]
          },
          "metadata": {
            "tags": []
          }
        },
        {
          "output_type": "stream",
          "text": [
            "[*********************100%***********************]  1 of 1 downloaded\n",
            "itx.mc\n"
          ],
          "name": "stdout"
        },
        {
          "output_type": "display_data",
          "data": {
            "image/png": "[encoded data removed]",
            "text/plain": [
              "<matplotlib.figure.Figure at 0x7f62502012b0>"
            ]
          },
          "metadata": {
            "tags": []
          }
        },
        {
          "output_type": "stream",
          "text": [
            "[*********************100%***********************]  1 of 1 downloaded\n",
            "itx.mc\n"
          ],
          "name": "stdout"
        },
        {
          "output_type": "display_data",
          "data": {
            "image/png": "[encoded data removed]",
            "text/plain": [
              "<matplotlib.figure.Figure at 0x7f624d4ced30>"
            ]
          },
          "metadata": {
            "tags": []
          }
        },
        {
          "output_type": "stream",
          "text": [
            "[*********************100%***********************]  1 of 1 downloaded\n",
            "itx.mc\n"
          ],
          "name": "stdout"
        },
        {
          "output_type": "display_data",
          "data": {
            "image/png": "[encoded data removed]",
            "text/plain": [
              "<matplotlib.figure.Figure at 0x7f624d4ff6d8>"
            ]
          },
          "metadata": {
            "tags": []
          }
        },
        {
          "output_type": "stream",
          "text": [
            "[*********************100%***********************]  1 of 1 downloaded\n",
            "itx.mc\n"
          ],
          "name": "stdout"
        },
        {
          "output_type": "display_data",
          "data": {
            "image/png": "[encoded data removed]",
            "text/plain": [
              "<matplotlib.figure.Figure at 0x7f624d83cdd8>"
            ]
          },
          "metadata": {
            "tags": []
          }
        },
        {
          "output_type": "stream",
          "text": [
            "[*********************100%***********************]  1 of 1 downloaded\n",
            "rep.mc\n"
          ],
          "name": "stdout"
        },
        {
          "output_type": "display_data",
          "data": {
            "image/png": "[encoded data removed]",
            "text/plain": [
              "<matplotlib.figure.Figure at 0x7f624d8bb748>"
            ]
          },
          "metadata": {
            "tags": []
          }
        },
        {
          "output_type": "stream",
          "text": [
            "[*********************100%***********************]  1 of 1 downloaded\n",
            "rep.mc\n"
          ],
          "name": "stdout"
        },
        {
          "output_type": "display_data",
          "data": {
            "image/png": "[encoded data removed]",
            "text/plain": [
              "<matplotlib.figure.Figure at 0x7f624d78e208>"
            ]
          },
          "metadata": {
            "tags": []
          }
        },
        {
          "output_type": "stream",
          "text": [
            "[*********************100%***********************]  1 of 1 downloaded\n",
            "rep.mc\n"
          ],
          "name": "stdout"
        },
        {
          "output_type": "display_data",
          "data": {
            "image/png": "[encoded data removed]",
            "text/plain": [
              "<matplotlib.figure.Figure at 0x7f624d7bc470>"
            ]
          },
          "metadata": {
            "tags": []
          }
        },
        {
          "output_type": "stream",
          "text": [
            "[*********************100%***********************]  1 of 1 downloaded\n",
            "rep.mc\n"
          ],
          "name": "stdout"
        },
        {
          "output_type": "display_data",
          "data": {
            "image/png": "[encoded data removed]",
            "text/plain": [
              "<matplotlib.figure.Figure at 0x7f624d464a58>"
            ]
          },
          "metadata": {
            "tags": []
          }
        },
        {
          "output_type": "stream",
          "text": [
            "[*********************100%***********************]  1 of 1 downloaded\n",
            "rep.mc\n"
          ],
          "name": "stdout"
        },
        {
          "output_type": "display_data",
          "data": {
            "image/png": "[encoded data removed]",
            "text/plain": [
              "<matplotlib.figure.Figure at 0x7f624d5c4978>"
            ]
          },
          "metadata": {
            "tags": []
          }
        },
        {
          "output_type": "stream",
          "text": [
            "[*********************100%***********************]  1 of 1 downloaded\n",
            "rep.mc\n"
          ],
          "name": "stdout"
        },
        {
          "output_type": "display_data",
          "data": {
            "image/png": "[encoded data removed]",
            "text/plain": [
              "<matplotlib.figure.Figure at 0x7f624d0f8be0>"
            ]
          },
          "metadata": {
            "tags": []
          }
        },
        {
          "output_type": "stream",
          "text": [
            "[*********************100%***********************]  1 of 1 downloaded\n",
            "rep.mc\n"
          ],
          "name": "stdout"
        },
        {
          "output_type": "display_data",
          "data": {
            "image/png": "[encoded data removed]",
            "text/plain": [
              "<matplotlib.figure.Figure at 0x7f624d38b630>"
            ]
          },
          "metadata": {
            "tags": []
          }
        },
        {
          "output_type": "stream",
          "text": [
            "Cumulative Daily Returns\n"
          ],
          "name": "stdout"
        }
      ]
    },
    {
      "metadata": {
        "id": "hfvf9cjvA_qo",
        "colab_type": "code",
        "colab": {}
      },
      "cell_type": "code",
      "source": [
        "#extre los datos en %\n",
        "cum_daily_return=np.exp(cum_daily_log_return)"
      ],
      "execution_count": 0,
      "outputs": []
    },
    {
      "metadata": {
        "id": "H9G7WuNdCFot",
        "colab_type": "code",
        "colab": {}
      },
      "cell_type": "code",
      "source": [
        "#extrae los rendimientos de 3 meses para todas las estrategias\n",
        "#rel_cum_daily_return=cum_daily_return.pct_change(60).fillna(0)"
      ],
      "execution_count": 0,
      "outputs": []
    },
    {
      "metadata": {
        "id": "G9aqtwMS__2b",
        "colab_type": "code",
        "colab": {}
      },
      "cell_type": "code",
      "source": [
        "#plotea los 500 ultimos valores de la series\n",
        "#rel_cum_daily_return[-500:].plot()"
      ],
      "execution_count": 0,
      "outputs": []
    },
    {
      "metadata": {
        "id": "M7vPKI3cCaee",
        "colab_type": "code",
        "outputId": "da4f772b-38ea-450b-b987-acb20b7b8a4a",
        "colab": {
          "base_uri": "https://localhost:8080/",
          "height": 480
        }
      },
      "cell_type": "code",
      "source": [
        "#plotea todos los valores\n",
        "cum_daily_return.pct_change(60).plot(figsize=(18,8))"
      ],
      "execution_count": 7,
      "outputs": [
        {
          "output_type": "execute_result",
          "data": {
            "text/plain": [
              "<matplotlib.axes._subplots.AxesSubplot at 0x7f6261e1a550>"
            ]
          },
          "metadata": {
            "tags": []
          },
          "execution_count": 7
        },
        {
          "output_type": "display_data",
          "data": {
            "image/png": "[encoded data removed]",
            "text/plain": [
              "<matplotlib.figure.Figure at 0x7f6255aa4d68>"
            ]
          },
          "metadata": {
            "tags": []
          }
        }
      ]
    },
    {
      "metadata": {
        "id": "IN4z7SAAH4Q8",
        "colab_type": "code",
        "colab": {}
      },
      "cell_type": "code",
      "source": [
        "#grafica los valores en funcion del periodod\n",
        "portfolio_grupo={}\n",
        "cum_daily_return['neutro']=0\n",
        "cum_daily_return['neutro_l5']=0.000001\n",
        "cum_daily_return['neutro_l10']=0.000001\n",
        "cum_daily_return['neutro_l20']=0.000001\n",
        "cum_daily_return['neutro_l60']=0.000001\n",
        "cum_daily_return['neutro_l110']=0.000001\n",
        "cum_daily_return['neutro_l220']=0.000001\n",
        "\n",
        "for periodo in periodos:\n",
        "\n",
        "    f1=pd.DataFrame(index=cum_daily_return.index)\n",
        "    #print ('Grafico del periodo',periodo)\n",
        "    l5=cum_daily_return.filter(like='_l{}'.format(periodo),axis=1).columns.values\n",
        "    #l4='neutro'\n",
        "    #l5=np.append(l5,l4)\n",
        "    portfolio_grupo[periodo]=dict(periodo=l5)\n",
        "      \n",
        "#    for periodo2 in periodos:\n",
        "\n",
        "        #f1=pd.DataFrame(index=cum_daily_return.index)\n",
        "        #print ('Grafico del periodo',periodo)\n",
        "        #l5=cum_daily_return.filter(like='_l{}'.format(periodo),axis=1).columns.values\n",
        "#        cum_daily_return[l5].pct_change(periodo2).plot(figsize=(16,8),title='grafico en {} y pct {}'.format(periodo,periodo2))"
      ],
      "execution_count": 0,
      "outputs": []
    },
    {
      "metadata": {
        "id": "-SBBpNTCPqbS",
        "colab_type": "code",
        "outputId": "0490443a-6348-47f7-ca37-e5732b359e60",
        "colab": {
          "base_uri": "https://localhost:8080/",
          "height": 51
        }
      },
      "cell_type": "code",
      "source": [
        "#obiene las series por periodo\n",
        "portfolio_grupo[5]['periodo']\n",
        "\n"
      ],
      "execution_count": 9,
      "outputs": [
        {
          "output_type": "execute_result",
          "data": {
            "text/plain": [
              "array(['tef.mc_l5', 'san.mc_l5', 'itx.mc_l5', 'rep.mc_l5', 'neutro_l5'],\n",
              "      dtype=object)"
            ]
          },
          "metadata": {
            "tags": []
          },
          "execution_count": 9
        }
      ]
    },
    {
      "metadata": {
        "id": "uSkIxY93Pr88",
        "colab_type": "code",
        "outputId": "3924a49e-c6bd-47c5-904a-93bba9cc6bc2",
        "colab": {
          "base_uri": "https://localhost:8080/",
          "height": 54
        }
      },
      "cell_type": "code",
      "source": [
        "'''\n",
        "cum_daily_return[portfolio_grupo[220]['periodo']].pct_change(60).plot()\n",
        "cum_daily_return['pepe']=cum_daily_return[portfolio_grupo[220]['periodo']].pct_change(110).apply(lambda x: x.argmax(), axis=1)\n",
        "print (cum_daily_return['pepe'].tail())\n",
        "print (cum_daily_return[portfolio_grupo[220]['periodo']].pct_change(110).tail())\n",
        "'''"
      ],
      "execution_count": 10,
      "outputs": [
        {
          "output_type": "execute_result",
          "data": {
            "text/plain": [
              "\"\\ncum_daily_return[portfolio_grupo[220]['periodo']].pct_change(60).plot()\\ncum_daily_return['pepe']=cum_daily_return[portfolio_grupo[220]['periodo']].pct_change(110).apply(lambda x: x.argmax(), axis=1)\\nprint (cum_daily_return['pepe'].tail())\\nprint (cum_daily_return[portfolio_grupo[220]['periodo']].pct_change(110).tail())\\n\""
            ]
          },
          "metadata": {
            "tags": []
          },
          "execution_count": 10
        }
      ]
    },
    {
      "metadata": {
        "id": "DvKubefJSu3I",
        "colab_type": "code",
        "outputId": "0f4a3bef-2a73-40c8-9918-8ccb53a50af0",
        "colab": {
          "base_uri": "https://localhost:8080/",
          "height": 71
        }
      },
      "cell_type": "code",
      "source": [
        "resultados= []\n",
        "for periodo in periodos:\n",
        "  for periodo2 in periodos:\n",
        "    nombre='resultado_{}d{}p'.format(periodo,periodo2)\n",
        "    resultados.append(nombre)\n",
        "    cum_daily_return[nombre]=cum_daily_return[portfolio_grupo[periodo]['periodo']].pct_change(periodo2).apply(lambda x: x.argmax(), axis=1)\n",
        "    #hay que poner el pct_change\n"
      ],
      "execution_count": 11,
      "outputs": [
        {
          "output_type": "stream",
          "text": [
            "/usr/local/lib/python3.6/dist-packages/ipykernel_launcher.py:6: FutureWarning: 'argmax' is deprecated. Use 'idxmax' instead. The behavior of 'argmax' will be corrected to return the positional maximum in the future. Use 'series.values.argmax' to get the position of the maximum now.\n",
            "  \n"
          ],
          "name": "stderr"
        }
      ]
    },
    {
      "metadata": {
        "id": "wRrgakI0ZbnS",
        "colab_type": "code",
        "colab": {}
      },
      "cell_type": "code",
      "source": [
        "#cum_daily_return\n"
      ],
      "execution_count": 0,
      "outputs": []
    },
    {
      "metadata": {
        "id": "WbhWM89e0LjR",
        "colab_type": "code",
        "outputId": "54e8f4d8-2e9b-4a21-b48c-b28539f9b96b",
        "colab": {
          "base_uri": "https://localhost:8080/",
          "height": 54
        }
      },
      "cell_type": "code",
      "source": [
        "#tenemos neutro y nada mas\n",
        "\"\"\"\n",
        "f1=pd.DataFrame(index=cum_daily_return.index)\n",
        "l5=cum_daily_return.filter(like='neutro'.format(periodo),axis=1).columns.values\n",
        "cum_daily_return[l5].plot(figsize=(16,8))\n",
        "\"\"\""
      ],
      "execution_count": 12,
      "outputs": [
        {
          "output_type": "execute_result",
          "data": {
            "text/plain": [
              "\"\\nf1=pd.DataFrame(index=cum_daily_return.index)\\nl5=cum_daily_return.filter(like='neutro'.format(periodo),axis=1).columns.values\\ncum_daily_return[l5].plot(figsize=(16,8))\\n\""
            ]
          },
          "metadata": {
            "tags": []
          },
          "execution_count": 12
        }
      ]
    },
    {
      "metadata": {
        "id": "dDpaTElvZYeH",
        "colab_type": "code",
        "colab": {}
      },
      "cell_type": "code",
      "source": [
        "#resultados"
      ],
      "execution_count": 0,
      "outputs": []
    },
    {
      "metadata": {
        "id": "dVCvi5kfcWCJ",
        "colab_type": "code",
        "colab": {}
      },
      "cell_type": "code",
      "source": [
        "#cum_daily_return[resultados].tail()"
      ],
      "execution_count": 0,
      "outputs": []
    },
    {
      "metadata": {
        "id": "E9hNESX1cdXS",
        "colab_type": "code",
        "colab": {}
      },
      "cell_type": "code",
      "source": [
        "\n",
        "#print (cum_daily_return.columns)\n",
        "#for columna in resultados:\n",
        "  \n",
        " # daily_log_return=np.log(cum_daily_return[portfolio]/cum_daily_return[portfolio].shift())"
      ],
      "execution_count": 0,
      "outputs": []
    },
    {
      "metadata": {
        "id": "lcRfeHe0I2wm",
        "colab_type": "code",
        "colab": {}
      },
      "cell_type": "code",
      "source": [
        "#calcula los retornos en log\n",
        "\n",
        "f1=pd.DataFrame(index=cum_daily_return.index)\n",
        "l5=cum_daily_return.filter(like='_l'.format(periodo),axis=1).columns.values\n",
        "for fila in l5:\n",
        "  nombre='p_'+fila\n",
        "  cum_daily_return[nombre]=np.log(cum_daily_return[fila]/cum_daily_return[fila].shift())"
      ],
      "execution_count": 0,
      "outputs": []
    },
    {
      "metadata": {
        "id": "5uns9ydcQNH6",
        "colab_type": "code",
        "colab": {}
      },
      "cell_type": "code",
      "source": [
        "#print (cum_daily_return['p_AAPL_l60'])"
      ],
      "execution_count": 0,
      "outputs": []
    },
    {
      "metadata": {
        "id": "P2dgx7tyQSDN",
        "colab_type": "code",
        "colab": {}
      },
      "cell_type": "code",
      "source": [
        "#cum_daily_return['p_AAPL_l60'].tail()"
      ],
      "execution_count": 0,
      "outputs": []
    },
    {
      "metadata": {
        "id": "MRrDlcWQQ2F_",
        "colab_type": "code",
        "colab": {}
      },
      "cell_type": "code",
      "source": [
        "#print (cum_daily_return['resultado_5d60p'].tail())\n",
        "#print(cum_daily_return['resultado_5d110p'].value_counts())"
      ],
      "execution_count": 0,
      "outputs": []
    },
    {
      "metadata": {
        "id": "y9mZ655Q4R3z",
        "colab_type": "code",
        "colab": {}
      },
      "cell_type": "code",
      "source": [
        "#cum_daily_return"
      ],
      "execution_count": 0,
      "outputs": []
    },
    {
      "metadata": {
        "id": "a2W99ZmM_K5f",
        "colab_type": "code",
        "colab": {}
      },
      "cell_type": "code",
      "source": [
        ""
      ],
      "execution_count": 0,
      "outputs": []
    },
    {
      "metadata": {
        "id": "BQ3BVqYGEe-s",
        "colab_type": "code",
        "outputId": "e008216c-9f5f-4cb1-be2f-bc01975d282a",
        "colab": {
          "base_uri": "https://localhost:8080/",
          "height": 34
        }
      },
      "cell_type": "code",
      "source": [
        "\"\"\"\n",
        "print (portfolio)\n",
        "print (resultados)\n",
        "print (periodos)\n",
        "print (periodos)\n",
        "\"\"\""
      ],
      "execution_count": 21,
      "outputs": [
        {
          "output_type": "execute_result",
          "data": {
            "text/plain": [
              "'\\nprint (portfolio)\\nprint (resultados)\\nprint (periodos)\\nprint (periodos)\\n'"
            ]
          },
          "metadata": {
            "tags": []
          },
          "execution_count": 21
        }
      ]
    },
    {
      "metadata": {
        "id": "YQtIJkQMIDxn",
        "colab_type": "code",
        "colab": {}
      },
      "cell_type": "code",
      "source": [
        "for periodo in periodos:\n",
        "  for periodo2 in periodos:\n",
        "    nombre='res_{}d{}p'.format(periodo,periodo2)\n",
        "    nombre2='resultado_{}d{}p'.format(periodo,periodo2)\n",
        "    cum_daily_return[nombre]=np.zeros(len(cum_daily_return))\n",
        "\n",
        "    for numbre in portfolio:\n",
        "      nombre3='{}_l{}'.format(numbre,periodo)\n",
        "      nombre4='p_{}_l{}'.format(numbre,periodo2)\n",
        "      cum_daily_return[nombre]=np.where(cum_daily_return[nombre2].shift()==nombre3,cum_daily_return[nombre4],cum_daily_return[nombre])\n"
      ],
      "execution_count": 0,
      "outputs": []
    },
    {
      "metadata": {
        "id": "hjXyOE6uJ5MH",
        "colab_type": "code",
        "colab": {}
      },
      "cell_type": "code",
      "source": [
        "#print (cum_daily_return['res_220d60p'].tail())\n",
        "#print (periodo)"
      ],
      "execution_count": 0,
      "outputs": []
    },
    {
      "metadata": {
        "id": "isCroi0bMD4d",
        "colab_type": "code",
        "colab": {}
      },
      "cell_type": "code",
      "source": [
        "f1=pd.DataFrame(index=cum_daily_return.index)\n",
        "l5=cum_daily_return.filter(like='res_',axis=1).columns\n",
        "for fila in l5:\n",
        "  nombre='serie_'+fila\n",
        "  cum_daily_return[nombre]=np.exp(cum_daily_return[fila].cumsum())\n",
        "  "
      ],
      "execution_count": 0,
      "outputs": []
    },
    {
      "metadata": {
        "id": "_OWrksSRsJbM",
        "colab_type": "code",
        "colab": {}
      },
      "cell_type": "code",
      "source": [
        "#cum_daily_return[l5]"
      ],
      "execution_count": 0,
      "outputs": []
    },
    {
      "metadata": {
        "id": "1xhFzOemMY0L",
        "colab_type": "text"
      },
      "cell_type": "markdown",
      "source": [
        ""
      ]
    },
    {
      "metadata": {
        "id": "F5FRskf2MZ5w",
        "colab_type": "code",
        "outputId": "8a21cf39-b070-4d91-8a4a-10e3631cc3b3",
        "colab": {
          "base_uri": "https://localhost:8080/",
          "height": 34
        }
      },
      "cell_type": "code",
      "source": [
        "\n",
        "f1=pd.DataFrame(index=cum_daily_return.index)\n",
        "l5=cum_daily_return.filter(like='serie_',axis=1).columns\n",
        "\"\"\"\n",
        "cum_daily_return[l5].plot(figsize=(16,8))\n",
        "\"\"\""
      ],
      "execution_count": 26,
      "outputs": [
        {
          "output_type": "execute_result",
          "data": {
            "text/plain": [
              "'\\ncum_daily_return[l5].plot(figsize=(16,8))\\n'"
            ]
          },
          "metadata": {
            "tags": []
          },
          "execution_count": 26
        }
      ]
    },
    {
      "metadata": {
        "id": "9bKXQO43b2dq",
        "colab_type": "code",
        "outputId": "d41a0d4f-a259-40d0-9698-563670de384c",
        "colab": {
          "base_uri": "https://localhost:8080/",
          "height": 34
        }
      },
      "cell_type": "code",
      "source": [
        "\"\"\"\n",
        "cum_daily_return['serie_res_110d60p'].plot()\n",
        "cum_daily_return[portfolio_grupo[220]['periodo']].pct_change(60).plot()\n",
        "\"\"\"\n"
      ],
      "execution_count": 27,
      "outputs": [
        {
          "output_type": "execute_result",
          "data": {
            "text/plain": [
              "\"\\ncum_daily_return['serie_res_110d60p'].plot()\\ncum_daily_return[portfolio_grupo[220]['periodo']].pct_change(60).plot()\\n\""
            ]
          },
          "metadata": {
            "tags": []
          },
          "execution_count": 27
        }
      ]
    },
    {
      "metadata": {
        "id": "b7HiyFoXudby",
        "colab_type": "code",
        "outputId": "e19b0991-1be0-4ce1-ba65-dfe76973e1ed",
        "colab": {
          "base_uri": "https://localhost:8080/",
          "height": 54
        }
      },
      "cell_type": "code",
      "source": [
        "\"\"\"\n",
        "f1=pd.DataFrame(index=cum_daily_return.index)\n",
        "l5=cum_daily_return.filter(like='serie_res_5'.format(periodo),axis=1).columns.values\n",
        "cum_daily_return[l5].plot(figsize=(16,8))\n",
        "\"\"\""
      ],
      "execution_count": 28,
      "outputs": [
        {
          "output_type": "execute_result",
          "data": {
            "text/plain": [
              "\"\\nf1=pd.DataFrame(index=cum_daily_return.index)\\nl5=cum_daily_return.filter(like='serie_res_5'.format(periodo),axis=1).columns.values\\ncum_daily_return[l5].plot(figsize=(16,8))\\n\""
            ]
          },
          "metadata": {
            "tags": []
          },
          "execution_count": 28
        }
      ]
    },
    {
      "metadata": {
        "id": "NCUyK0TVvVyj",
        "colab_type": "code",
        "outputId": "d30a4e1c-f6ea-4b41-c4ab-01f5ca603fd5",
        "colab": {
          "base_uri": "https://localhost:8080/",
          "height": 54
        }
      },
      "cell_type": "code",
      "source": [
        "\"\"\"\n",
        "f1=pd.DataFrame(index=cum_daily_return.index)\n",
        "l5=cum_daily_return.filter(like='serie_res_10'.format(periodo),axis=1).columns.values\n",
        "cum_daily_return[l5].plot(figsize=(16,8))\n",
        "\"\"\"\n"
      ],
      "execution_count": 29,
      "outputs": [
        {
          "output_type": "execute_result",
          "data": {
            "text/plain": [
              "\"\\nf1=pd.DataFrame(index=cum_daily_return.index)\\nl5=cum_daily_return.filter(like='serie_res_10'.format(periodo),axis=1).columns.values\\ncum_daily_return[l5].plot(figsize=(16,8))\\n\""
            ]
          },
          "metadata": {
            "tags": []
          },
          "execution_count": 29
        }
      ]
    },
    {
      "metadata": {
        "id": "KYULWbihveHy",
        "colab_type": "code",
        "outputId": "c068d849-929e-4501-ecb5-a0d0e4da0565",
        "colab": {
          "base_uri": "https://localhost:8080/",
          "height": 54
        }
      },
      "cell_type": "code",
      "source": [
        "\"\"\"\n",
        "f1=pd.DataFrame(index=cum_daily_return.index)\n",
        "l5=cum_daily_return.filter(like='serie_res_20'.format(periodo),axis=1).columns.values\n",
        "cum_daily_return[l5].plot(figsize=(16,8))\n",
        "\"\"\""
      ],
      "execution_count": 30,
      "outputs": [
        {
          "output_type": "execute_result",
          "data": {
            "text/plain": [
              "\"\\nf1=pd.DataFrame(index=cum_daily_return.index)\\nl5=cum_daily_return.filter(like='serie_res_20'.format(periodo),axis=1).columns.values\\ncum_daily_return[l5].plot(figsize=(16,8))\\n\""
            ]
          },
          "metadata": {
            "tags": []
          },
          "execution_count": 30
        }
      ]
    },
    {
      "metadata": {
        "id": "hl3PBUM7vn7B",
        "colab_type": "code",
        "outputId": "68cd9ec7-a20c-4d71-86a4-5d14520b7cfe",
        "colab": {
          "base_uri": "https://localhost:8080/",
          "height": 54
        }
      },
      "cell_type": "code",
      "source": [
        "\"\"\"\n",
        "f1=pd.DataFrame(index=cum_daily_return.index)\n",
        "l5=cum_daily_return.filter(like='serie_res_60'.format(periodo),axis=1).columns.values\n",
        "cum_daily_return[l5].plot(figsize=(16,8))\n",
        "\"\"\""
      ],
      "execution_count": 31,
      "outputs": [
        {
          "output_type": "execute_result",
          "data": {
            "text/plain": [
              "\"\\nf1=pd.DataFrame(index=cum_daily_return.index)\\nl5=cum_daily_return.filter(like='serie_res_60'.format(periodo),axis=1).columns.values\\ncum_daily_return[l5].plot(figsize=(16,8))\\n\""
            ]
          },
          "metadata": {
            "tags": []
          },
          "execution_count": 31
        }
      ]
    },
    {
      "metadata": {
        "id": "kPaJhdlGv2Nu",
        "colab_type": "code",
        "outputId": "c0b96b5a-1f5b-4e12-fcca-1be7a6dccdd2",
        "colab": {
          "base_uri": "https://localhost:8080/",
          "height": 54
        }
      },
      "cell_type": "code",
      "source": [
        "\"\"\"\n",
        "f1=pd.DataFrame(index=cum_daily_return.index)\n",
        "l5=cum_daily_return.filter(like='serie_res_110'.format(periodo),axis=1).columns.values\n",
        "cum_daily_return[l5].plot(figsize=(16,8))\n",
        "\"\"\""
      ],
      "execution_count": 32,
      "outputs": [
        {
          "output_type": "execute_result",
          "data": {
            "text/plain": [
              "\"\\nf1=pd.DataFrame(index=cum_daily_return.index)\\nl5=cum_daily_return.filter(like='serie_res_110'.format(periodo),axis=1).columns.values\\ncum_daily_return[l5].plot(figsize=(16,8))\\n\""
            ]
          },
          "metadata": {
            "tags": []
          },
          "execution_count": 32
        }
      ]
    },
    {
      "metadata": {
        "id": "BFGDG5P8v806",
        "colab_type": "code",
        "outputId": "f7374f04-3c51-46ba-ee00-d91b1575ef11",
        "colab": {
          "base_uri": "https://localhost:8080/",
          "height": 54
        }
      },
      "cell_type": "code",
      "source": [
        "\"\"\"\n",
        "f1=pd.DataFrame(index=cum_daily_return.index)\n",
        "l5=cum_daily_return.filter(like='serie_res_220'.format(periodo),axis=1).columns.values\n",
        "cum_daily_return[l5].plot(figsize=(16,8))\n",
        "\"\"\""
      ],
      "execution_count": 33,
      "outputs": [
        {
          "output_type": "execute_result",
          "data": {
            "text/plain": [
              "\"\\nf1=pd.DataFrame(index=cum_daily_return.index)\\nl5=cum_daily_return.filter(like='serie_res_220'.format(periodo),axis=1).columns.values\\ncum_daily_return[l5].plot(figsize=(16,8))\\n\""
            ]
          },
          "metadata": {
            "tags": []
          },
          "execution_count": 33
        }
      ]
    },
    {
      "metadata": {
        "id": "XwCS-qDhcNRa",
        "colab_type": "code",
        "colab": {}
      },
      "cell_type": "code",
      "source": [
        ""
      ],
      "execution_count": 0,
      "outputs": []
    },
    {
      "metadata": {
        "id": "sM65vG_TZfMI",
        "colab_type": "code",
        "outputId": "2335b477-6715-4ba7-c6fd-d93c40171217",
        "colab": {
          "base_uri": "https://localhost:8080/",
          "height": 357
        }
      },
      "cell_type": "code",
      "source": [
        "print(l5)\n",
        "perf=cum_daily_return[l5].dropna().calc_stats()\n",
        "#perf.plot()\n"
      ],
      "execution_count": 34,
      "outputs": [
        {
          "output_type": "stream",
          "text": [
            "Index(['serie_res_5d5p', 'serie_res_5d10p', 'serie_res_5d20p',\n",
            "       'serie_res_5d40p', 'serie_res_5d60p', 'serie_res_5d110p',\n",
            "       'serie_res_5d220p', 'serie_res_10d5p', 'serie_res_10d10p',\n",
            "       'serie_res_10d20p', 'serie_res_10d40p', 'serie_res_10d60p',\n",
            "       'serie_res_10d110p', 'serie_res_10d220p', 'serie_res_20d5p',\n",
            "       'serie_res_20d10p', 'serie_res_20d20p', 'serie_res_20d40p',\n",
            "       'serie_res_20d60p', 'serie_res_20d110p', 'serie_res_20d220p',\n",
            "       'serie_res_40d5p', 'serie_res_40d10p', 'serie_res_40d20p',\n",
            "       'serie_res_40d40p', 'serie_res_40d60p', 'serie_res_40d110p',\n",
            "       'serie_res_40d220p', 'serie_res_60d5p', 'serie_res_60d10p',\n",
            "       'serie_res_60d20p', 'serie_res_60d40p', 'serie_res_60d60p',\n",
            "       'serie_res_60d110p', 'serie_res_60d220p', 'serie_res_110d5p',\n",
            "       'serie_res_110d10p', 'serie_res_110d20p', 'serie_res_110d40p',\n",
            "       'serie_res_110d60p', 'serie_res_110d110p', 'serie_res_110d220p',\n",
            "       'serie_res_220d5p', 'serie_res_220d10p', 'serie_res_220d20p',\n",
            "       'serie_res_220d40p', 'serie_res_220d60p', 'serie_res_220d110p',\n",
            "       'serie_res_220d220p'],\n",
            "      dtype='object')\n"
          ],
          "name": "stdout"
        },
        {
          "output_type": "stream",
          "text": [
            "/usr/local/lib/python3.6/dist-packages/ffn/core.py:2056: RuntimeWarning: divide by zero encountered in true_divide\n",
            "  res = np.divide(er.mean(), std)\n"
          ],
          "name": "stderr"
        }
      ]
    },
    {
      "metadata": {
        "id": "tUCKbLyyaWJc",
        "colab_type": "code",
        "colab": {}
      },
      "cell_type": "code",
      "source": [
        ""
      ],
      "execution_count": 0,
      "outputs": []
    },
    {
      "metadata": {
        "id": "MWGZ0gQCa2qi",
        "colab_type": "code",
        "colab": {}
      },
      "cell_type": "code",
      "source": [
        "#perf.display_monthly_returns()"
      ],
      "execution_count": 0,
      "outputs": []
    },
    {
      "metadata": {
        "id": "1LKDYM3Ad4FH",
        "colab_type": "code",
        "colab": {}
      },
      "cell_type": "code",
      "source": [
        "datos=[ 'total_return', 'cagr', 'max_drawdown', 'calmar', \\\n",
        "        'daily_sharpe', 'daily_sortino', \\\n",
        "        'monthly_sharpe', 'monthly_sortino', 'best_month', \\\n",
        "       'worst_month', 'yearly_sharpe',  'best_year', 'worst_year', \\\n",
        "       'avg_drawdown', 'avg_drawdown_days', 'avg_up_month', 'avg_down_month', \\\n",
        "       'win_year_perc', 'twelve_month_win_perc']"
      ],
      "execution_count": 0,
      "outputs": []
    },
    {
      "metadata": {
        "id": "Doy5kp-XbdqG",
        "colab_type": "code",
        "outputId": "4fddf79a-8480-4053-d78d-2fc0ba8f0a39",
        "colab": {
          "base_uri": "https://localhost:8080/",
          "height": 69
        }
      },
      "cell_type": "code",
      "source": [
        "resultados=perf.stats.T\n",
        "#print (resultados.columns)\n",
        "resultados[datos][resultados.cagr>.2]\n"
      ],
      "execution_count": 37,
      "outputs": [
        {
          "output_type": "execute_result",
          "data": {
            "text/html": [
              "<div>\n",
              "<style scoped>\n",
              "    .dataframe tbody tr th:only-of-type {\n",
              "        vertical-align: middle;\n",
              "    }\n",
              "\n",
              "    .dataframe tbody tr th {\n",
              "        vertical-align: top;\n",
              "    }\n",
              "\n",
              "    .dataframe thead th {\n",
              "        text-align: right;\n",
              "    }\n",
              "</style>\n",
              "<table border=\"1\" class=\"dataframe\">\n",
              "  <thead>\n",
              "    <tr style=\"text-align: right;\">\n",
              "      <th></th>\n",
              "      <th>total_return</th>\n",
              "      <th>cagr</th>\n",
              "      <th>max_drawdown</th>\n",
              "      <th>calmar</th>\n",
              "      <th>daily_sharpe</th>\n",
              "      <th>daily_sortino</th>\n",
              "      <th>monthly_sharpe</th>\n",
              "      <th>monthly_sortino</th>\n",
              "      <th>best_month</th>\n",
              "      <th>worst_month</th>\n",
              "      <th>yearly_sharpe</th>\n",
              "      <th>best_year</th>\n",
              "      <th>worst_year</th>\n",
              "      <th>avg_drawdown</th>\n",
              "      <th>avg_drawdown_days</th>\n",
              "      <th>avg_up_month</th>\n",
              "      <th>avg_down_month</th>\n",
              "      <th>win_year_perc</th>\n",
              "      <th>twelve_month_win_perc</th>\n",
              "    </tr>\n",
              "  </thead>\n",
              "  <tbody>\n",
              "  </tbody>\n",
              "</table>\n",
              "</div>"
            ],
            "text/plain": [
              "Empty DataFrame\n",
              "Columns: [total_return, cagr, max_drawdown, calmar, daily_sharpe, daily_sortino, monthly_sharpe, monthly_sortino, best_month, worst_month, yearly_sharpe, best_year, worst_year, avg_drawdown, avg_drawdown_days, avg_up_month, avg_down_month, win_year_perc, twelve_month_win_perc]\n",
              "Index: []"
            ]
          },
          "metadata": {
            "tags": []
          },
          "execution_count": 37
        }
      ]
    },
    {
      "metadata": {
        "id": "9fVEUA7iS5ry",
        "colab_type": "text"
      },
      "cell_type": "markdown",
      "source": [
        ""
      ]
    },
    {
      "metadata": {
        "id": "_xVHhg9Afhko",
        "colab_type": "code",
        "outputId": "8a3bc7ba-a124-4956-d714-a3a76e16b348",
        "colab": {
          "base_uri": "https://localhost:8080/",
          "height": 131
        }
      },
      "cell_type": "code",
      "source": [
        "resultados[datos][resultados.monthly_sharpe>.9]"
      ],
      "execution_count": 38,
      "outputs": [
        {
          "output_type": "execute_result",
          "data": {
            "text/html": [
              "<div>\n",
              "<style scoped>\n",
              "    .dataframe tbody tr th:only-of-type {\n",
              "        vertical-align: middle;\n",
              "    }\n",
              "\n",
              "    .dataframe tbody tr th {\n",
              "        vertical-align: top;\n",
              "    }\n",
              "\n",
              "    .dataframe thead th {\n",
              "        text-align: right;\n",
              "    }\n",
              "</style>\n",
              "<table border=\"1\" class=\"dataframe\">\n",
              "  <thead>\n",
              "    <tr style=\"text-align: right;\">\n",
              "      <th></th>\n",
              "      <th>total_return</th>\n",
              "      <th>cagr</th>\n",
              "      <th>max_drawdown</th>\n",
              "      <th>calmar</th>\n",
              "      <th>daily_sharpe</th>\n",
              "      <th>daily_sortino</th>\n",
              "      <th>monthly_sharpe</th>\n",
              "      <th>monthly_sortino</th>\n",
              "      <th>best_month</th>\n",
              "      <th>worst_month</th>\n",
              "      <th>yearly_sharpe</th>\n",
              "      <th>best_year</th>\n",
              "      <th>worst_year</th>\n",
              "      <th>avg_drawdown</th>\n",
              "      <th>avg_drawdown_days</th>\n",
              "      <th>avg_up_month</th>\n",
              "      <th>avg_down_month</th>\n",
              "      <th>win_year_perc</th>\n",
              "      <th>twelve_month_win_perc</th>\n",
              "    </tr>\n",
              "  </thead>\n",
              "  <tbody>\n",
              "    <tr>\n",
              "      <th>serie_res_220d220p</th>\n",
              "      <td>3.35504</td>\n",
              "      <td>0.146735</td>\n",
              "      <td>-0.269435</td>\n",
              "      <td>0.544601</td>\n",
              "      <td>0.73387</td>\n",
              "      <td>1.2737</td>\n",
              "      <td>0.907405</td>\n",
              "      <td>2.13489</td>\n",
              "      <td>0.220144</td>\n",
              "      <td>-0.0759599</td>\n",
              "      <td>0.627534</td>\n",
              "      <td>0.850562</td>\n",
              "      <td>-0.124111</td>\n",
              "      <td>-0.0423925</td>\n",
              "      <td>35.1818</td>\n",
              "      <td>0.0477566</td>\n",
              "      <td>-0.0230689</td>\n",
              "      <td>0.7</td>\n",
              "      <td>0.680672</td>\n",
              "    </tr>\n",
              "    <tr>\n",
              "      <th>serie_res_40d220p</th>\n",
              "      <td>4.58973</td>\n",
              "      <td>0.173681</td>\n",
              "      <td>-0.240975</td>\n",
              "      <td>0.720744</td>\n",
              "      <td>0.809853</td>\n",
              "      <td>1.36545</td>\n",
              "      <td>1.02509</td>\n",
              "      <td>2.19711</td>\n",
              "      <td>0.220144</td>\n",
              "      <td>-0.108229</td>\n",
              "      <td>0.849472</td>\n",
              "      <td>0.850562</td>\n",
              "      <td>0.0270648</td>\n",
              "      <td>-0.0450746</td>\n",
              "      <td>30.1667</td>\n",
              "      <td>0.046911</td>\n",
              "      <td>-0.0236507</td>\n",
              "      <td>1</td>\n",
              "      <td>0.823529</td>\n",
              "    </tr>\n",
              "  </tbody>\n",
              "</table>\n",
              "</div>"
            ],
            "text/plain": [
              "                   total_return      cagr max_drawdown    calmar daily_sharpe  \\\n",
              "serie_res_220d220p      3.35504  0.146735    -0.269435  0.544601      0.73387   \n",
              "serie_res_40d220p       4.58973  0.173681    -0.240975  0.720744     0.809853   \n",
              "\n",
              "                   daily_sortino monthly_sharpe monthly_sortino best_month  \\\n",
              "serie_res_220d220p        1.2737       0.907405         2.13489   0.220144   \n",
              "serie_res_40d220p        1.36545        1.02509         2.19711   0.220144   \n",
              "\n",
              "                   worst_month yearly_sharpe best_year worst_year  \\\n",
              "serie_res_220d220p  -0.0759599      0.627534  0.850562  -0.124111   \n",
              "serie_res_40d220p    -0.108229      0.849472  0.850562  0.0270648   \n",
              "\n",
              "                   avg_drawdown avg_drawdown_days avg_up_month avg_down_month  \\\n",
              "serie_res_220d220p   -0.0423925           35.1818    0.0477566     -0.0230689   \n",
              "serie_res_40d220p    -0.0450746           30.1667     0.046911     -0.0236507   \n",
              "\n",
              "                   win_year_perc twelve_month_win_perc  \n",
              "serie_res_220d220p           0.7              0.680672  \n",
              "serie_res_40d220p              1              0.823529  "
            ]
          },
          "metadata": {
            "tags": []
          },
          "execution_count": 38
        }
      ]
    },
    {
      "metadata": {
        "id": "oeHZDHGlh-1a",
        "colab_type": "code",
        "outputId": "2b05a4bc-90e4-4282-b9ec-cc1ad6f41d27",
        "colab": {
          "base_uri": "https://localhost:8080/",
          "height": 100
        }
      },
      "cell_type": "code",
      "source": [
        "resultados[datos][resultados.twelve_month_win_perc>.8]"
      ],
      "execution_count": 39,
      "outputs": [
        {
          "output_type": "execute_result",
          "data": {
            "text/html": [
              "<div>\n",
              "<style scoped>\n",
              "    .dataframe tbody tr th:only-of-type {\n",
              "        vertical-align: middle;\n",
              "    }\n",
              "\n",
              "    .dataframe tbody tr th {\n",
              "        vertical-align: top;\n",
              "    }\n",
              "\n",
              "    .dataframe thead th {\n",
              "        text-align: right;\n",
              "    }\n",
              "</style>\n",
              "<table border=\"1\" class=\"dataframe\">\n",
              "  <thead>\n",
              "    <tr style=\"text-align: right;\">\n",
              "      <th></th>\n",
              "      <th>total_return</th>\n",
              "      <th>cagr</th>\n",
              "      <th>max_drawdown</th>\n",
              "      <th>calmar</th>\n",
              "      <th>daily_sharpe</th>\n",
              "      <th>daily_sortino</th>\n",
              "      <th>monthly_sharpe</th>\n",
              "      <th>monthly_sortino</th>\n",
              "      <th>best_month</th>\n",
              "      <th>worst_month</th>\n",
              "      <th>yearly_sharpe</th>\n",
              "      <th>best_year</th>\n",
              "      <th>worst_year</th>\n",
              "      <th>avg_drawdown</th>\n",
              "      <th>avg_drawdown_days</th>\n",
              "      <th>avg_up_month</th>\n",
              "      <th>avg_down_month</th>\n",
              "      <th>win_year_perc</th>\n",
              "      <th>twelve_month_win_perc</th>\n",
              "    </tr>\n",
              "  </thead>\n",
              "  <tbody>\n",
              "    <tr>\n",
              "      <th>serie_res_40d220p</th>\n",
              "      <td>4.58973</td>\n",
              "      <td>0.173681</td>\n",
              "      <td>-0.240975</td>\n",
              "      <td>0.720744</td>\n",
              "      <td>0.809853</td>\n",
              "      <td>1.36545</td>\n",
              "      <td>1.02509</td>\n",
              "      <td>2.19711</td>\n",
              "      <td>0.220144</td>\n",
              "      <td>-0.108229</td>\n",
              "      <td>0.849472</td>\n",
              "      <td>0.850562</td>\n",
              "      <td>0.0270648</td>\n",
              "      <td>-0.0450746</td>\n",
              "      <td>30.1667</td>\n",
              "      <td>0.046911</td>\n",
              "      <td>-0.0236507</td>\n",
              "      <td>1</td>\n",
              "      <td>0.823529</td>\n",
              "    </tr>\n",
              "  </tbody>\n",
              "</table>\n",
              "</div>"
            ],
            "text/plain": [
              "                  total_return      cagr max_drawdown    calmar daily_sharpe  \\\n",
              "serie_res_40d220p      4.58973  0.173681    -0.240975  0.720744     0.809853   \n",
              "\n",
              "                  daily_sortino monthly_sharpe monthly_sortino best_month  \\\n",
              "serie_res_40d220p       1.36545        1.02509         2.19711   0.220144   \n",
              "\n",
              "                  worst_month yearly_sharpe best_year worst_year avg_drawdown  \\\n",
              "serie_res_40d220p   -0.108229      0.849472  0.850562  0.0270648   -0.0450746   \n",
              "\n",
              "                  avg_drawdown_days avg_up_month avg_down_month win_year_perc  \\\n",
              "serie_res_40d220p           30.1667     0.046911     -0.0236507             1   \n",
              "\n",
              "                  twelve_month_win_perc  \n",
              "serie_res_40d220p              0.823529  "
            ]
          },
          "metadata": {
            "tags": []
          },
          "execution_count": 39
        }
      ]
    },
    {
      "metadata": {
        "id": "heHFBR0BDmz0",
        "colab_type": "code",
        "colab": {}
      },
      "cell_type": "code",
      "source": [
        ""
      ],
      "execution_count": 0,
      "outputs": []
    },
    {
      "metadata": {
        "id": "b6wJMoIOiUHt",
        "colab_type": "code",
        "outputId": "11c7b14e-0b00-4c47-8c05-ada21a5a7b5a",
        "colab": {
          "base_uri": "https://localhost:8080/",
          "height": 100
        }
      },
      "cell_type": "code",
      "source": [
        "\n",
        "resultados[datos][resultados.win_year_perc==1]"
      ],
      "execution_count": 40,
      "outputs": [
        {
          "output_type": "execute_result",
          "data": {
            "text/html": [
              "<div>\n",
              "<style scoped>\n",
              "    .dataframe tbody tr th:only-of-type {\n",
              "        vertical-align: middle;\n",
              "    }\n",
              "\n",
              "    .dataframe tbody tr th {\n",
              "        vertical-align: top;\n",
              "    }\n",
              "\n",
              "    .dataframe thead th {\n",
              "        text-align: right;\n",
              "    }\n",
              "</style>\n",
              "<table border=\"1\" class=\"dataframe\">\n",
              "  <thead>\n",
              "    <tr style=\"text-align: right;\">\n",
              "      <th></th>\n",
              "      <th>total_return</th>\n",
              "      <th>cagr</th>\n",
              "      <th>max_drawdown</th>\n",
              "      <th>calmar</th>\n",
              "      <th>daily_sharpe</th>\n",
              "      <th>daily_sortino</th>\n",
              "      <th>monthly_sharpe</th>\n",
              "      <th>monthly_sortino</th>\n",
              "      <th>best_month</th>\n",
              "      <th>worst_month</th>\n",
              "      <th>yearly_sharpe</th>\n",
              "      <th>best_year</th>\n",
              "      <th>worst_year</th>\n",
              "      <th>avg_drawdown</th>\n",
              "      <th>avg_drawdown_days</th>\n",
              "      <th>avg_up_month</th>\n",
              "      <th>avg_down_month</th>\n",
              "      <th>win_year_perc</th>\n",
              "      <th>twelve_month_win_perc</th>\n",
              "    </tr>\n",
              "  </thead>\n",
              "  <tbody>\n",
              "    <tr>\n",
              "      <th>serie_res_40d220p</th>\n",
              "      <td>4.58973</td>\n",
              "      <td>0.173681</td>\n",
              "      <td>-0.240975</td>\n",
              "      <td>0.720744</td>\n",
              "      <td>0.809853</td>\n",
              "      <td>1.36545</td>\n",
              "      <td>1.02509</td>\n",
              "      <td>2.19711</td>\n",
              "      <td>0.220144</td>\n",
              "      <td>-0.108229</td>\n",
              "      <td>0.849472</td>\n",
              "      <td>0.850562</td>\n",
              "      <td>0.0270648</td>\n",
              "      <td>-0.0450746</td>\n",
              "      <td>30.1667</td>\n",
              "      <td>0.046911</td>\n",
              "      <td>-0.0236507</td>\n",
              "      <td>1</td>\n",
              "      <td>0.823529</td>\n",
              "    </tr>\n",
              "  </tbody>\n",
              "</table>\n",
              "</div>"
            ],
            "text/plain": [
              "                  total_return      cagr max_drawdown    calmar daily_sharpe  \\\n",
              "serie_res_40d220p      4.58973  0.173681    -0.240975  0.720744     0.809853   \n",
              "\n",
              "                  daily_sortino monthly_sharpe monthly_sortino best_month  \\\n",
              "serie_res_40d220p       1.36545        1.02509         2.19711   0.220144   \n",
              "\n",
              "                  worst_month yearly_sharpe best_year worst_year avg_drawdown  \\\n",
              "serie_res_40d220p   -0.108229      0.849472  0.850562  0.0270648   -0.0450746   \n",
              "\n",
              "                  avg_drawdown_days avg_up_month avg_down_month win_year_perc  \\\n",
              "serie_res_40d220p           30.1667     0.046911     -0.0236507             1   \n",
              "\n",
              "                  twelve_month_win_perc  \n",
              "serie_res_40d220p              0.823529  "
            ]
          },
          "metadata": {
            "tags": []
          },
          "execution_count": 40
        }
      ]
    },
    {
      "metadata": {
        "id": "oiAyVb_I_ZdS",
        "colab_type": "code",
        "outputId": "08dcc684-9013-4043-ca4e-0c6437008396",
        "colab": {
          "base_uri": "https://localhost:8080/",
          "height": 54
        }
      },
      "cell_type": "code",
      "source": [
        "\"\"\"\n",
        "cum_daily_return['res_5d60p']=0\n",
        "cum_daily_return['res_5d60p']=np.where(cum_daily_return['resultado_60d60p'].shift()=='AMZN_l60',cum_daily_return['p_AMZN_l60'],cum_daily_return['res_5d60p'])\n",
        "cum_daily_return['res_5d60p']=np.where(cum_daily_return['resultado_60d60p'].shift()=='F_l60',cum_daily_return['p_F_l60'],cum_daily_return['res_5d60p'])\n",
        "cum_daily_return['res_5d60p']=np.where(cum_daily_return['resultado_60d60p'].shift()=='GOOG_l60',cum_daily_return['p_GOOG_l60'],cum_daily_return['res_5d60p'])\n",
        "cum_daily_return['res_5d60p']=np.where(cum_daily_return['resultado_60d60p'].shift()=='AAPL_l60',cum_daily_return['p_AAPL_l60'],cum_daily_return['res_5d60p'])\n",
        "cum_daily_return['res_5d60p']=np.where(cum_daily_return['resultado_60d60p'].shift()=='KMI_l60',cum_daily_return['p_KMI_l60'],cum_daily_return['res_5d60p'])\n",
        "\"\"\""
      ],
      "execution_count": 41,
      "outputs": [
        {
          "output_type": "execute_result",
          "data": {
            "text/plain": [
              "\"\\ncum_daily_return['res_5d60p']=0\\ncum_daily_return['res_5d60p']=np.where(cum_daily_return['resultado_60d60p'].shift()=='AMZN_l60',cum_daily_return['p_AMZN_l60'],cum_daily_return['res_5d60p'])\\ncum_daily_return['res_5d60p']=np.where(cum_daily_return['resultado_60d60p'].shift()=='F_l60',cum_daily_return['p_F_l60'],cum_daily_return['res_5d60p'])\\ncum_daily_return['res_5d60p']=np.where(cum_daily_return['resultado_60d60p'].shift()=='GOOG_l60',cum_daily_return['p_GOOG_l60'],cum_daily_return['res_5d60p'])\\ncum_daily_return['res_5d60p']=np.where(cum_daily_return['resultado_60d60p'].shift()=='AAPL_l60',cum_daily_return['p_AAPL_l60'],cum_daily_return['res_5d60p'])\\ncum_daily_return['res_5d60p']=np.where(cum_daily_return['resultado_60d60p'].shift()=='KMI_l60',cum_daily_return['p_KMI_l60'],cum_daily_return['res_5d60p'])\\n\""
            ]
          },
          "metadata": {
            "tags": []
          },
          "execution_count": 41
        }
      ]
    },
    {
      "metadata": {
        "id": "xlPPu7ijgHLq",
        "colab_type": "code",
        "colab": {}
      },
      "cell_type": "code",
      "source": [
        ""
      ],
      "execution_count": 0,
      "outputs": []
    },
    {
      "metadata": {
        "id": "SN_gn4B3CvoO",
        "colab_type": "code",
        "colab": {}
      },
      "cell_type": "code",
      "source": [
        ""
      ],
      "execution_count": 0,
      "outputs": []
    },
    {
      "metadata": {
        "id": "oFfvHUppDd_T",
        "colab_type": "code",
        "colab": {}
      },
      "cell_type": "code",
      "source": [
        "seleccion = [x for x in resultados[datos][resultados.monthly_sharpe>.9].T]"
      ],
      "execution_count": 0,
      "outputs": []
    },
    {
      "metadata": {
        "id": "26k01bg1syOq",
        "colab_type": "code",
        "colab": {
          "base_uri": "https://localhost:8080/",
          "height": 34
        },
        "outputId": "03920e61-7863-4a13-93b0-d4c164df4005"
      },
      "cell_type": "code",
      "source": [
        "print (seleccion)"
      ],
      "execution_count": 43,
      "outputs": [
        {
          "output_type": "stream",
          "text": [
            "['serie_res_220d220p', 'serie_res_40d220p']\n"
          ],
          "name": "stdout"
        }
      ]
    },
    {
      "metadata": {
        "id": "oN1aFnsLtTTI",
        "colab_type": "code",
        "colab": {}
      },
      "cell_type": "code",
      "source": [
        "#1.- calculamos los retoenos en log\n",
        "\n",
        "cum_diario_log_retornos = pd.DataFrame()  \n",
        "for stock in seleccion:     \n",
        "\n",
        "    nombre='{}_l'.format(stock)\n",
        "    cum_diario_log_retornos[nombre] =    np.log(cum_daily_return[stock]/cum_daily_return[stock].shift(1))\n"
      ],
      "execution_count": 0,
      "outputs": []
    },
    {
      "metadata": {
        "id": "6OEemcSkuZYN",
        "colab_type": "code",
        "colab": {
          "base_uri": "https://localhost:8080/",
          "height": 235
        },
        "outputId": "3682bb34-70f2-4e23-f59d-5e408a8811e4"
      },
      "cell_type": "code",
      "source": [
        "cum_diario_log_retornos.head()\n"
      ],
      "execution_count": 45,
      "outputs": [
        {
          "output_type": "execute_result",
          "data": {
            "text/html": [
              "<div>\n",
              "<style scoped>\n",
              "    .dataframe tbody tr th:only-of-type {\n",
              "        vertical-align: middle;\n",
              "    }\n",
              "\n",
              "    .dataframe tbody tr th {\n",
              "        vertical-align: top;\n",
              "    }\n",
              "\n",
              "    .dataframe thead th {\n",
              "        text-align: right;\n",
              "    }\n",
              "</style>\n",
              "<table border=\"1\" class=\"dataframe\">\n",
              "  <thead>\n",
              "    <tr style=\"text-align: right;\">\n",
              "      <th></th>\n",
              "      <th>serie_res_220d220p_l</th>\n",
              "      <th>serie_res_40d220p_l</th>\n",
              "    </tr>\n",
              "    <tr>\n",
              "      <th>Date</th>\n",
              "      <th></th>\n",
              "      <th></th>\n",
              "    </tr>\n",
              "  </thead>\n",
              "  <tbody>\n",
              "    <tr>\n",
              "      <th>2008-01-02</th>\n",
              "      <td>NaN</td>\n",
              "      <td>NaN</td>\n",
              "    </tr>\n",
              "    <tr>\n",
              "      <th>2008-01-03</th>\n",
              "      <td>0.0</td>\n",
              "      <td>0.0</td>\n",
              "    </tr>\n",
              "    <tr>\n",
              "      <th>2008-01-04</th>\n",
              "      <td>0.0</td>\n",
              "      <td>0.0</td>\n",
              "    </tr>\n",
              "    <tr>\n",
              "      <th>2008-01-07</th>\n",
              "      <td>0.0</td>\n",
              "      <td>0.0</td>\n",
              "    </tr>\n",
              "    <tr>\n",
              "      <th>2008-01-08</th>\n",
              "      <td>0.0</td>\n",
              "      <td>0.0</td>\n",
              "    </tr>\n",
              "  </tbody>\n",
              "</table>\n",
              "</div>"
            ],
            "text/plain": [
              "            serie_res_220d220p_l  serie_res_40d220p_l\n",
              "Date                                                 \n",
              "2008-01-02                   NaN                  NaN\n",
              "2008-01-03                   0.0                  0.0\n",
              "2008-01-04                   0.0                  0.0\n",
              "2008-01-07                   0.0                  0.0\n",
              "2008-01-08                   0.0                  0.0"
            ]
          },
          "metadata": {
            "tags": []
          },
          "execution_count": 45
        }
      ]
    },
    {
      "metadata": {
        "id": "HBVvbymdzgef",
        "colab_type": "code",
        "colab": {
          "base_uri": "https://localhost:8080/",
          "height": 71
        },
        "outputId": "5793de2f-bf6c-4706-c908-18b4146a0f80"
      },
      "cell_type": "code",
      "source": [
        "cum_diario=cum_daily_return[seleccion]\n",
        "resultados= []\n",
        "for periodo in periodos:\n",
        "    nombre='suma_{}p'.format(periodo)\n",
        "    resultados.append(nombre)\n",
        "    cum_daily_return[nombre]=cum_daily_return[seleccion].pct_change(periodo).apply(lambda x: x.argmax(), axis=1)\n",
        "    #hay que poner el pct_change"
      ],
      "execution_count": 46,
      "outputs": [
        {
          "output_type": "stream",
          "text": [
            "/usr/local/lib/python3.6/dist-packages/ipykernel_launcher.py:6: FutureWarning: 'argmax' is deprecated. Use 'idxmax' instead. The behavior of 'argmax' will be corrected to return the positional maximum in the future. Use 'series.values.argmax' to get the position of the maximum now.\n",
            "  \n"
          ],
          "name": "stderr"
        }
      ]
    },
    {
      "metadata": {
        "id": "0I2W5XDqz67T",
        "colab_type": "code",
        "colab": {
          "base_uri": "https://localhost:8080/",
          "height": 3020
        },
        "outputId": "766f155f-173c-4efe-933d-2b22cb46a386"
      },
      "cell_type": "code",
      "source": [
        "cum_daily_return[resultados]"
      ],
      "execution_count": 47,
      "outputs": [
        {
          "output_type": "execute_result",
          "data": {
            "text/html": [
              "<div>\n",
              "<style scoped>\n",
              "    .dataframe tbody tr th:only-of-type {\n",
              "        vertical-align: middle;\n",
              "    }\n",
              "\n",
              "    .dataframe tbody tr th {\n",
              "        vertical-align: top;\n",
              "    }\n",
              "\n",
              "    .dataframe thead th {\n",
              "        text-align: right;\n",
              "    }\n",
              "</style>\n",
              "<table border=\"1\" class=\"dataframe\">\n",
              "  <thead>\n",
              "    <tr style=\"text-align: right;\">\n",
              "      <th></th>\n",
              "      <th>suma_5p</th>\n",
              "      <th>suma_10p</th>\n",
              "      <th>suma_20p</th>\n",
              "      <th>suma_40p</th>\n",
              "      <th>suma_60p</th>\n",
              "      <th>suma_110p</th>\n",
              "      <th>suma_220p</th>\n",
              "    </tr>\n",
              "    <tr>\n",
              "      <th>Date</th>\n",
              "      <th></th>\n",
              "      <th></th>\n",
              "      <th></th>\n",
              "      <th></th>\n",
              "      <th></th>\n",
              "      <th></th>\n",
              "      <th></th>\n",
              "    </tr>\n",
              "  </thead>\n",
              "  <tbody>\n",
              "    <tr>\n",
              "      <th>2008-01-02</th>\n",
              "      <td>NaN</td>\n",
              "      <td>NaN</td>\n",
              "      <td>NaN</td>\n",
              "      <td>NaN</td>\n",
              "      <td>NaN</td>\n",
              "      <td>NaN</td>\n",
              "      <td>NaN</td>\n",
              "    </tr>\n",
              "    <tr>\n",
              "      <th>2008-01-03</th>\n",
              "      <td>NaN</td>\n",
              "      <td>NaN</td>\n",
              "      <td>NaN</td>\n",
              "      <td>NaN</td>\n",
              "      <td>NaN</td>\n",
              "      <td>NaN</td>\n",
              "      <td>NaN</td>\n",
              "    </tr>\n",
              "    <tr>\n",
              "      <th>2008-01-04</th>\n",
              "      <td>NaN</td>\n",
              "      <td>NaN</td>\n",
              "      <td>NaN</td>\n",
              "      <td>NaN</td>\n",
              "      <td>NaN</td>\n",
              "      <td>NaN</td>\n",
              "      <td>NaN</td>\n",
              "    </tr>\n",
              "    <tr>\n",
              "      <th>2008-01-07</th>\n",
              "      <td>NaN</td>\n",
              "      <td>NaN</td>\n",
              "      <td>NaN</td>\n",
              "      <td>NaN</td>\n",
              "      <td>NaN</td>\n",
              "      <td>NaN</td>\n",
              "      <td>NaN</td>\n",
              "    </tr>\n",
              "    <tr>\n",
              "      <th>2008-01-08</th>\n",
              "      <td>NaN</td>\n",
              "      <td>NaN</td>\n",
              "      <td>NaN</td>\n",
              "      <td>NaN</td>\n",
              "      <td>NaN</td>\n",
              "      <td>NaN</td>\n",
              "      <td>NaN</td>\n",
              "    </tr>\n",
              "    <tr>\n",
              "      <th>2008-01-09</th>\n",
              "      <td>serie_res_220d220p</td>\n",
              "      <td>NaN</td>\n",
              "      <td>NaN</td>\n",
              "      <td>NaN</td>\n",
              "      <td>NaN</td>\n",
              "      <td>NaN</td>\n",
              "      <td>NaN</td>\n",
              "    </tr>\n",
              "    <tr>\n",
              "      <th>2008-01-10</th>\n",
              "      <td>serie_res_220d220p</td>\n",
              "      <td>NaN</td>\n",
              "      <td>NaN</td>\n",
              "      <td>NaN</td>\n",
              "      <td>NaN</td>\n",
              "      <td>NaN</td>\n",
              "      <td>NaN</td>\n",
              "    </tr>\n",
              "    <tr>\n",
              "      <th>2008-01-11</th>\n",
              "      <td>serie_res_220d220p</td>\n",
              "      <td>NaN</td>\n",
              "      <td>NaN</td>\n",
              "      <td>NaN</td>\n",
              "      <td>NaN</td>\n",
              "      <td>NaN</td>\n",
              "      <td>NaN</td>\n",
              "    </tr>\n",
              "    <tr>\n",
              "      <th>2008-01-14</th>\n",
              "      <td>serie_res_220d220p</td>\n",
              "      <td>NaN</td>\n",
              "      <td>NaN</td>\n",
              "      <td>NaN</td>\n",
              "      <td>NaN</td>\n",
              "      <td>NaN</td>\n",
              "      <td>NaN</td>\n",
              "    </tr>\n",
              "    <tr>\n",
              "      <th>2008-01-15</th>\n",
              "      <td>serie_res_220d220p</td>\n",
              "      <td>NaN</td>\n",
              "      <td>NaN</td>\n",
              "      <td>NaN</td>\n",
              "      <td>NaN</td>\n",
              "      <td>NaN</td>\n",
              "      <td>NaN</td>\n",
              "    </tr>\n",
              "    <tr>\n",
              "      <th>2008-01-16</th>\n",
              "      <td>serie_res_220d220p</td>\n",
              "      <td>serie_res_220d220p</td>\n",
              "      <td>NaN</td>\n",
              "      <td>NaN</td>\n",
              "      <td>NaN</td>\n",
              "      <td>NaN</td>\n",
              "      <td>NaN</td>\n",
              "    </tr>\n",
              "    <tr>\n",
              "      <th>2008-01-17</th>\n",
              "      <td>serie_res_220d220p</td>\n",
              "      <td>serie_res_220d220p</td>\n",
              "      <td>NaN</td>\n",
              "      <td>NaN</td>\n",
              "      <td>NaN</td>\n",
              "      <td>NaN</td>\n",
              "      <td>NaN</td>\n",
              "    </tr>\n",
              "    <tr>\n",
              "      <th>2008-01-18</th>\n",
              "      <td>serie_res_220d220p</td>\n",
              "      <td>serie_res_220d220p</td>\n",
              "      <td>NaN</td>\n",
              "      <td>NaN</td>\n",
              "      <td>NaN</td>\n",
              "      <td>NaN</td>\n",
              "      <td>NaN</td>\n",
              "    </tr>\n",
              "    <tr>\n",
              "      <th>2008-01-21</th>\n",
              "      <td>serie_res_220d220p</td>\n",
              "      <td>serie_res_220d220p</td>\n",
              "      <td>NaN</td>\n",
              "      <td>NaN</td>\n",
              "      <td>NaN</td>\n",
              "      <td>NaN</td>\n",
              "      <td>NaN</td>\n",
              "    </tr>\n",
              "    <tr>\n",
              "      <th>2008-01-22</th>\n",
              "      <td>serie_res_220d220p</td>\n",
              "      <td>serie_res_220d220p</td>\n",
              "      <td>NaN</td>\n",
              "      <td>NaN</td>\n",
              "      <td>NaN</td>\n",
              "      <td>NaN</td>\n",
              "      <td>NaN</td>\n",
              "    </tr>\n",
              "    <tr>\n",
              "      <th>2008-01-23</th>\n",
              "      <td>serie_res_220d220p</td>\n",
              "      <td>serie_res_220d220p</td>\n",
              "      <td>NaN</td>\n",
              "      <td>NaN</td>\n",
              "      <td>NaN</td>\n",
              "      <td>NaN</td>\n",
              "      <td>NaN</td>\n",
              "    </tr>\n",
              "    <tr>\n",
              "      <th>2008-01-24</th>\n",
              "      <td>serie_res_220d220p</td>\n",
              "      <td>serie_res_220d220p</td>\n",
              "      <td>NaN</td>\n",
              "      <td>NaN</td>\n",
              "      <td>NaN</td>\n",
              "      <td>NaN</td>\n",
              "      <td>NaN</td>\n",
              "    </tr>\n",
              "    <tr>\n",
              "      <th>2008-01-25</th>\n",
              "      <td>serie_res_220d220p</td>\n",
              "      <td>serie_res_220d220p</td>\n",
              "      <td>NaN</td>\n",
              "      <td>NaN</td>\n",
              "      <td>NaN</td>\n",
              "      <td>NaN</td>\n",
              "      <td>NaN</td>\n",
              "    </tr>\n",
              "    <tr>\n",
              "      <th>2008-01-28</th>\n",
              "      <td>serie_res_220d220p</td>\n",
              "      <td>serie_res_220d220p</td>\n",
              "      <td>NaN</td>\n",
              "      <td>NaN</td>\n",
              "      <td>NaN</td>\n",
              "      <td>NaN</td>\n",
              "      <td>NaN</td>\n",
              "    </tr>\n",
              "    <tr>\n",
              "      <th>2008-01-29</th>\n",
              "      <td>serie_res_220d220p</td>\n",
              "      <td>serie_res_220d220p</td>\n",
              "      <td>NaN</td>\n",
              "      <td>NaN</td>\n",
              "      <td>NaN</td>\n",
              "      <td>NaN</td>\n",
              "      <td>NaN</td>\n",
              "    </tr>\n",
              "    <tr>\n",
              "      <th>2008-01-30</th>\n",
              "      <td>serie_res_220d220p</td>\n",
              "      <td>serie_res_220d220p</td>\n",
              "      <td>serie_res_220d220p</td>\n",
              "      <td>NaN</td>\n",
              "      <td>NaN</td>\n",
              "      <td>NaN</td>\n",
              "      <td>NaN</td>\n",
              "    </tr>\n",
              "    <tr>\n",
              "      <th>2008-01-31</th>\n",
              "      <td>serie_res_220d220p</td>\n",
              "      <td>serie_res_220d220p</td>\n",
              "      <td>serie_res_220d220p</td>\n",
              "      <td>NaN</td>\n",
              "      <td>NaN</td>\n",
              "      <td>NaN</td>\n",
              "      <td>NaN</td>\n",
              "    </tr>\n",
              "    <tr>\n",
              "      <th>2008-02-01</th>\n",
              "      <td>serie_res_220d220p</td>\n",
              "      <td>serie_res_220d220p</td>\n",
              "      <td>serie_res_220d220p</td>\n",
              "      <td>NaN</td>\n",
              "      <td>NaN</td>\n",
              "      <td>NaN</td>\n",
              "      <td>NaN</td>\n",
              "    </tr>\n",
              "    <tr>\n",
              "      <th>2008-02-04</th>\n",
              "      <td>serie_res_220d220p</td>\n",
              "      <td>serie_res_220d220p</td>\n",
              "      <td>serie_res_220d220p</td>\n",
              "      <td>NaN</td>\n",
              "      <td>NaN</td>\n",
              "      <td>NaN</td>\n",
              "      <td>NaN</td>\n",
              "    </tr>\n",
              "    <tr>\n",
              "      <th>2008-02-05</th>\n",
              "      <td>serie_res_220d220p</td>\n",
              "      <td>serie_res_220d220p</td>\n",
              "      <td>serie_res_220d220p</td>\n",
              "      <td>NaN</td>\n",
              "      <td>NaN</td>\n",
              "      <td>NaN</td>\n",
              "      <td>NaN</td>\n",
              "    </tr>\n",
              "    <tr>\n",
              "      <th>2008-02-06</th>\n",
              "      <td>serie_res_220d220p</td>\n",
              "      <td>serie_res_220d220p</td>\n",
              "      <td>serie_res_220d220p</td>\n",
              "      <td>NaN</td>\n",
              "      <td>NaN</td>\n",
              "      <td>NaN</td>\n",
              "      <td>NaN</td>\n",
              "    </tr>\n",
              "    <tr>\n",
              "      <th>2008-02-07</th>\n",
              "      <td>serie_res_220d220p</td>\n",
              "      <td>serie_res_220d220p</td>\n",
              "      <td>serie_res_220d220p</td>\n",
              "      <td>NaN</td>\n",
              "      <td>NaN</td>\n",
              "      <td>NaN</td>\n",
              "      <td>NaN</td>\n",
              "    </tr>\n",
              "    <tr>\n",
              "      <th>2008-02-08</th>\n",
              "      <td>serie_res_220d220p</td>\n",
              "      <td>serie_res_220d220p</td>\n",
              "      <td>serie_res_220d220p</td>\n",
              "      <td>NaN</td>\n",
              "      <td>NaN</td>\n",
              "      <td>NaN</td>\n",
              "      <td>NaN</td>\n",
              "    </tr>\n",
              "    <tr>\n",
              "      <th>2008-02-11</th>\n",
              "      <td>serie_res_220d220p</td>\n",
              "      <td>serie_res_220d220p</td>\n",
              "      <td>serie_res_220d220p</td>\n",
              "      <td>NaN</td>\n",
              "      <td>NaN</td>\n",
              "      <td>NaN</td>\n",
              "      <td>NaN</td>\n",
              "    </tr>\n",
              "    <tr>\n",
              "      <th>2008-02-12</th>\n",
              "      <td>serie_res_220d220p</td>\n",
              "      <td>serie_res_220d220p</td>\n",
              "      <td>serie_res_220d220p</td>\n",
              "      <td>NaN</td>\n",
              "      <td>NaN</td>\n",
              "      <td>NaN</td>\n",
              "      <td>NaN</td>\n",
              "    </tr>\n",
              "    <tr>\n",
              "      <th>...</th>\n",
              "      <td>...</td>\n",
              "      <td>...</td>\n",
              "      <td>...</td>\n",
              "      <td>...</td>\n",
              "      <td>...</td>\n",
              "      <td>...</td>\n",
              "      <td>...</td>\n",
              "    </tr>\n",
              "    <tr>\n",
              "      <th>2018-08-14</th>\n",
              "      <td>serie_res_40d220p</td>\n",
              "      <td>serie_res_40d220p</td>\n",
              "      <td>serie_res_40d220p</td>\n",
              "      <td>serie_res_40d220p</td>\n",
              "      <td>serie_res_220d220p</td>\n",
              "      <td>serie_res_220d220p</td>\n",
              "      <td>serie_res_220d220p</td>\n",
              "    </tr>\n",
              "    <tr>\n",
              "      <th>2018-08-15</th>\n",
              "      <td>serie_res_40d220p</td>\n",
              "      <td>serie_res_40d220p</td>\n",
              "      <td>serie_res_40d220p</td>\n",
              "      <td>serie_res_40d220p</td>\n",
              "      <td>serie_res_40d220p</td>\n",
              "      <td>serie_res_220d220p</td>\n",
              "      <td>serie_res_40d220p</td>\n",
              "    </tr>\n",
              "    <tr>\n",
              "      <th>2018-08-16</th>\n",
              "      <td>serie_res_40d220p</td>\n",
              "      <td>serie_res_40d220p</td>\n",
              "      <td>serie_res_40d220p</td>\n",
              "      <td>serie_res_220d220p</td>\n",
              "      <td>serie_res_220d220p</td>\n",
              "      <td>serie_res_220d220p</td>\n",
              "      <td>serie_res_40d220p</td>\n",
              "    </tr>\n",
              "    <tr>\n",
              "      <th>2018-08-17</th>\n",
              "      <td>serie_res_40d220p</td>\n",
              "      <td>serie_res_40d220p</td>\n",
              "      <td>serie_res_40d220p</td>\n",
              "      <td>serie_res_40d220p</td>\n",
              "      <td>serie_res_220d220p</td>\n",
              "      <td>serie_res_220d220p</td>\n",
              "      <td>serie_res_40d220p</td>\n",
              "    </tr>\n",
              "    <tr>\n",
              "      <th>2018-08-20</th>\n",
              "      <td>serie_res_40d220p</td>\n",
              "      <td>serie_res_40d220p</td>\n",
              "      <td>serie_res_40d220p</td>\n",
              "      <td>serie_res_40d220p</td>\n",
              "      <td>serie_res_220d220p</td>\n",
              "      <td>serie_res_220d220p</td>\n",
              "      <td>serie_res_220d220p</td>\n",
              "    </tr>\n",
              "    <tr>\n",
              "      <th>2018-08-21</th>\n",
              "      <td>serie_res_40d220p</td>\n",
              "      <td>serie_res_40d220p</td>\n",
              "      <td>serie_res_40d220p</td>\n",
              "      <td>serie_res_40d220p</td>\n",
              "      <td>serie_res_220d220p</td>\n",
              "      <td>serie_res_220d220p</td>\n",
              "      <td>serie_res_220d220p</td>\n",
              "    </tr>\n",
              "    <tr>\n",
              "      <th>2018-08-22</th>\n",
              "      <td>serie_res_220d220p</td>\n",
              "      <td>serie_res_40d220p</td>\n",
              "      <td>serie_res_40d220p</td>\n",
              "      <td>serie_res_40d220p</td>\n",
              "      <td>serie_res_220d220p</td>\n",
              "      <td>serie_res_220d220p</td>\n",
              "      <td>serie_res_220d220p</td>\n",
              "    </tr>\n",
              "    <tr>\n",
              "      <th>2018-08-23</th>\n",
              "      <td>serie_res_220d220p</td>\n",
              "      <td>serie_res_40d220p</td>\n",
              "      <td>serie_res_40d220p</td>\n",
              "      <td>serie_res_40d220p</td>\n",
              "      <td>serie_res_220d220p</td>\n",
              "      <td>serie_res_220d220p</td>\n",
              "      <td>serie_res_220d220p</td>\n",
              "    </tr>\n",
              "    <tr>\n",
              "      <th>2018-08-24</th>\n",
              "      <td>serie_res_220d220p</td>\n",
              "      <td>serie_res_40d220p</td>\n",
              "      <td>serie_res_40d220p</td>\n",
              "      <td>serie_res_40d220p</td>\n",
              "      <td>serie_res_220d220p</td>\n",
              "      <td>serie_res_220d220p</td>\n",
              "      <td>serie_res_220d220p</td>\n",
              "    </tr>\n",
              "    <tr>\n",
              "      <th>2018-08-27</th>\n",
              "      <td>serie_res_220d220p</td>\n",
              "      <td>serie_res_40d220p</td>\n",
              "      <td>serie_res_40d220p</td>\n",
              "      <td>serie_res_40d220p</td>\n",
              "      <td>serie_res_220d220p</td>\n",
              "      <td>serie_res_220d220p</td>\n",
              "      <td>serie_res_220d220p</td>\n",
              "    </tr>\n",
              "    <tr>\n",
              "      <th>2018-08-28</th>\n",
              "      <td>serie_res_220d220p</td>\n",
              "      <td>serie_res_220d220p</td>\n",
              "      <td>serie_res_40d220p</td>\n",
              "      <td>serie_res_40d220p</td>\n",
              "      <td>serie_res_220d220p</td>\n",
              "      <td>serie_res_220d220p</td>\n",
              "      <td>serie_res_220d220p</td>\n",
              "    </tr>\n",
              "    <tr>\n",
              "      <th>2018-08-29</th>\n",
              "      <td>serie_res_220d220p</td>\n",
              "      <td>serie_res_220d220p</td>\n",
              "      <td>serie_res_40d220p</td>\n",
              "      <td>serie_res_40d220p</td>\n",
              "      <td>serie_res_220d220p</td>\n",
              "      <td>serie_res_220d220p</td>\n",
              "      <td>serie_res_220d220p</td>\n",
              "    </tr>\n",
              "    <tr>\n",
              "      <th>2018-08-30</th>\n",
              "      <td>serie_res_220d220p</td>\n",
              "      <td>serie_res_220d220p</td>\n",
              "      <td>serie_res_40d220p</td>\n",
              "      <td>serie_res_40d220p</td>\n",
              "      <td>serie_res_40d220p</td>\n",
              "      <td>serie_res_220d220p</td>\n",
              "      <td>serie_res_220d220p</td>\n",
              "    </tr>\n",
              "    <tr>\n",
              "      <th>2018-08-31</th>\n",
              "      <td>serie_res_220d220p</td>\n",
              "      <td>serie_res_220d220p</td>\n",
              "      <td>serie_res_40d220p</td>\n",
              "      <td>serie_res_40d220p</td>\n",
              "      <td>serie_res_40d220p</td>\n",
              "      <td>serie_res_220d220p</td>\n",
              "      <td>serie_res_220d220p</td>\n",
              "    </tr>\n",
              "    <tr>\n",
              "      <th>2018-09-03</th>\n",
              "      <td>serie_res_220d220p</td>\n",
              "      <td>serie_res_220d220p</td>\n",
              "      <td>serie_res_40d220p</td>\n",
              "      <td>serie_res_40d220p</td>\n",
              "      <td>serie_res_40d220p</td>\n",
              "      <td>serie_res_220d220p</td>\n",
              "      <td>serie_res_220d220p</td>\n",
              "    </tr>\n",
              "    <tr>\n",
              "      <th>2018-09-04</th>\n",
              "      <td>serie_res_220d220p</td>\n",
              "      <td>serie_res_220d220p</td>\n",
              "      <td>serie_res_40d220p</td>\n",
              "      <td>serie_res_40d220p</td>\n",
              "      <td>serie_res_40d220p</td>\n",
              "      <td>serie_res_220d220p</td>\n",
              "      <td>serie_res_220d220p</td>\n",
              "    </tr>\n",
              "    <tr>\n",
              "      <th>2018-09-05</th>\n",
              "      <td>serie_res_40d220p</td>\n",
              "      <td>serie_res_220d220p</td>\n",
              "      <td>serie_res_40d220p</td>\n",
              "      <td>serie_res_40d220p</td>\n",
              "      <td>serie_res_40d220p</td>\n",
              "      <td>serie_res_220d220p</td>\n",
              "      <td>serie_res_220d220p</td>\n",
              "    </tr>\n",
              "    <tr>\n",
              "      <th>2018-09-06</th>\n",
              "      <td>serie_res_40d220p</td>\n",
              "      <td>serie_res_40d220p</td>\n",
              "      <td>serie_res_40d220p</td>\n",
              "      <td>serie_res_40d220p</td>\n",
              "      <td>serie_res_40d220p</td>\n",
              "      <td>serie_res_220d220p</td>\n",
              "      <td>serie_res_220d220p</td>\n",
              "    </tr>\n",
              "    <tr>\n",
              "      <th>2018-09-07</th>\n",
              "      <td>serie_res_40d220p</td>\n",
              "      <td>serie_res_40d220p</td>\n",
              "      <td>serie_res_40d220p</td>\n",
              "      <td>serie_res_40d220p</td>\n",
              "      <td>serie_res_40d220p</td>\n",
              "      <td>serie_res_220d220p</td>\n",
              "      <td>serie_res_220d220p</td>\n",
              "    </tr>\n",
              "    <tr>\n",
              "      <th>2018-09-10</th>\n",
              "      <td>serie_res_40d220p</td>\n",
              "      <td>serie_res_40d220p</td>\n",
              "      <td>serie_res_40d220p</td>\n",
              "      <td>serie_res_40d220p</td>\n",
              "      <td>serie_res_40d220p</td>\n",
              "      <td>serie_res_220d220p</td>\n",
              "      <td>serie_res_220d220p</td>\n",
              "    </tr>\n",
              "    <tr>\n",
              "      <th>2018-09-11</th>\n",
              "      <td>serie_res_40d220p</td>\n",
              "      <td>serie_res_220d220p</td>\n",
              "      <td>serie_res_220d220p</td>\n",
              "      <td>serie_res_40d220p</td>\n",
              "      <td>serie_res_220d220p</td>\n",
              "      <td>serie_res_220d220p</td>\n",
              "      <td>serie_res_220d220p</td>\n",
              "    </tr>\n",
              "    <tr>\n",
              "      <th>2018-09-12</th>\n",
              "      <td>serie_res_220d220p</td>\n",
              "      <td>serie_res_220d220p</td>\n",
              "      <td>serie_res_220d220p</td>\n",
              "      <td>serie_res_220d220p</td>\n",
              "      <td>serie_res_220d220p</td>\n",
              "      <td>serie_res_220d220p</td>\n",
              "      <td>serie_res_220d220p</td>\n",
              "    </tr>\n",
              "    <tr>\n",
              "      <th>2018-09-13</th>\n",
              "      <td>serie_res_220d220p</td>\n",
              "      <td>serie_res_220d220p</td>\n",
              "      <td>serie_res_220d220p</td>\n",
              "      <td>serie_res_220d220p</td>\n",
              "      <td>serie_res_220d220p</td>\n",
              "      <td>serie_res_220d220p</td>\n",
              "      <td>serie_res_220d220p</td>\n",
              "    </tr>\n",
              "    <tr>\n",
              "      <th>2018-09-14</th>\n",
              "      <td>serie_res_220d220p</td>\n",
              "      <td>serie_res_220d220p</td>\n",
              "      <td>serie_res_220d220p</td>\n",
              "      <td>serie_res_220d220p</td>\n",
              "      <td>serie_res_220d220p</td>\n",
              "      <td>serie_res_220d220p</td>\n",
              "      <td>serie_res_220d220p</td>\n",
              "    </tr>\n",
              "    <tr>\n",
              "      <th>2018-09-24</th>\n",
              "      <td>serie_res_220d220p</td>\n",
              "      <td>serie_res_220d220p</td>\n",
              "      <td>serie_res_220d220p</td>\n",
              "      <td>serie_res_40d220p</td>\n",
              "      <td>serie_res_220d220p</td>\n",
              "      <td>serie_res_220d220p</td>\n",
              "      <td>serie_res_220d220p</td>\n",
              "    </tr>\n",
              "    <tr>\n",
              "      <th>2018-09-25</th>\n",
              "      <td>serie_res_220d220p</td>\n",
              "      <td>serie_res_220d220p</td>\n",
              "      <td>serie_res_220d220p</td>\n",
              "      <td>serie_res_220d220p</td>\n",
              "      <td>serie_res_220d220p</td>\n",
              "      <td>serie_res_220d220p</td>\n",
              "      <td>serie_res_220d220p</td>\n",
              "    </tr>\n",
              "    <tr>\n",
              "      <th>2018-09-26</th>\n",
              "      <td>serie_res_220d220p</td>\n",
              "      <td>serie_res_220d220p</td>\n",
              "      <td>serie_res_220d220p</td>\n",
              "      <td>serie_res_220d220p</td>\n",
              "      <td>serie_res_220d220p</td>\n",
              "      <td>serie_res_220d220p</td>\n",
              "      <td>serie_res_220d220p</td>\n",
              "    </tr>\n",
              "    <tr>\n",
              "      <th>2018-09-27</th>\n",
              "      <td>serie_res_220d220p</td>\n",
              "      <td>serie_res_220d220p</td>\n",
              "      <td>serie_res_220d220p</td>\n",
              "      <td>serie_res_220d220p</td>\n",
              "      <td>serie_res_220d220p</td>\n",
              "      <td>serie_res_220d220p</td>\n",
              "      <td>serie_res_220d220p</td>\n",
              "    </tr>\n",
              "    <tr>\n",
              "      <th>2018-09-28</th>\n",
              "      <td>serie_res_220d220p</td>\n",
              "      <td>serie_res_220d220p</td>\n",
              "      <td>serie_res_220d220p</td>\n",
              "      <td>serie_res_220d220p</td>\n",
              "      <td>serie_res_220d220p</td>\n",
              "      <td>serie_res_220d220p</td>\n",
              "      <td>serie_res_220d220p</td>\n",
              "    </tr>\n",
              "    <tr>\n",
              "      <th>2018-10-01</th>\n",
              "      <td>serie_res_220d220p</td>\n",
              "      <td>serie_res_220d220p</td>\n",
              "      <td>serie_res_220d220p</td>\n",
              "      <td>serie_res_220d220p</td>\n",
              "      <td>serie_res_220d220p</td>\n",
              "      <td>serie_res_220d220p</td>\n",
              "      <td>serie_res_220d220p</td>\n",
              "    </tr>\n",
              "  </tbody>\n",
              "</table>\n",
              "<p>2742 rows × 7 columns</p>\n",
              "</div>"
            ],
            "text/plain": [
              "                       suma_5p            suma_10p            suma_20p  \\\n",
              "Date                                                                     \n",
              "2008-01-02                 NaN                 NaN                 NaN   \n",
              "2008-01-03                 NaN                 NaN                 NaN   \n",
              "2008-01-04                 NaN                 NaN                 NaN   \n",
              "2008-01-07                 NaN                 NaN                 NaN   \n",
              "2008-01-08                 NaN                 NaN                 NaN   \n",
              "2008-01-09  serie_res_220d220p                 NaN                 NaN   \n",
              "2008-01-10  serie_res_220d220p                 NaN                 NaN   \n",
              "2008-01-11  serie_res_220d220p                 NaN                 NaN   \n",
              "2008-01-14  serie_res_220d220p                 NaN                 NaN   \n",
              "2008-01-15  serie_res_220d220p                 NaN                 NaN   \n",
              "2008-01-16  serie_res_220d220p  serie_res_220d220p                 NaN   \n",
              "2008-01-17  serie_res_220d220p  serie_res_220d220p                 NaN   \n",
              "2008-01-18  serie_res_220d220p  serie_res_220d220p                 NaN   \n",
              "2008-01-21  serie_res_220d220p  serie_res_220d220p                 NaN   \n",
              "2008-01-22  serie_res_220d220p  serie_res_220d220p                 NaN   \n",
              "2008-01-23  serie_res_220d220p  serie_res_220d220p                 NaN   \n",
              "2008-01-24  serie_res_220d220p  serie_res_220d220p                 NaN   \n",
              "2008-01-25  serie_res_220d220p  serie_res_220d220p                 NaN   \n",
              "2008-01-28  serie_res_220d220p  serie_res_220d220p                 NaN   \n",
              "2008-01-29  serie_res_220d220p  serie_res_220d220p                 NaN   \n",
              "2008-01-30  serie_res_220d220p  serie_res_220d220p  serie_res_220d220p   \n",
              "2008-01-31  serie_res_220d220p  serie_res_220d220p  serie_res_220d220p   \n",
              "2008-02-01  serie_res_220d220p  serie_res_220d220p  serie_res_220d220p   \n",
              "2008-02-04  serie_res_220d220p  serie_res_220d220p  serie_res_220d220p   \n",
              "2008-02-05  serie_res_220d220p  serie_res_220d220p  serie_res_220d220p   \n",
              "2008-02-06  serie_res_220d220p  serie_res_220d220p  serie_res_220d220p   \n",
              "2008-02-07  serie_res_220d220p  serie_res_220d220p  serie_res_220d220p   \n",
              "2008-02-08  serie_res_220d220p  serie_res_220d220p  serie_res_220d220p   \n",
              "2008-02-11  serie_res_220d220p  serie_res_220d220p  serie_res_220d220p   \n",
              "2008-02-12  serie_res_220d220p  serie_res_220d220p  serie_res_220d220p   \n",
              "...                        ...                 ...                 ...   \n",
              "2018-08-14   serie_res_40d220p   serie_res_40d220p   serie_res_40d220p   \n",
              "2018-08-15   serie_res_40d220p   serie_res_40d220p   serie_res_40d220p   \n",
              "2018-08-16   serie_res_40d220p   serie_res_40d220p   serie_res_40d220p   \n",
              "2018-08-17   serie_res_40d220p   serie_res_40d220p   serie_res_40d220p   \n",
              "2018-08-20   serie_res_40d220p   serie_res_40d220p   serie_res_40d220p   \n",
              "2018-08-21   serie_res_40d220p   serie_res_40d220p   serie_res_40d220p   \n",
              "2018-08-22  serie_res_220d220p   serie_res_40d220p   serie_res_40d220p   \n",
              "2018-08-23  serie_res_220d220p   serie_res_40d220p   serie_res_40d220p   \n",
              "2018-08-24  serie_res_220d220p   serie_res_40d220p   serie_res_40d220p   \n",
              "2018-08-27  serie_res_220d220p   serie_res_40d220p   serie_res_40d220p   \n",
              "2018-08-28  serie_res_220d220p  serie_res_220d220p   serie_res_40d220p   \n",
              "2018-08-29  serie_res_220d220p  serie_res_220d220p   serie_res_40d220p   \n",
              "2018-08-30  serie_res_220d220p  serie_res_220d220p   serie_res_40d220p   \n",
              "2018-08-31  serie_res_220d220p  serie_res_220d220p   serie_res_40d220p   \n",
              "2018-09-03  serie_res_220d220p  serie_res_220d220p   serie_res_40d220p   \n",
              "2018-09-04  serie_res_220d220p  serie_res_220d220p   serie_res_40d220p   \n",
              "2018-09-05   serie_res_40d220p  serie_res_220d220p   serie_res_40d220p   \n",
              "2018-09-06   serie_res_40d220p   serie_res_40d220p   serie_res_40d220p   \n",
              "2018-09-07   serie_res_40d220p   serie_res_40d220p   serie_res_40d220p   \n",
              "2018-09-10   serie_res_40d220p   serie_res_40d220p   serie_res_40d220p   \n",
              "2018-09-11   serie_res_40d220p  serie_res_220d220p  serie_res_220d220p   \n",
              "2018-09-12  serie_res_220d220p  serie_res_220d220p  serie_res_220d220p   \n",
              "2018-09-13  serie_res_220d220p  serie_res_220d220p  serie_res_220d220p   \n",
              "2018-09-14  serie_res_220d220p  serie_res_220d220p  serie_res_220d220p   \n",
              "2018-09-24  serie_res_220d220p  serie_res_220d220p  serie_res_220d220p   \n",
              "2018-09-25  serie_res_220d220p  serie_res_220d220p  serie_res_220d220p   \n",
              "2018-09-26  serie_res_220d220p  serie_res_220d220p  serie_res_220d220p   \n",
              "2018-09-27  serie_res_220d220p  serie_res_220d220p  serie_res_220d220p   \n",
              "2018-09-28  serie_res_220d220p  serie_res_220d220p  serie_res_220d220p   \n",
              "2018-10-01  serie_res_220d220p  serie_res_220d220p  serie_res_220d220p   \n",
              "\n",
              "                      suma_40p            suma_60p           suma_110p  \\\n",
              "Date                                                                     \n",
              "2008-01-02                 NaN                 NaN                 NaN   \n",
              "2008-01-03                 NaN                 NaN                 NaN   \n",
              "2008-01-04                 NaN                 NaN                 NaN   \n",
              "2008-01-07                 NaN                 NaN                 NaN   \n",
              "2008-01-08                 NaN                 NaN                 NaN   \n",
              "2008-01-09                 NaN                 NaN                 NaN   \n",
              "2008-01-10                 NaN                 NaN                 NaN   \n",
              "2008-01-11                 NaN                 NaN                 NaN   \n",
              "2008-01-14                 NaN                 NaN                 NaN   \n",
              "2008-01-15                 NaN                 NaN                 NaN   \n",
              "2008-01-16                 NaN                 NaN                 NaN   \n",
              "2008-01-17                 NaN                 NaN                 NaN   \n",
              "2008-01-18                 NaN                 NaN                 NaN   \n",
              "2008-01-21                 NaN                 NaN                 NaN   \n",
              "2008-01-22                 NaN                 NaN                 NaN   \n",
              "2008-01-23                 NaN                 NaN                 NaN   \n",
              "2008-01-24                 NaN                 NaN                 NaN   \n",
              "2008-01-25                 NaN                 NaN                 NaN   \n",
              "2008-01-28                 NaN                 NaN                 NaN   \n",
              "2008-01-29                 NaN                 NaN                 NaN   \n",
              "2008-01-30                 NaN                 NaN                 NaN   \n",
              "2008-01-31                 NaN                 NaN                 NaN   \n",
              "2008-02-01                 NaN                 NaN                 NaN   \n",
              "2008-02-04                 NaN                 NaN                 NaN   \n",
              "2008-02-05                 NaN                 NaN                 NaN   \n",
              "2008-02-06                 NaN                 NaN                 NaN   \n",
              "2008-02-07                 NaN                 NaN                 NaN   \n",
              "2008-02-08                 NaN                 NaN                 NaN   \n",
              "2008-02-11                 NaN                 NaN                 NaN   \n",
              "2008-02-12                 NaN                 NaN                 NaN   \n",
              "...                        ...                 ...                 ...   \n",
              "2018-08-14   serie_res_40d220p  serie_res_220d220p  serie_res_220d220p   \n",
              "2018-08-15   serie_res_40d220p   serie_res_40d220p  serie_res_220d220p   \n",
              "2018-08-16  serie_res_220d220p  serie_res_220d220p  serie_res_220d220p   \n",
              "2018-08-17   serie_res_40d220p  serie_res_220d220p  serie_res_220d220p   \n",
              "2018-08-20   serie_res_40d220p  serie_res_220d220p  serie_res_220d220p   \n",
              "2018-08-21   serie_res_40d220p  serie_res_220d220p  serie_res_220d220p   \n",
              "2018-08-22   serie_res_40d220p  serie_res_220d220p  serie_res_220d220p   \n",
              "2018-08-23   serie_res_40d220p  serie_res_220d220p  serie_res_220d220p   \n",
              "2018-08-24   serie_res_40d220p  serie_res_220d220p  serie_res_220d220p   \n",
              "2018-08-27   serie_res_40d220p  serie_res_220d220p  serie_res_220d220p   \n",
              "2018-08-28   serie_res_40d220p  serie_res_220d220p  serie_res_220d220p   \n",
              "2018-08-29   serie_res_40d220p  serie_res_220d220p  serie_res_220d220p   \n",
              "2018-08-30   serie_res_40d220p   serie_res_40d220p  serie_res_220d220p   \n",
              "2018-08-31   serie_res_40d220p   serie_res_40d220p  serie_res_220d220p   \n",
              "2018-09-03   serie_res_40d220p   serie_res_40d220p  serie_res_220d220p   \n",
              "2018-09-04   serie_res_40d220p   serie_res_40d220p  serie_res_220d220p   \n",
              "2018-09-05   serie_res_40d220p   serie_res_40d220p  serie_res_220d220p   \n",
              "2018-09-06   serie_res_40d220p   serie_res_40d220p  serie_res_220d220p   \n",
              "2018-09-07   serie_res_40d220p   serie_res_40d220p  serie_res_220d220p   \n",
              "2018-09-10   serie_res_40d220p   serie_res_40d220p  serie_res_220d220p   \n",
              "2018-09-11   serie_res_40d220p  serie_res_220d220p  serie_res_220d220p   \n",
              "2018-09-12  serie_res_220d220p  serie_res_220d220p  serie_res_220d220p   \n",
              "2018-09-13  serie_res_220d220p  serie_res_220d220p  serie_res_220d220p   \n",
              "2018-09-14  serie_res_220d220p  serie_res_220d220p  serie_res_220d220p   \n",
              "2018-09-24   serie_res_40d220p  serie_res_220d220p  serie_res_220d220p   \n",
              "2018-09-25  serie_res_220d220p  serie_res_220d220p  serie_res_220d220p   \n",
              "2018-09-26  serie_res_220d220p  serie_res_220d220p  serie_res_220d220p   \n",
              "2018-09-27  serie_res_220d220p  serie_res_220d220p  serie_res_220d220p   \n",
              "2018-09-28  serie_res_220d220p  serie_res_220d220p  serie_res_220d220p   \n",
              "2018-10-01  serie_res_220d220p  serie_res_220d220p  serie_res_220d220p   \n",
              "\n",
              "                     suma_220p  \n",
              "Date                            \n",
              "2008-01-02                 NaN  \n",
              "2008-01-03                 NaN  \n",
              "2008-01-04                 NaN  \n",
              "2008-01-07                 NaN  \n",
              "2008-01-08                 NaN  \n",
              "2008-01-09                 NaN  \n",
              "2008-01-10                 NaN  \n",
              "2008-01-11                 NaN  \n",
              "2008-01-14                 NaN  \n",
              "2008-01-15                 NaN  \n",
              "2008-01-16                 NaN  \n",
              "2008-01-17                 NaN  \n",
              "2008-01-18                 NaN  \n",
              "2008-01-21                 NaN  \n",
              "2008-01-22                 NaN  \n",
              "2008-01-23                 NaN  \n",
              "2008-01-24                 NaN  \n",
              "2008-01-25                 NaN  \n",
              "2008-01-28                 NaN  \n",
              "2008-01-29                 NaN  \n",
              "2008-01-30                 NaN  \n",
              "2008-01-31                 NaN  \n",
              "2008-02-01                 NaN  \n",
              "2008-02-04                 NaN  \n",
              "2008-02-05                 NaN  \n",
              "2008-02-06                 NaN  \n",
              "2008-02-07                 NaN  \n",
              "2008-02-08                 NaN  \n",
              "2008-02-11                 NaN  \n",
              "2008-02-12                 NaN  \n",
              "...                        ...  \n",
              "2018-08-14  serie_res_220d220p  \n",
              "2018-08-15   serie_res_40d220p  \n",
              "2018-08-16   serie_res_40d220p  \n",
              "2018-08-17   serie_res_40d220p  \n",
              "2018-08-20  serie_res_220d220p  \n",
              "2018-08-21  serie_res_220d220p  \n",
              "2018-08-22  serie_res_220d220p  \n",
              "2018-08-23  serie_res_220d220p  \n",
              "2018-08-24  serie_res_220d220p  \n",
              "2018-08-27  serie_res_220d220p  \n",
              "2018-08-28  serie_res_220d220p  \n",
              "2018-08-29  serie_res_220d220p  \n",
              "2018-08-30  serie_res_220d220p  \n",
              "2018-08-31  serie_res_220d220p  \n",
              "2018-09-03  serie_res_220d220p  \n",
              "2018-09-04  serie_res_220d220p  \n",
              "2018-09-05  serie_res_220d220p  \n",
              "2018-09-06  serie_res_220d220p  \n",
              "2018-09-07  serie_res_220d220p  \n",
              "2018-09-10  serie_res_220d220p  \n",
              "2018-09-11  serie_res_220d220p  \n",
              "2018-09-12  serie_res_220d220p  \n",
              "2018-09-13  serie_res_220d220p  \n",
              "2018-09-14  serie_res_220d220p  \n",
              "2018-09-24  serie_res_220d220p  \n",
              "2018-09-25  serie_res_220d220p  \n",
              "2018-09-26  serie_res_220d220p  \n",
              "2018-09-27  serie_res_220d220p  \n",
              "2018-09-28  serie_res_220d220p  \n",
              "2018-10-01  serie_res_220d220p  \n",
              "\n",
              "[2742 rows x 7 columns]"
            ]
          },
          "metadata": {
            "tags": []
          },
          "execution_count": 47
        }
      ]
    },
    {
      "metadata": {
        "id": "6eOmxTne0Xnh",
        "colab_type": "code",
        "colab": {}
      },
      "cell_type": "code",
      "source": [
        "for periodo in periodos:\n",
        "    nombre='sumatorio_{}p'.format(periodo)\n",
        "    nombre2='suma_{}p'.format(periodo)\n",
        "    cum_daily_return[nombre]=np.zeros(len(cum_daily_return))\n",
        "\n",
        "    for numbre in seleccion:\n",
        "      nombre3='{}'.format(numbre)\n",
        "      nombre4='{}_l'.format(numbre)\n",
        "      cum_daily_return[nombre]=np.where(cum_daily_return[nombre2].shift()==nombre3,cum_diario_log_retornos[nombre4],cum_daily_return[nombre])\n"
      ],
      "execution_count": 0,
      "outputs": []
    },
    {
      "metadata": {
        "id": "UuamtxNB7aM1",
        "colab_type": "code",
        "colab": {
          "base_uri": "https://localhost:8080/",
          "height": 480
        },
        "outputId": "80105002-b96a-4121-f8da-a9a414efa67d"
      },
      "cell_type": "code",
      "source": [
        "selsuma=[x for x  in cum_daily_return.filter(like='sumatorio',axis=1).columns]\n",
        "selsumados=[ 'sel{}'.format(x) for x  in cum_daily_return.filter(like='sumatorio',axis=1).columns]\n",
        "\n",
        "for row in selsuma:\n",
        "  cum_daily_return['sel{}'.format(row)]=np.exp(cum_daily_return[row].cumsum().fillna(0))\n",
        "  \n",
        "cum_daily_return[selsumados].plot(figsize=(16,8))"
      ],
      "execution_count": 49,
      "outputs": [
        {
          "output_type": "execute_result",
          "data": {
            "text/plain": [
              "<matplotlib.axes._subplots.AxesSubplot at 0x7f624d0cf588>"
            ]
          },
          "metadata": {
            "tags": []
          },
          "execution_count": 49
        },
        {
          "output_type": "display_data",
          "data": {
            "image/png": "[encoded data removed]",
            "text/plain": [
              "<matplotlib.figure.Figure at 0x7f624d0cf7b8>"
            ]
          },
          "metadata": {
            "tags": []
          }
        }
      ]
    },
    {
      "metadata": {
        "id": "J0HnfN-l-WpL",
        "colab_type": "code",
        "colab": {
          "base_uri": "https://localhost:8080/"
        },
        "outputId": "89f01b7a-5a5f-4aec-fc06-ba680b83c7fb"
      },
      "cell_type": "code",
      "source": [
        "perf=cum_daily_return[selsumados].dropna().calc_stats()\n"
      ],
      "execution_count": 50,
      "outputs": [
        {
          "output_type": "stream",
          "text": [
            "/usr/local/lib/python3.6/dist-packages/ffn/core.py:2056: RuntimeWarning: divide by zero encountered in true_divide\n",
            "  res = np.divide(er.mean(), std)\n"
          ],
          "name": "stderr"
        }
      ]
    },
    {
      "metadata": {
        "id": "hjO4vttkDSGu",
        "colab_type": "code",
        "colab": {
          "base_uri": "https://localhost:8080/",
          "height": 69
        },
        "outputId": "eb2ebf58-846d-4b20-fa31-a05683872a55"
      },
      "cell_type": "code",
      "source": [
        "resultados=perf.stats.T\n",
        "#print (resultados.columns)\n",
        "resultados[datos][resultados.cagr>.2]\n"
      ],
      "execution_count": 51,
      "outputs": [
        {
          "output_type": "execute_result",
          "data": {
            "text/html": [
              "<div>\n",
              "<style scoped>\n",
              "    .dataframe tbody tr th:only-of-type {\n",
              "        vertical-align: middle;\n",
              "    }\n",
              "\n",
              "    .dataframe tbody tr th {\n",
              "        vertical-align: top;\n",
              "    }\n",
              "\n",
              "    .dataframe thead th {\n",
              "        text-align: right;\n",
              "    }\n",
              "</style>\n",
              "<table border=\"1\" class=\"dataframe\">\n",
              "  <thead>\n",
              "    <tr style=\"text-align: right;\">\n",
              "      <th></th>\n",
              "      <th>total_return</th>\n",
              "      <th>cagr</th>\n",
              "      <th>max_drawdown</th>\n",
              "      <th>calmar</th>\n",
              "      <th>daily_sharpe</th>\n",
              "      <th>daily_sortino</th>\n",
              "      <th>monthly_sharpe</th>\n",
              "      <th>monthly_sortino</th>\n",
              "      <th>best_month</th>\n",
              "      <th>worst_month</th>\n",
              "      <th>yearly_sharpe</th>\n",
              "      <th>best_year</th>\n",
              "      <th>worst_year</th>\n",
              "      <th>avg_drawdown</th>\n",
              "      <th>avg_drawdown_days</th>\n",
              "      <th>avg_up_month</th>\n",
              "      <th>avg_down_month</th>\n",
              "      <th>win_year_perc</th>\n",
              "      <th>twelve_month_win_perc</th>\n",
              "    </tr>\n",
              "  </thead>\n",
              "  <tbody>\n",
              "  </tbody>\n",
              "</table>\n",
              "</div>"
            ],
            "text/plain": [
              "Empty DataFrame\n",
              "Columns: [total_return, cagr, max_drawdown, calmar, daily_sharpe, daily_sortino, monthly_sharpe, monthly_sortino, best_month, worst_month, yearly_sharpe, best_year, worst_year, avg_drawdown, avg_drawdown_days, avg_up_month, avg_down_month, win_year_perc, twelve_month_win_perc]\n",
              "Index: []"
            ]
          },
          "metadata": {
            "tags": []
          },
          "execution_count": 51
        }
      ]
    },
    {
      "metadata": {
        "id": "sJHIHY68DvDV",
        "colab_type": "code",
        "colab": {
          "base_uri": "https://localhost:8080/",
          "height": 224
        },
        "outputId": "85942b3a-6db8-4aed-daa4-640539347e25"
      },
      "cell_type": "code",
      "source": [
        "resultados[datos][resultados.monthly_sharpe>.9]"
      ],
      "execution_count": 52,
      "outputs": [
        {
          "output_type": "execute_result",
          "data": {
            "text/html": [
              "<div>\n",
              "<style scoped>\n",
              "    .dataframe tbody tr th:only-of-type {\n",
              "        vertical-align: middle;\n",
              "    }\n",
              "\n",
              "    .dataframe tbody tr th {\n",
              "        vertical-align: top;\n",
              "    }\n",
              "\n",
              "    .dataframe thead th {\n",
              "        text-align: right;\n",
              "    }\n",
              "</style>\n",
              "<table border=\"1\" class=\"dataframe\">\n",
              "  <thead>\n",
              "    <tr style=\"text-align: right;\">\n",
              "      <th></th>\n",
              "      <th>total_return</th>\n",
              "      <th>cagr</th>\n",
              "      <th>max_drawdown</th>\n",
              "      <th>calmar</th>\n",
              "      <th>daily_sharpe</th>\n",
              "      <th>daily_sortino</th>\n",
              "      <th>monthly_sharpe</th>\n",
              "      <th>monthly_sortino</th>\n",
              "      <th>best_month</th>\n",
              "      <th>worst_month</th>\n",
              "      <th>yearly_sharpe</th>\n",
              "      <th>best_year</th>\n",
              "      <th>worst_year</th>\n",
              "      <th>avg_drawdown</th>\n",
              "      <th>avg_drawdown_days</th>\n",
              "      <th>avg_up_month</th>\n",
              "      <th>avg_down_month</th>\n",
              "      <th>win_year_perc</th>\n",
              "      <th>twelve_month_win_perc</th>\n",
              "    </tr>\n",
              "  </thead>\n",
              "  <tbody>\n",
              "    <tr>\n",
              "      <th>selsumatorio_110p</th>\n",
              "      <td>5.03735</td>\n",
              "      <td>0.182125</td>\n",
              "      <td>-0.2726</td>\n",
              "      <td>0.668103</td>\n",
              "      <td>0.855195</td>\n",
              "      <td>1.48746</td>\n",
              "      <td>1.03744</td>\n",
              "      <td>2.32243</td>\n",
              "      <td>0.220144</td>\n",
              "      <td>-0.136262</td>\n",
              "      <td>0.842461</td>\n",
              "      <td>0.850562</td>\n",
              "      <td>-0.00909007</td>\n",
              "      <td>-0.0413316</td>\n",
              "      <td>24.7661</td>\n",
              "      <td>0.046564</td>\n",
              "      <td>-0.0229968</td>\n",
              "      <td>0.9</td>\n",
              "      <td>0.789916</td>\n",
              "    </tr>\n",
              "    <tr>\n",
              "      <th>selsumatorio_20p</th>\n",
              "      <td>3.80227</td>\n",
              "      <td>0.157214</td>\n",
              "      <td>-0.267946</td>\n",
              "      <td>0.586738</td>\n",
              "      <td>0.760403</td>\n",
              "      <td>1.32637</td>\n",
              "      <td>0.918953</td>\n",
              "      <td>2.08381</td>\n",
              "      <td>0.220144</td>\n",
              "      <td>-0.139754</td>\n",
              "      <td>0.722063</td>\n",
              "      <td>0.850562</td>\n",
              "      <td>-0.067127</td>\n",
              "      <td>-0.047987</td>\n",
              "      <td>32.43</td>\n",
              "      <td>0.0483513</td>\n",
              "      <td>-0.0219415</td>\n",
              "      <td>0.8</td>\n",
              "      <td>0.789916</td>\n",
              "    </tr>\n",
              "    <tr>\n",
              "      <th>selsumatorio_40p</th>\n",
              "      <td>4.97658</td>\n",
              "      <td>0.181013</td>\n",
              "      <td>-0.269856</td>\n",
              "      <td>0.670775</td>\n",
              "      <td>0.847887</td>\n",
              "      <td>1.47787</td>\n",
              "      <td>1.04592</td>\n",
              "      <td>2.37114</td>\n",
              "      <td>0.220144</td>\n",
              "      <td>-0.139754</td>\n",
              "      <td>0.863885</td>\n",
              "      <td>0.850562</td>\n",
              "      <td>-0.00131334</td>\n",
              "      <td>-0.0437656</td>\n",
              "      <td>28.5446</td>\n",
              "      <td>0.0467359</td>\n",
              "      <td>-0.0222815</td>\n",
              "      <td>0.9</td>\n",
              "      <td>0.781513</td>\n",
              "    </tr>\n",
              "    <tr>\n",
              "      <th>selsumatorio_5p</th>\n",
              "      <td>5.24031</td>\n",
              "      <td>0.185768</td>\n",
              "      <td>-0.242732</td>\n",
              "      <td>0.765323</td>\n",
              "      <td>0.863125</td>\n",
              "      <td>1.48748</td>\n",
              "      <td>1.00594</td>\n",
              "      <td>2.09384</td>\n",
              "      <td>0.220144</td>\n",
              "      <td>-0.175041</td>\n",
              "      <td>0.871483</td>\n",
              "      <td>0.850562</td>\n",
              "      <td>0.0021297</td>\n",
              "      <td>-0.0416361</td>\n",
              "      <td>31.3077</td>\n",
              "      <td>0.0500471</td>\n",
              "      <td>-0.026295</td>\n",
              "      <td>1</td>\n",
              "      <td>0.857143</td>\n",
              "    </tr>\n",
              "    <tr>\n",
              "      <th>selsumatorio_60p</th>\n",
              "      <td>4.68152</td>\n",
              "      <td>0.175462</td>\n",
              "      <td>-0.273443</td>\n",
              "      <td>0.641676</td>\n",
              "      <td>0.828012</td>\n",
              "      <td>1.43838</td>\n",
              "      <td>1.00596</td>\n",
              "      <td>2.24143</td>\n",
              "      <td>0.220144</td>\n",
              "      <td>-0.139754</td>\n",
              "      <td>0.818587</td>\n",
              "      <td>0.850562</td>\n",
              "      <td>-0.0472324</td>\n",
              "      <td>-0.0428511</td>\n",
              "      <td>27.8919</td>\n",
              "      <td>0.0457636</td>\n",
              "      <td>-0.0230853</td>\n",
              "      <td>0.9</td>\n",
              "      <td>0.781513</td>\n",
              "    </tr>\n",
              "  </tbody>\n",
              "</table>\n",
              "</div>"
            ],
            "text/plain": [
              "                  total_return      cagr max_drawdown    calmar daily_sharpe  \\\n",
              "selsumatorio_110p      5.03735  0.182125      -0.2726  0.668103     0.855195   \n",
              "selsumatorio_20p       3.80227  0.157214    -0.267946  0.586738     0.760403   \n",
              "selsumatorio_40p       4.97658  0.181013    -0.269856  0.670775     0.847887   \n",
              "selsumatorio_5p        5.24031  0.185768    -0.242732  0.765323     0.863125   \n",
              "selsumatorio_60p       4.68152  0.175462    -0.273443  0.641676     0.828012   \n",
              "\n",
              "                  daily_sortino monthly_sharpe monthly_sortino best_month  \\\n",
              "selsumatorio_110p       1.48746        1.03744         2.32243   0.220144   \n",
              "selsumatorio_20p        1.32637       0.918953         2.08381   0.220144   \n",
              "selsumatorio_40p        1.47787        1.04592         2.37114   0.220144   \n",
              "selsumatorio_5p         1.48748        1.00594         2.09384   0.220144   \n",
              "selsumatorio_60p        1.43838        1.00596         2.24143   0.220144   \n",
              "\n",
              "                  worst_month yearly_sharpe best_year  worst_year  \\\n",
              "selsumatorio_110p   -0.136262      0.842461  0.850562 -0.00909007   \n",
              "selsumatorio_20p    -0.139754      0.722063  0.850562   -0.067127   \n",
              "selsumatorio_40p    -0.139754      0.863885  0.850562 -0.00131334   \n",
              "selsumatorio_5p     -0.175041      0.871483  0.850562   0.0021297   \n",
              "selsumatorio_60p    -0.139754      0.818587  0.850562  -0.0472324   \n",
              "\n",
              "                  avg_drawdown avg_drawdown_days avg_up_month avg_down_month  \\\n",
              "selsumatorio_110p   -0.0413316           24.7661     0.046564     -0.0229968   \n",
              "selsumatorio_20p     -0.047987             32.43    0.0483513     -0.0219415   \n",
              "selsumatorio_40p    -0.0437656           28.5446    0.0467359     -0.0222815   \n",
              "selsumatorio_5p     -0.0416361           31.3077    0.0500471      -0.026295   \n",
              "selsumatorio_60p    -0.0428511           27.8919    0.0457636     -0.0230853   \n",
              "\n",
              "                  win_year_perc twelve_month_win_perc  \n",
              "selsumatorio_110p           0.9              0.789916  \n",
              "selsumatorio_20p            0.8              0.789916  \n",
              "selsumatorio_40p            0.9              0.781513  \n",
              "selsumatorio_5p               1              0.857143  \n",
              "selsumatorio_60p            0.9              0.781513  "
            ]
          },
          "metadata": {
            "tags": []
          },
          "execution_count": 52
        }
      ]
    },
    {
      "metadata": {
        "id": "taQ1QP0IEBdm",
        "colab_type": "code",
        "colab": {
          "base_uri": "https://localhost:8080/",
          "height": 100
        },
        "outputId": "39bc142c-ea55-4250-8ced-f1ea2a73d5cd"
      },
      "cell_type": "code",
      "source": [
        "resultados[datos][resultados.win_year_perc==1]"
      ],
      "execution_count": 53,
      "outputs": [
        {
          "output_type": "execute_result",
          "data": {
            "text/html": [
              "<div>\n",
              "<style scoped>\n",
              "    .dataframe tbody tr th:only-of-type {\n",
              "        vertical-align: middle;\n",
              "    }\n",
              "\n",
              "    .dataframe tbody tr th {\n",
              "        vertical-align: top;\n",
              "    }\n",
              "\n",
              "    .dataframe thead th {\n",
              "        text-align: right;\n",
              "    }\n",
              "</style>\n",
              "<table border=\"1\" class=\"dataframe\">\n",
              "  <thead>\n",
              "    <tr style=\"text-align: right;\">\n",
              "      <th></th>\n",
              "      <th>total_return</th>\n",
              "      <th>cagr</th>\n",
              "      <th>max_drawdown</th>\n",
              "      <th>calmar</th>\n",
              "      <th>daily_sharpe</th>\n",
              "      <th>daily_sortino</th>\n",
              "      <th>monthly_sharpe</th>\n",
              "      <th>monthly_sortino</th>\n",
              "      <th>best_month</th>\n",
              "      <th>worst_month</th>\n",
              "      <th>yearly_sharpe</th>\n",
              "      <th>best_year</th>\n",
              "      <th>worst_year</th>\n",
              "      <th>avg_drawdown</th>\n",
              "      <th>avg_drawdown_days</th>\n",
              "      <th>avg_up_month</th>\n",
              "      <th>avg_down_month</th>\n",
              "      <th>win_year_perc</th>\n",
              "      <th>twelve_month_win_perc</th>\n",
              "    </tr>\n",
              "  </thead>\n",
              "  <tbody>\n",
              "    <tr>\n",
              "      <th>selsumatorio_5p</th>\n",
              "      <td>5.24031</td>\n",
              "      <td>0.185768</td>\n",
              "      <td>-0.242732</td>\n",
              "      <td>0.765323</td>\n",
              "      <td>0.863125</td>\n",
              "      <td>1.48748</td>\n",
              "      <td>1.00594</td>\n",
              "      <td>2.09384</td>\n",
              "      <td>0.220144</td>\n",
              "      <td>-0.175041</td>\n",
              "      <td>0.871483</td>\n",
              "      <td>0.850562</td>\n",
              "      <td>0.0021297</td>\n",
              "      <td>-0.0416361</td>\n",
              "      <td>31.3077</td>\n",
              "      <td>0.0500471</td>\n",
              "      <td>-0.026295</td>\n",
              "      <td>1</td>\n",
              "      <td>0.857143</td>\n",
              "    </tr>\n",
              "  </tbody>\n",
              "</table>\n",
              "</div>"
            ],
            "text/plain": [
              "                total_return      cagr max_drawdown    calmar daily_sharpe  \\\n",
              "selsumatorio_5p      5.24031  0.185768    -0.242732  0.765323     0.863125   \n",
              "\n",
              "                daily_sortino monthly_sharpe monthly_sortino best_month  \\\n",
              "selsumatorio_5p       1.48748        1.00594         2.09384   0.220144   \n",
              "\n",
              "                worst_month yearly_sharpe best_year worst_year avg_drawdown  \\\n",
              "selsumatorio_5p   -0.175041      0.871483  0.850562  0.0021297   -0.0416361   \n",
              "\n",
              "                avg_drawdown_days avg_up_month avg_down_month win_year_perc  \\\n",
              "selsumatorio_5p           31.3077    0.0500471      -0.026295             1   \n",
              "\n",
              "                twelve_month_win_perc  \n",
              "selsumatorio_5p              0.857143  "
            ]
          },
          "metadata": {
            "tags": []
          },
          "execution_count": 53
        }
      ]
    },
    {
      "metadata": {
        "id": "ta79PWnp7-k9",
        "colab_type": "code",
        "colab": {
          "base_uri": "https://localhost:8080/",
          "height": 2278
        },
        "outputId": "a4e2463a-8c81-4f15-a23a-8c5520956b8a"
      },
      "cell_type": "code",
      "source": [
        "for n in selsumados:\n",
        "  print('******',n,'*******\\n\\n')\n",
        "  perf[n].display_monthly_returns()\n",
        "  print('\\n\\n')"
      ],
      "execution_count": 55,
      "outputs": [
        {
          "output_type": "stream",
          "text": [
            "****** selsumatorio_5p *******\n",
            "\n",
            "\n",
            "  Year    Jan     Feb    Mar    Apr    May    Jun    Jul    Aug    Sep    Oct    Nov     Dec    YTD\n",
            "------  -----  ------  -----  -----  -----  -----  -----  -----  -----  -----  -----  ------  -----\n",
            "  2008   0       0      0      0      0      0      0      0      0      0      0       0      0\n",
            "  2009   0       0      5.39  10.72   0      0      0.33   3.71  -3.73   5.57   7.17    4.91  38.72\n",
            "  2010   6.63  -17.5   11.12  -3.8    1.77   3.68   7.78   3.74  10.67   2.99   1.94   -3.5   24.39\n",
            "  2011   0.19    3.75  -6.56   6.39   6.16  -0.52  -1.04  -6.08   8.53  -3.59   0.57    0.4    7.14\n",
            "  2012   5.4     3.91   3.62  -5.39   5.31  22.01   2.82   5.46   9.3    1.87  10.98    0.09  85.06\n",
            "  2013  -2.18   -0.53   0.73  -1.31  -0.38  -5.56   6.75  -1.99  12.92  13.13  -1.94   -0.84  18.26\n",
            "  2014  -0.84    0.22  -0.89   3.79   3.82   1.41   0.99   0.57   0.28  -5.58   3.14   -5.97   0.38\n",
            "  2015  10.25    7.46   6.39  -4.03   6.14  -3.33   6.93  -4.6    0.64  13.95   0.29  -12.63  27.21\n",
            "  2016   2.13   -1.14   0      0      0      0     -3.72   4.38  -1.83   4.63  -6.93    9.13   5.86\n",
            "  2017   6.7    -0.02  10.37   4.69  -3.44  -4.53   1.36  -4.47   8.21  -2.55  -8.34   -5.74   0.21\n",
            "  2018   2.19    0.93  -5.01   9.22   3.53   2.06   0.68  -0.44   0.05   0.41   0       0     13.85\n",
            "\n",
            "\n",
            "\n",
            "****** selsumatorio_10p *******\n",
            "\n",
            "\n",
            "  Year    Jan     Feb    Mar    Apr    May     Jun    Jul    Aug    Sep    Oct    Nov     Dec    YTD\n",
            "------  -----  ------  -----  -----  -----  ------  -----  -----  -----  -----  -----  ------  -----\n",
            "  2008   0       0      0      0      0       0      0      0      0      0      0       0      0\n",
            "  2009   0       0      7.79  10.72   0       0      0.33   5.31   1.9    2.69   2.86   -2.75  31.97\n",
            "  2010   4.01  -12.97   9.56  -5.37   1.77    3.68   7.78   3.74  10.67   2.99   1.94   -3.5   24.15\n",
            "  2011   0.19    4.61  -7.71   6.58  11.73   -0.52  -1.04  -6.08   8.53  -3.59   0.57    0.4   12.51\n",
            "  2012   5.4     3.91   3.62  -5.39   5.31   22.01   2.82   5.46   9.3    1.87  10.98    0.09  85.06\n",
            "  2013  -2.18   -0.53   0.73  -1.31   0.17  -10.41   4.12  -3.67  13.01   8.88   2.04    0.17   9.49\n",
            "  2014  -4.11    2.43  -0.32   5.06   1.27    1.41   0.99   0.57   0.28  -5.58   3.14   -7.5   -3.08\n",
            "  2015  10.25    7.46   6.39  -4.03   6.14   -3.33   6.93  -4.6    0.64  13.95   0.29  -12.6   27.25\n",
            "  2016  -1.46   -1.14   0      0      0       0     -3.72   1.47  -0.62   4.63  -5.37    9.33   2.39\n",
            "  2017   0.08   -2.02   9.39   4.69  -3.44   -4.53   1.36  -4.47   8.21  -2.55  -8.44   -1.87  -5.05\n",
            "  2018   1.38   -1.03  -8.84   8.87   3.53   -2.07   0.87  -2.38   1.05   0.41   0       0      0.87\n",
            "\n",
            "\n",
            "\n",
            "****** selsumatorio_20p *******\n",
            "\n",
            "\n",
            "  Year    Jan    Feb    Mar    Apr    May    Jun    Jul    Aug    Sep    Oct    Nov     Dec    YTD\n",
            "------  -----  -----  -----  -----  -----  -----  -----  -----  -----  -----  -----  ------  -----\n",
            "  2008   0      0      0      0      0      0      0      0      0      0      0       0      0\n",
            "  2009   0      0      0      5.81   0      0      0.33   7.13   2.47  -0.05   2.86   -0.97  18.66\n",
            "  2010   0.41  -5.09  12.59  -4.46   1.77   3.68   7.78   3.74  10.67   2.99   1.94   -3.5   35.61\n",
            "  2011   0.19   5.9   -4.21   6.92  11.73  -0.52  -1.1   -6.08   8.53  -3.59   0.57    0.4   18.52\n",
            "  2012   5.4    3.91   3.62  -5.39   5.31  22.01   2.82   5.46   9.3    1.87  10.98    0.09  85.06\n",
            "  2013  -2.18  -0.53   0.73  -1.31  -2.02  -7.72   5.65  -3.55  12.67   1.56  -0.5    -0.92   0.54\n",
            "  2014  -0.14   2.43  -0.33   5.31  -0.09   1.41   0.99   0.57   0.28  -5.58   3.14   -7.5   -0.2\n",
            "  2015  10.25   7.46   6.39  -4.03   6.14  -3.33   6.93  -4.6    0.64  13.95   0.29  -13.98  25.26\n",
            "  2016  -3.5    0      0      0      0      0     -3.72  -1.23  -3.02   4.63  -3.21   11.1    0.13\n",
            "  2017   1.56   0.15   9.39   4.07  -3.44  -4.53   1.36  -4.47   8.21  -2.55  -8.34   -6.59  -6.71\n",
            "  2018  -0.03  -0.7    0      9.31   3.53   0.39   1.7   -1.81   2.51   0.41   0       0     15.91\n",
            "\n",
            "\n",
            "\n",
            "****** selsumatorio_40p *******\n",
            "\n",
            "\n",
            "  Year    Jan    Feb    Mar    Apr    May    Jun    Jul    Aug    Sep    Oct    Nov     Dec    YTD\n",
            "------  -----  -----  -----  -----  -----  -----  -----  -----  -----  -----  -----  ------  -----\n",
            "  2008   0      0      0      0      0      0      0      0      0      0      0       0      0\n",
            "  2009   0      0      0     -0.78   0      0      0.33   7.13   2.47  -0.05   3.55   -0.97  12.02\n",
            "  2010   1.67  -5.09  12.69  -4.46   1.77   3.68   7.78   3.74  10.67   2.99   1.94   -3.5   37.43\n",
            "  2011   0.19   5.9   -2.57   3.21  11.73  -0.52   0.48  -6.08   8.53  -1.06   0.57    0.4   21.32\n",
            "  2012   5.4    3.91   3.62  -5.39   5.31  22.01   2.82   5.46   9.3    1.87  10.98    0.09  85.06\n",
            "  2013  -2.18  -0.53   0.73  -1.31  -2.02  -9.49   5.65  -3.47  12.67   4.23   1.83    2.09   6.81\n",
            "  2014  -0.14   2.43   5.41   5.31   4.98   1.41   0.99   0.57   0.28  -5.58   3.14   -7.5   10.9\n",
            "  2015  10.25   7.46   6.39  -4.03   6.14  -3.33   6.93  -4.6    0.64  13.95   0.29  -13.98  25.26\n",
            "  2016  -3.5    0      0      0      0      0     -3.72  -1.23  -4.27   5.71  -3.21   11.1   -0.13\n",
            "  2017   4.69   0.1    9.75   6.18  -3.44   0.19   1.36  -4.47   8.21  -2.55  -8.34   -3.83   6.32\n",
            "  2018   0.03  -1.49   0      5.84   2.87   3.49   1.25  -1.55  -1.24   0.41   0       0      9.77\n",
            "\n",
            "\n",
            "\n",
            "****** selsumatorio_60p *******\n",
            "\n",
            "\n",
            "  Year    Jan    Feb    Mar    Apr    May    Jun    Jul    Aug    Sep    Oct    Nov     Dec    YTD\n",
            "------  -----  -----  -----  -----  -----  -----  -----  -----  -----  -----  -----  ------  -----\n",
            "  2008   0      0      0      0      0      0      0      0      0      0      0       0      0\n",
            "  2009   0      0      0      0      0      0      0.33   7.13   2.47  -0.05   1.12    1.05  12.5\n",
            "  2010   1.67  -5.09  12.69  -4.46   4.09   3.68   7.78   3.74  10.67   2.99   1.94   -3.5   40.57\n",
            "  2011   0.19   5.9   -1.76   1.25  11.73  -0.52   0.48  -6.08   8.53  -1.06   0.57    0.4   20\n",
            "  2012   5.4    3.91   3.62  -5.39   5.31  22.01   2.82   5.46   9.3    1.87  10.98    0.09  85.06\n",
            "  2013  -2.18  -0.53   0.73  -1.31  -2.02  -9.49   5.65  -0.05  13.73   6.23   0.34    1.7   11.68\n",
            "  2014  -4.99   2.43   5.41   5.31   4.98   1.41   0.99   0.57   0.28  -5.58   3.14   -7.5    5.52\n",
            "  2015  10.25   7.46   6.39  -4.03   6.14  -3.33   6.93  -4.6    0.64  13.95   0.29  -13.98  25.26\n",
            "  2016  -3.5    0      0      0      0      0     -3.72  -1.23  -4.03   4.63  -6.93   11.1   -4.72\n",
            "  2017   4.69   0.1   11.47   6.18  -3.44   0.19   1.36  -4.47   8.21  -2.55  -8.34   -3.83   7.98\n",
            "  2018  -0.03  -2.16   0      0.28   3.59   2.82   1.25  -2.16   2.51   0.41   0       0      6.54\n",
            "\n",
            "\n",
            "\n",
            "****** selsumatorio_110p *******\n",
            "\n",
            "\n",
            "  Year    Jan    Feb    Mar    Apr    May    Jun    Jul    Aug    Sep    Oct    Nov     Dec    YTD\n",
            "------  -----  -----  -----  -----  -----  -----  -----  -----  -----  -----  -----  ------  -----\n",
            "  2008   0      0      0      0      0      0      0      0      0      0      0       0      0\n",
            "  2009   0      0      0      0      0      0      2.68   7.13   2.47  -0.05   4.99    1.23  19.74\n",
            "  2010   3.37  -5.09  12.69  -4.46   4.09   3.68   7.78   3.74  10.67   2.99   1.94   -3.5   42.92\n",
            "  2011   0.19   5.9   -1.76   1.25  11.73  -0.52   0.48  -6.08   8.53  -1.88   0.57    0.4   19\n",
            "  2012   5.4    3.91   3.62  -5.39   5.31  22.01   2.82   5.46   9.3    1.87  10.98    0.09  85.06\n",
            "  2013  -2.18  -0.53   0.73  -1.31   0.17  -9.49   5.65  -0.05  13.73   6.23   0.34    2.09  14.62\n",
            "  2014  -7.95   0.51   5.41   5.31   4.98   1.41   0.99   0.57   0.28  -5.58   3.14   -7.5    0.3\n",
            "  2015  10.25   7.46   6.39  -4.03   6.14  -3.33   6.93  -4.6    0.64  13.95   0.29  -13.63  25.76\n",
            "  2016  -3.5    0      0      0      0      0     -3.72  -1.23  -4.03   4.63  -3.21   11.1   -0.91\n",
            "  2017   4.69   0.1   11.47   6.18  -3.44   0.19   1.36  -4.47   8.21  -2.55  -8.44   -3.83   7.87\n",
            "  2018  -0.03  -2.16   0     -1.44   2.52   2.03   1.25  -2.42   3.62   0.41   0       0      3.67\n",
            "\n",
            "\n",
            "\n",
            "****** selsumatorio_220p *******\n",
            "\n",
            "\n",
            "  Year     Jan    Feb    Mar    Apr    May    Jun    Jul    Aug    Sep    Oct    Nov     Dec     YTD\n",
            "------  ------  -----  -----  -----  -----  -----  -----  -----  -----  -----  -----  ------  ------\n",
            "  2008    0      0      0      0      0      0      0      0      0      0      0       0       0\n",
            "  2009    0      0      0      0      0      0      0      0.04   2.47  -0.05   4.99    0.87    8.51\n",
            "  2010  -10.82  -7.76  12.69  -4.46   4.09   3.68   7.78   3.74  10.67   2.99   1.94   -3.5    19.84\n",
            "  2011    0.19   5.9   -1.76   1.25  11.73  -0.52   0.48  -6.08   8.53  -0.44   0.57    0.4    20.75\n",
            "  2012    5.4    3.91   3.62  -5.39   5.31  22.01   2.82   5.46   9.3    1.87  10.98    0.09   85.06\n",
            "  2013   -2.18  -0.53   0.73  -1.31  -2.02  -9.49   5.65  -0.05  13.73   6.23   0.34    2.09   12.11\n",
            "  2014   -7.6   -6.66  -2.3    2.16   4.98   1.41   0.99   0.57   0.28  -5.58   3.14   -7.59  -16\n",
            "  2015    5.96   7.46   6.39  -4.03   6.14  -3.33   6.93  -4.6    0.64  13.95   0.29  -13.63   20.87\n",
            "  2016   -3.5    0      0      0      0      0     -7.45   3.92  -4.27   5.71  -6.93   11.1    -2.89\n",
            "  2017    4.69   0.1   11.47   6.18  -3.44   0.19   1.36  -4.47   8.21  -2.55  -8.98    0      11.5\n",
            "  2018    0      0      0     -0.19   3.53  -2.32   1.25  -3.1    3.62   0.41   0       0       3.04\n",
            "\n",
            "\n",
            "\n"
          ],
          "name": "stdout"
        }
      ]
    },
    {
      "metadata": {
        "id": "NNuPF3tCw50U",
        "colab_type": "code",
        "colab": {
          "base_uri": "https://localhost:8080/",
          "height": 34
        },
        "outputId": "c52d3c44-81b6-4197-dbe2-2305499e1185"
      },
      "cell_type": "code",
      "source": [
        "type(perf)"
      ],
      "execution_count": 56,
      "outputs": [
        {
          "output_type": "execute_result",
          "data": {
            "text/plain": [
              "ffn.core.GroupStats"
            ]
          },
          "metadata": {
            "tags": []
          },
          "execution_count": 56
        }
      ]
    },
    {
      "metadata": {
        "id": "AVSxip4TGXwz",
        "colab_type": "code",
        "colab": {}
      },
      "cell_type": "code",
      "source": [
        ""
      ],
      "execution_count": 0,
      "outputs": []
    }
  ]
}